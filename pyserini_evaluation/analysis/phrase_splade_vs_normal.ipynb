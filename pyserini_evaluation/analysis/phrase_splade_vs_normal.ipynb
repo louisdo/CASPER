{
 "cells": [
  {
   "cell_type": "code",
   "execution_count": 1,
   "metadata": {},
   "outputs": [
    {
     "name": "stderr",
     "output_type": "stream",
     "text": [
      "WARNING: Using incubator modules: jdk.incubator.vector\n",
      "/home/lamdo/.local/lib/python3.10/site-packages/tqdm/auto.py:21: TqdmWarning: IProgress not found. Please update jupyter and ipywidgets. See https://ipywidgets.readthedocs.io/en/stable/user_install.html\n",
      "  from .autonotebook import tqdm as notebook_tqdm\n"
     ]
    }
   ],
   "source": [
    "import json\n",
    "import pandas as pd\n",
    "from pyserini.search.lucene import LuceneImpactSearcher\n",
    "from pyserini.pyclass import JFloat, JInt, JHashMap"
   ]
  },
  {
   "cell_type": "code",
   "execution_count": 2,
   "metadata": {},
   "outputs": [],
   "source": [
    "def dot_product(dict1, dict2):\n",
    "    # Calculate the dot product of two dictionaries\n",
    "    to_print = [[k, dict1[k] * dict2[k]] for k in dict1 if k in dict2]\n",
    "    to_print = list(sorted(to_print, key=lambda x: -x[1]))\n",
    "    print(to_print)\n",
    "    return sum(dict1[key] * dict2.get(key, 0) for key in dict1)\n",
    "\n",
    "\n",
    "def create_jquery(encoded_query, searcher, fields = {}):\n",
    "    jfields = JHashMap()\n",
    "    for (field, boost) in fields.items():\n",
    "        jfields.put(field, JFloat(boost))\n",
    "\n",
    "    jquery = JHashMap()\n",
    "    for (token, weight) in encoded_query.items():\n",
    "        # if token in searcher.idf and searcher.idf[token] >= searcher.min_idf:\n",
    "        jquery.put(token, JInt(weight))\n",
    "\n",
    "    return jquery"
   ]
  },
  {
   "cell_type": "code",
   "execution_count": 46,
   "metadata": {},
   "outputs": [],
   "source": [
    "phrase_splade_metadata_path = \"/home/lamdo/splade/pyserini_evaluation/metadata/doris_mae__phrase_splade_52\"\n",
    "normal_splade_metadata_path = \"/home/lamdo/splade/pyserini_evaluation/metadata/doris_mae__original_spladev2_max\"\n",
    "\n",
    "qrel_path = \"/home/lamdo/splade/data/doris_mae/doris_mae/qrels/test.tsv\"\n",
    "queries_path = \"/home/lamdo/splade/data/doris_mae/doris_mae/queries.jsonl\""
   ]
  },
  {
   "cell_type": "code",
   "execution_count": 47,
   "metadata": {},
   "outputs": [],
   "source": [
    "phrase_splade_searcher = LuceneImpactSearcher(\"/scratch/lamdo/beir_splade/indexes/doris_mae__phrase_splade_52\", query_encoder=None)\n",
    "normal_splade_searcher = LuceneImpactSearcher(\"/scratch/lamdo/beir_splade/indexes/doris_mae__original_spladev2_max\", query_encoder=None)"
   ]
  },
  {
   "cell_type": "code",
   "execution_count": 48,
   "metadata": {},
   "outputs": [],
   "source": [
    "_qrels = pd.read_csv(qrel_path, sep='\\t').to_dict(\"records\")\n",
    "    \n",
    "qrel_metadata = {}\n",
    "for line in _qrels:\n",
    "    query_id = str(line[\"query-id\"])\n",
    "    doc_id = line[\"corpus-id\"]\n",
    "    score = line[\"score\"]\n",
    "\n",
    "    if query_id not in qrel_metadata:\n",
    "        qrel_metadata[query_id] = []\n",
    "\n",
    "    qrel_metadata[query_id].append({\n",
    "        \"docid\": doc_id,\n",
    "        \"score\": score\n",
    "    })"
   ]
  },
  {
   "cell_type": "code",
   "execution_count": 49,
   "metadata": {},
   "outputs": [],
   "source": [
    "queries = {}\n",
    "with open(queries_path) as f:\n",
    "    for line in f:\n",
    "        jline = json.loads(line)\n",
    "        id = jline[\"_id\"]\n",
    "        query_text = jline[\"text\"]\n",
    "        queries[id] = query_text"
   ]
  },
  {
   "cell_type": "code",
   "execution_count": 50,
   "metadata": {},
   "outputs": [],
   "source": [
    "with open(phrase_splade_metadata_path) as f:\n",
    "    phrase_splade_metadata = json.load(f)\n",
    "\n",
    "with open(normal_splade_metadata_path) as f:\n",
    "    normal_splade_metadata = json.load(f)"
   ]
  },
  {
   "cell_type": "code",
   "execution_count": 79,
   "metadata": {},
   "outputs": [
    {
     "name": "stdout",
     "output_type": "stream",
     "text": [
      "QueryId 2 -> I am a user marketing manager, and I am planning to train a deep learning model to analyze user engagement data and thus identify key factors that influence it. With such a model, I can continuously analyze the data and adjust marketing strategies, recommendations and rewards programs to maintain user engagement or increase future revenue. Also, results from the model can also allow me to treat users with personalized marketing campaigns.  Therefore, I hope the model can track and analyze the data from customers in real-time.\n",
      "{'subtitle': 178.0, 'personalization': 165.0, 'social-media': 158.0, 'recommendation-system': 155.0, 'deep-learning': 144.0, 'user-interaction': 139.0, 'marketing': 125.0, 'deep': 114.0, 'company': 110.0, '.': 108.0, 'user': 98.0, 'marketing-communication': 97.0, 'i': 94.0, 'am': 94.0, 'facebook': 94.0, 'real-time': 93.0, 'malaysia': 86.0, 'people': 85.0, 'smart-phone': 83.0, 'track': 81.0, 'price': 80.0, 'data': 77.0, 'software': 76.0, 'word': 75.0, 'analysis-method': 75.0, 'manager': 74.0, 'campaign': 72.0, 'personal': 72.0, 'engagement': 72.0, 'reward': 72.0, 'social-marketing': 72.0, 'technology': 71.0, 'retailing': 70.0, 'algorithm': 68.0, 'daily': 67.0, 'planning': 67.0, 'internet': 67.0, 'management-science': 67.0, 'model': 66.0, 'usability': 64.0, 'video': 63.0, 'main-factors': 63.0, 'recommendation': 61.0, 'data-distribution': 61.0, 'game': 59.0, 'artificial-intelligence': 59.0, 'school': 58.0, 'image': 57.0, 'influence': 57.0, 'learning': 56.0, 'analysis': 56.0, 'blogging': 56.0, 'the': 55.0, 'store': 54.0, 'smart': 54.0, 'tracking-system': 54.0, 'location-management': 53.0, 'machine-learning': 52.0, ',': 51.0, 'network': 51.0, '##ized': 50.0, 'model-structure': 50.0, 'technology-acceptance': 50.0, 'maintain': 49.0, 'tracking': 49.0, 'cloud-computing': 49.0, 'influencing-factors': 49.0, 'neural-network': 48.0, 'compensation-method': 48.0, 'key-factors': 48.0, 'tam': 47.0, 'innovation-diffusion': 47.0, 'business': 46.0, 'message': 46.0, 'management-method': 46.0, 'online-education': 45.0, 'mission': 44.0, 'factors': 43.0, 'modeling-method': 43.0, 'management-system': 42.0, 'health': 41.0, 'management': 41.0, 'data-mining': 41.0, 'mobile-application': 41.0, 'program': 40.0, 'wireless': 39.0, 'marketing-management': 39.0, 'microblog': 39.0, 'online': 38.0, 'customers': 38.0, 'prediction': 38.0, 'customer-service': 38.0, 'social-networking': 37.0, 'influence-analysis': 37.0, 'revenue': 36.0, 'supply-chain': 36.0, 'human-behavior': 36.0, 'marketing-strategy': 36.0, 'training': 35.0, 'high-speed': 35.0, 'search-engine': 35.0, 'digital-technology': 35.0, 'adjust': 34.0, 'discounting': 34.0, 'training-method': 34.0, 'magic': 33.0, 'customer-satisfaction': 33.0, 'network-traffic': 33.0, 'mobile-apps': 33.0, 'mine': 32.0, 'strategic-management': 32.0, 'team': 31.0, 'treatment': 31.0, 'mobile': 31.0, 'target-tracking': 31.0, 'video-streaming': 31.0, 'fall-detection': 31.0, 'user-engagement': 31.0, 'energy': 30.0, 'train': 30.0, 'visual-attention': 30.0, 'tourism-planning': 30.0, 'china': 29.0, 'spam': 29.0, 'increase': 28.0, 'rewards': 28.0, 'web-service': 28.0, 'clinical-guidelines': 28.0, 'food': 27.0, 'brain': 27.0, 'driving': 27.0, 'touch-screen': 27.0, 'moving': 26.0, 'treat': 26.0, 'profitability': 26.0, 'railway-track': 26.0, 'electric': 25.0, 'sentiment-analysis': 25.0, 'program-design': 25.0, 'tracks': 24.0, 'hope': 24.0, 'vr': 24.0, 'commercial-bank': 24.0, 'trust': 23.0, 'customer': 23.0, 'chip': 23.0, 'planning-system': 23.0, 'collaborative-work': 23.0, 'dynamic-adaptation': 23.0, 'raw': 22.0, 'public-opinion': 22.0, 'drug-treatment': 22.0, 'digital-video': 22.0, 'behavior-change': 22.0, 'time': 21.0, 'information': 21.0, 'computer': 21.0, 'tax': 21.0, 'crowd': 21.0, 'gin': 21.0, 'dataset': 21.0, 'nonlinear-analysis': 21.0, 'technology-adoption': 21.0, 'programs': 20.0, 'results': 20.0, 'emotion': 20.0, 'interactive': 20.0, 'medical-treatment': 20.0, 'television-advertising': 20.0, 'brand-name': 20.0, 'target': 19.0, 'constant': 19.0, 'continuous': 19.0, 'ai': 19.0, 'guidelines': 19.0, 'cognitive-radio': 19.0, 'computer-vision': 19.0, 'e-learning': 19.0, 'common-problems': 19.0, 'effect': 18.0, 'users': 18.0, 'continuously': 18.0, 'desktop': 18.0, 'food-industry': 18.0, 'iris-recognition': 18.0, 'javascript': 18.0, 'tweets': 18.0, 'night': 16.0, 'models': 16.0, 'ahp': 16.0, 'prediction-model': 16.0, 'cybersecurity': 16.0, 'commercial': 15.0, 'risk-taking': 15.0, 'city-development': 15.0, 'marketing-research': 15.0, 'face': 14.0, 'touch': 14.0, 'advertising': 14.0, 'detection-method': 14.0, 'so': 13.0, 'god': 13.0, 'sensing': 13.0, 'market-segmentation': 13.0, 'virtual-space': 13.0, 'election-day': 13.0, 'my': 12.0, 'future': 12.0, 'agent': 12.0, 'forum': 12.0, 'campaigns': 12.0, 'interaction': 12.0, 'analyze': 12.0, 'web-site': 12.0, 'telemedicine': 12.0, 'data-stream': 12.0, 'public-finance': 12.0, 'travel-demand': 12.0, 'human-computer-interaction': 12.0, 'problem-gambling': 12.0, 'test': 11.0, 'th': 11.0, 'smart-home': 11.0, 'tax-revenue': 11.0, 'pricing-model': 11.0, 'theory': 10.0, 'walking': 10.0, 'soap': 10.0, 'relative-importance': 10.0, 'foreground': 10.0, 'program-development': 10.0, 'treatment-effect': 10.0, 'profit-sharing': 10.0, 'data-sharing': 10.0, 'land': 9.0, 'signal': 9.0, 'disadvantages': 9.0, 'game-design': 9.0, 'evasion': 9.0, 'in': 8.0, 'digital': 8.0, 'firm': 8.0, 'robot': 8.0, 'adjustments': 8.0, 'big-data': 8.0, 'moral-hazard': 8.0, 'data-communication': 8.0, 'arduino': 8.0, 'india': 7.0, 'waiting': 7.0, 'brief': 7.0, 'ann': 7.0, 'monitoring': 7.0, 'tu': 7.0, 'optimization-model': 7.0, 'life': 6.0, 'security': 6.0, 'industry': 6.0, 'motor': 6.0, 'patient': 6.0, 'influential': 6.0, 'decline': 6.0, 'detection': 6.0, 'browser': 6.0, 'firm-performance': 6.0, 'new-generation': 6.0, 'customer-value': 6.0, 'expert-opinion': 6.0, 'dialogue-system': 6.0, 'such': 5.0, 'service': 5.0, 'popular': 5.0, 'follow': 5.0, 'traffic': 5.0, 'leadership': 5.0, 'social-interaction': 5.0, 'bitcoin': 5.0, 'log-data': 5.0, 'social': 4.0, 'importance': 4.0, 'strategy': 4.0, 'virtual-reality': 4.0, 'laser-treatment': 4.0, 'readout': 4.0, 'patient-data': 4.0, 'incentive': 3.0, 'sports-tourism': 3.0, 'gait-recognition': 3.0, 'voice': 2.0, 'social-networks': 2.0, 'sift': 2.0, 'mobility-management': 2.0, 'brand-management': 2.0, 'packaging-design': 2.0, 'last-year': 2.0, 'long-term': 2.0, 'one': 1.0, 'again': 1.0, 'ram': 1.0, 'io': 1.0, 'disabled-people': 1.0, 'intrinsic-motivation': 1.0, 'visual-tracking': 1.0, 'convolution': 1.0, 'crowdfunding': 1.0, 'from': 0.0, 'bank': 0.0, 'sales': 0.0, 'feedback': 0.0, 'recommend': 0.0, 'monitoring-system': 0.0, 'sensor-networks': 0.0, 'red-wine': 0.0, 'event-detection': 0.0, 'processing-technology': 0.0, 'second-life': 0.0}\n",
      "\n",
      "{'model': 252, 'marketing': 199, 'deep': 188, 'manager': 176, 'user': 175, 'engagement': 171, 'hope': 131, 'models': 131, 'data': 128, 'analysis': 122, 'train': 121, 'constantly': 121, 'revenue': 120, 'reward': 120, 'users': 116, 'rewards': 116, 'strategy': 113, 'increase': 111, 'training': 107, 'analyze': 105, 'customer': 104, 'result': 98, 'such': 97, 'study': 97, 'managers': 95, 'future': 94, 'continuously': 94, 'management': 93, 'track': 92, 'market': 92, 'personal': 92, 'customers': 92, 'continually': 89, 'am': 88, 'learning': 82, 'teach': 77, 'campaigns': 77, 'adjust': 77, 'campaign': 74, 'advertising': 74, 'constant': 73, 'maintain': 72, 'help': 66, '##ized': 66, 'trainer': 65, 'do': 63, 'my': 58, 'results': 58, 'job': 57, 'strategies': 56, 'can': 55, 'work': 53, 'why': 49, 'exercise': 49, 'affect': 48, 'function': 43, 'recommendation': 43, 'tracks': 42, 'company': 41, 'planning': 41, 'learn': 41, 'benefits': 41, 'sales': 40, 'real': 39, 'consumer': 39, 'business': 36, 'myself': 36, 'test': 35, 'practice': 34, 'deeper': 34, 'responsibilities': 33, 'purpose': 31, 'software': 31, 'advantage': 31, 'survey': 27, 'tracking': 27, 'manipulate': 27, 'hoped': 26, 'determine': 25, 'goal': 24, 'experience': 24, 'it': 23, 'recommendations': 23, 'influential': 21, 'tool': 21, 'observe': 21, 'revenues': 20, 'rewarded': 20, 'i': 19, 'success': 19, 'key': 19, 'database': 18, 'example': 17, 'interactive': 17, 'enhance': 17, 'persistent': 17, 'change': 15, 'allow': 15, 'factor': 15, 'raise': 14, 'generated': 14, 'a': 12, 'commercial': 12, 'policy': 12, 'also': 11, 'computer': 10, 'influence': 10, 'promote': 10, 'benefit': 10, 'idea': 9, 'factors': 9, 'guide': 7, 'program': 6, 'activities': 6, 'opposition': 6, 'expect': 6, 'school': 5, 'use': 5, 'important': 2, 'decision': 1, 'sample': 1, 'lab': 0}\n"
     ]
    }
   ],
   "source": [
    "# normal_splade_metadata[\"encoded_queries\"][1], phrase_splade_metadata[\"encoded_queries\"][1]\n",
    "chosen_index = 2\n",
    "\n",
    "phrase_splade_query_rep = phrase_splade_metadata[\"encoded_queries\"][chosen_index][\"vector\"]\n",
    "normal_splade_query_rep = normal_splade_metadata[\"encoded_queries\"][chosen_index][\"vector\"]\n",
    "\n",
    "query_id = str(normal_splade_metadata[\"encoded_queries\"][chosen_index][\"query_id\"])\n",
    "\n",
    "print(\"QueryId\", query_id, \"->\", queries[query_id])\n",
    "print({k: v for k, v in sorted(phrase_splade_query_rep.items(), key=lambda item: -item[1])})\n",
    "print()\n",
    "print({k: v for k, v in sorted(normal_splade_query_rep.items(), key=lambda item: -item[1])})"
   ]
  },
  {
   "cell_type": "code",
   "execution_count": 80,
   "metadata": {},
   "outputs": [],
   "source": [
    "chosen_query_id = query_id\n",
    "doc_ids = [str(line['docid']) for line in qrel_metadata[chosen_query_id] if line[\"score\"]]"
   ]
  },
  {
   "cell_type": "code",
   "execution_count": 81,
   "metadata": {},
   "outputs": [
    {
     "name": "stdout",
     "output_type": "stream",
     "text": [
      "score range normal 191113.0 329239.0\n",
      "score range phrase 298642.0 415275.0\n",
      "119812\n",
      "normal splade 0\n",
      "phrase splade 354750.0\n",
      "\n",
      "111207\n",
      "normal splade 220158.0\n",
      "phrase splade 0\n",
      "\n",
      "249012\n",
      "normal splade 0\n",
      "phrase splade 0\n",
      "\n",
      "218889\n",
      "normal splade 254600.0\n",
      "phrase splade 345013.0\n",
      "\n",
      "178962\n",
      "normal splade 0\n",
      "phrase splade 0\n",
      "\n",
      "205610\n",
      "normal splade 254376.0\n",
      "phrase splade 354305.0\n",
      "\n",
      "31550\n",
      "normal splade 0\n",
      "phrase splade 0\n",
      "\n",
      "28533\n",
      "normal splade 0\n",
      "phrase splade 321714.0\n",
      "\n",
      "228216\n",
      "normal splade 203204.0\n",
      "phrase splade 306459.0\n",
      "\n",
      "143766\n",
      "normal splade 0\n",
      "phrase splade 0\n",
      "\n",
      "29085\n",
      "normal splade 257984.0\n",
      "phrase splade 342083.0\n",
      "\n",
      "130033\n",
      "normal splade 0\n",
      "phrase splade 329908.0\n",
      "\n"
     ]
    }
   ],
   "source": [
    "min_normal, max_normal = min(normal_splade_metadata[\"predictions\"][chosen_query_id].values()), max(normal_splade_metadata[\"predictions\"][chosen_query_id].values())\n",
    "min_phrase, max_phrase = min(phrase_splade_metadata[\"predictions\"][chosen_query_id].values()), max(phrase_splade_metadata[\"predictions\"][chosen_query_id].values())\n",
    "\n",
    "print(\"score range normal\", min_normal, max_normal)\n",
    "print(\"score range phrase\", min_phrase, max_phrase)\n",
    "for docid in doc_ids:\n",
    "    print(docid)\n",
    "    print(\"normal splade\", normal_splade_metadata[\"predictions\"][chosen_query_id].get(docid, 0))\n",
    "    print(\"phrase splade\", phrase_splade_metadata[\"predictions\"][chosen_query_id].get(docid, 0))\n",
    "\n",
    "    print()"
   ]
  },
  {
   "cell_type": "code",
   "execution_count": 82,
   "metadata": {},
   "outputs": [
    {
     "name": "stdout",
     "output_type": "stream",
     "text": [
      "In this paper, we consider the detection of a decrease of engagement by users spontaneously interacting with a socially assistive robot in a public space. We first describe the UE-HRI dataset that collects spontaneous Human-Robot Interactions following the guidelines provided by the Affective Computing research community to collect data \"in-the-wild\". We then analyze the users' behaviors, focusing on proxemics, gaze, head motion, facial expressions and speech during interactions with the robot. Finally, we investigate the use of deep learning techniques (Recurrent and Deep Neural Networks) to detect user engagement decrease in realtime. The results of this work highlight, in particular, the relevance of taking into account the temporal dynamics of a user's behavior. Allowing 1 to 2 seconds as buffer delay improves the performance of taking a decision on user engagement.\n"
     ]
    }
   ],
   "source": [
    "chosen_doc_id = \"130033\"\n",
    "\n",
    "print(json.loads(phrase_splade_searcher.doc(chosen_doc_id).lucene_document().get(\"raw\"))[\"text\"])\n",
    "\n",
    "phrase_splade_doc_rep = json.loads(phrase_splade_searcher.doc(chosen_doc_id).lucene_document().get(\"raw\"))[\"vector\"]\n",
    "normal_splade_doc_rep = json.loads(normal_splade_searcher.doc(chosen_doc_id).lucene_document().get(\"raw\"))[\"vector\"]"
   ]
  },
  {
   "cell_type": "code",
   "execution_count": 83,
   "metadata": {},
   "outputs": [
    {
     "name": "stdout",
     "output_type": "stream",
     "text": [
      "{'deep-learning': 231, 'humanoid-robot': 203, 'robotic-system': 179, 'human-behavior': 178, 'parallel-robot': 158, 'object-manipulation': 144, 'human-robot-interaction': 140, 'user-interaction': 132, 'social-interaction': 130, 'emotional-expression': 130, 'spontaneous': 129, 'dataset': 126, 'robot': 125, 'detection-method': 123, 'hr': 120, 'multi-agent': 120, 'artificial-intelligence': 115, 'recurring': 110, 'subtitle': 108, 'disabled-people': 107, 'recurrent': 106, 'virtual-reality': 105, 'delay-time': 105, 'deep': 104, 'dynamic-behavior': 103, 'fly': 100, '##emi': 99, 'intelligent-robot': 99, 'detection': 97, 'spontaneously': 97, 'ic': 96, 'detection-algorithm': 96, 'engagement': 95, 'buffer': 95, 'wild': 94, 'neural-network': 94, 'guidelines': 93, 'affect': 91, 'emotion': 91, 'u': 90, 'negative-affect': 90, 'buffers': 90, 'assist': 89, 'interaction': 88, 'delay': 88, 'hrd': 88, 'cognitive-architecture': 87, 'virtual-space': 86, 'physical-space': 86, '##x': 85, 'pro': 85, 'decrease': 83, 'support-system': 83, 'word': 82, 'social-media': 82, 'innovation-diffusion': 82, 'public-space': 81, 'human-beings': 81, 'temporal-information': 81, 'speech': 80, 'international-journal': 80, 'recurrent-neural-networks': 80, 'social': 79, 'motor': 79, 'people': 77, 'smart-home': 77, 'location-management': 76, 'malaysia': 75, 'algorithm': 75, 'queue-length': 75, 'human-action': 75, 'clinical-guidelines': 74, 'gaze': 73, 'usability': 73, 'the': 72, 'temporal': 72, 'parking-lot': 72, '.': 71, 'technology': 71, 'socially': 71, 'gait': 71, 'event-detection': 71, 'walking': 70, 'last-year': 70, 'reduction': 69, 'decision': 68, 'flight': 68, 'company': 67, 'decline': 66, 'facebook': 66, 'human-factors': 66, 'video': 65, 'user': 65, 'xix': 65, 'reduction-method': 65, 'on': 62, 'gay': 62, 'dynamics': 62, 'self-organization': 62, 'electric': 61, 'motion': 61, 'game': 60, 'behavior': 60, 'public': 59, 'eye': 59, 'chaos-theory': 59, 'animal-behavior': 59, 'energy': 58, 'assistance': 58, 'computing': 58, 'robotic': 58, 'heart-rate': 58, 'task-performance': 58, 'dialogue-system': 58, 'software': 57, 'users': 57, 'thrombin': 57, 'runtime': 57, ',': 56, 'china': 56, 'ol': 56, 'polarity': 56, 'human-movement': 56, '##e': 55, 'paf': 55, 'robot-hand': 55, 'team': 54, 'journal': 54, 'behavior-change': 54, 'interaction-model': 54, 'rbm': 54, 'image': 53, 'techniques': 53, 'impact-factor': 53, 'night': 52, 'decision-making': 52, 'real-time': 52, 'international': 51, 'real': 51, 'neural-networks': 51, 'parallel-computing': 51, 'new-research': 51, 'technology-acceptance': 51, 'human-body': 50, 'emotional-intelligence': 50, 'smart-phone': 50, 'network': 49, 'database': 49, 'urban-form': 49, 'space': 48, 'collection': 48, 'facial-expression': 48, 'gait-recognition': 48, 'speech-signal': 47, 'temporal-dynamics': 47, 'system-performance': 47, 'creative-process': 47, 'tantalum': 47, 'help': 46, 'data': 46, 'account': 46, 'cloud-computing': 46, 'behavior-analysis': 46, 'computer-systems': 46, '2017': 45, 'research': 45, 'computer': 45, 'learning': 45, 'brain': 45, 'oxytocin': 45, 'human-computer-interaction': 45, 'store': 44, 'indium': 44, 'visual-attention': 44, 'uav': 44, 'in': 43, 'head-movement': 43, 'choice-behavior': 43, 'play': 42, 'propagation-delay': 42, 'mechanical-system': 42, 'temporality': 42, 'sampler': 42, 'fall-detection': 42, 'time': 41, 'online': 41, 'magic': 41, 'minimization': 41, 'recognition-system': 41, 'free-space': 41, 'social-robot': 41, 'loss': 40, 'guide': 40, 'minimum': 40, 'personalization': 40, 'temporal-correlation': 40, 'sleep': 39, 'recurrence': 39, 'hypnosis': 39, 'human-resource': 39, 'human': 38, 'taking': 38, 'private': 38, 'seconds': 38, 'smart': 38, 'cloning': 38, 'dialysis': 38, 'direct-observation': 38, 'signal-analysis': 38, 'haptic-interface': 38, 'bnp': 38, 'school': 37, 'room': 37, 'moving': 37, 'wireless': 37, 'online-education': 37, 'ergonomics': 37, 'actuation': 37, 'intermittency': 37, 'loss-reduction': 37, 'ann': 36, 'gin': 36, 'dynamic-interaction': 36, 'force': 35, 'movement': 35, 'tone': 34, 'tam': 34, 'context-information': 34, 'compensation-method': 34, 'distributed-computing': 34, 'processing-technology': 34, 'yak': 34, '##cs': 33, 'repeat': 33, 'circadian-rhythm': 33, 'miso': 33, 'set': 32, 'chaos': 32, 'vr': 32, 'speech-synthesis': 32, 'intelligent-agent': 32, 'user-engagement': 32, 'community': 31, '2018': 31, 'assisted': 31, 'chip': 31, 'speech-perception': 31, 'periodicity': 31, 'technology-adoption': 31, 'game-design': 31, 'time-delay': 31, 'biomechanics': 31, '##i': 30, 'place': 30, 'support': 30, 'electronic-journals': 30, 'back-propagation': 30, 'hall': 29, 'period': 29, 'pain': 29, 'indonesia': 29, 'emotional': 29, 'naturally': 29, 'argon': 29, 'motor-learning': 29, 'microblog': 29, 'different-techniques': 29, 'data-distribution': 29, 'mfcc': 29, 'still': 28, 'performance': 28, 'medicine': 28, 'mobile': 28, 'comfort': 28, 'improvement': 28, 'din': 28, 'city-development': 28, 'memory': 27, 'interacting': 27, 'molecular-recognition': 27, 'collaborative-work': 27, 'touch': 26, 'shut': 26, 'price': 26, 'agent': 26, 'intervention': 26, 'yo': 26, 'recommendation': 26, 'data-mining': 26, 'recommendation-system': 26, 'clinical-practice-guidelines': 26, 'trend-analysis': 26, 'x': 25, 'analysis': 25, 'rhythmic': 25, 'relevance': 25, 'teamwork': 25, 'computer-vision': 25, 'prosthesis': 25, 'expert-opinion': 25, 'hpd': 25, 'influence-analysis': 25, 'cybersecurity': 25, 'air-jet': 25, 'causal-explanation': 25, 'animal': 24, 'shed': 24, 'sentiment-analysis': 24, 'early-detection': 24, 'public-participation': 24, 'space-station': 24, 'bladder-neck': 24, 'formation-process': 24, 'time-use': 24, 'science': 23, 'sex': 23, 'safety': 23, 'surrounding': 23, 'message': 23, 'correction': 23, 'international-business': 23, 'touch-screen': 23, 'steady-state': 23, 'stuttering': 23, 'social-norms': 23, 'blogging': 23, 'civil-aircraft': 23, 'last-week': 23, 'dad': 22, 'korea': 22, 'collect': 22, 'aided': 22, 'feedback': 22, 'spatial': 22, 'public-opinion': 22, 'digital-technology': 22, 'self-efficacy': 22, 'information-processing': 22, 'arduino': 22, 'nbi': 22, 'effect': 21, 'humans': 21, '2019': 21, 'mice': 21, 'chaotic': 21, 'emg': 21, 'plutonium': 21, 'emission-reduction': 21, 'voice-quality': 21, 'speech-communication': 21, 'activity-patterns': 21, 'intelligent-vehicle': 21, 'tweets': 21, 'action': 20, 'security': 20, 'behaviour': 20, 'robots': 20, 'monitoring-system': 20, 'path-planning': 20, 'infertility': 20, 'first-aid': 20, 'change': 19, 'contact': 19, 'signal': 19, 'clock': 19, 'raw': 19, 'toy': 19, 'intrusion-detection': 19, 'impact-analysis': 19, 'augmentation': 19, 'trade-union': 19, 'guidance': 18, 'ai': 18, 'suppression': 18, 'latency': 18, 'discrete-time': 18, 'natural-environment': 18, 'social-space': 18, 'domestic-cat': 18, 'context-awareness': 18, 'fire': 17, 'quantum-mechanics': 17, 'network-traffic': 17, 'interface-design': 17, 'habituation': 17, 'pge': 17, 'mobile-apps': 17, 'nursing-intervention': 17, 'retention-time': 17, 'so': 16, 'voice': 16, 'trust': 16, 'expression': 16, 'influence': 16, 'gesture': 16, 'machine-learning': 16, 'social-inclusion': 16, 'argumentation': 16, 'contact-force': 16, 'off': 15, 'drag': 15, 'variation': 15, 'kin': 15, 'behavioral': 15, 'crt': 15, 'frequency-shift': 15, 'mobile-application': 15, 'robotic-surgery': 15, 'socioeconomic-status': 15, 'janus': 15, 'positive-affect': 15, 'hookworm': 15, 'made': 14, 'street': 14, 'visitors': 14, 'interactions': 14, 'behaviors': 14, 'nano': 14, 'anaemia': 14, 'narcissism': 14, 'patent-law': 14, 'temporal-patterns': 14, 'incarceration': 14, 'carton': 14, 'a': 13, 'face': 13, 'hours': 13, 'negative': 13, 'push': 13, 'cyclic': 13, 'social-structure': 13, 'cuda': 13, 'mites': 13, 'drug-design': 13, 'video-streaming': 13, 'treatment-effect': 13, 'positive-feedback': 13, 'travel-demand': 13, 'acknowledgement': 13, 'person': 12, 'drop': 12, 'aid': 12, 'concrete': 12, 'interactive': 12, 'interact': 12, 'guides': 12, 'directive': 12, 'computation': 12, 'air-flow': 12, 'power-spectrum': 12, 'e-learning': 12, 'phase-space': 12, 'imc': 12, 'self-regulation': 12, 'correction-method': 12, 'interactivity': 12, 'dbp': 12, 'satellite-orbit': 12, 'mre': 12, 'body': 11, 'mind': 11, 'crowd': 11, 'tradition': 11, 'depression': 11, 'prevention': 11, 'articulated': 11, 'ur': 11, 'high-speed': 11, 'seasonal-variation': 11, 'h-2': 11, 'intrinsic-motivation': 11, 'gold-deposit': 11, 'human-behaviour': 11, 'hand': 10, 'internet': 10, 'feature-extraction': 10, 'emc': 10, 'retinoic-acid': 10, 'qoe': 10, 'survey-data': 10, 'new-techniques': 10, 'memory-array': 10, 'problem-gambling': 10, 'crd': 10, 'gyroscope': 10, 'health': 9, 'academic': 9, 'driving': 9, 'acoustic': 9, 'biology': 9, 'removal': 9, 'university-library': 9, 'mosquitoes': 9, 'drosophila': 9, 'sensor-networks': 9, 'depreciation': 9, 'diagnostic-system': 9, 'log-data': 9, 'self-monitoring': 9, 'case-based-reasoning': 9, 'air': 8, 'joint': 8, 'communication': 8, 'technique': 8, 'trace': 8, 'soap': 8, 'dialogue': 8, 'editorial': 8, 'mobility': 8, 'io': 8, 'inertia': 8, 'hybrid-approach': 8, 'foreground': 8, 'social-networking': 8, 'bem': 8, 'bitcoin': 8, 'planning-system': 8, 'biomedical-engineering': 8, 'stochastic-model': 8, 'conveyor-belt': 8, 'task-analysis': 8, 'design': 7, 'emergency': 7, 'sensor': 7, 'sift': 7, 'uplift': 7, 'removal-efficiency': 7, 'management-science': 7, 'accelerometer': 7, 'social-trust': 7, 'risk-taking': 7, 'dysplasia': 7, 'acf': 7, 'mining-method': 7, 'live': 6, 'act': 6, 'low': 6, 'active': 6, 'massive': 6, 'ja': 6, 'mas': 6, 'reactivity': 6, 'dendrimers': 6, 'coarsening': 6, 'activity-recognition': 6, 'network-connectivity': 6, 'memory-management': 6, 'tracking-system': 6, 'spatial-orientation': 6, 'convolution': 6, 'other-people': 6, 'optical-trap': 6, 'of': 5, 'control': 5, 'regular': 5, 'waiting': 5, 'russia': 5, 'traffic': 5, 'ass': 5, 'occupation': 5, 'app': 5, 'th': 5, 'particle-swarm-optimization': 5, 'larynx': 5, 'microcomputer': 5, 'new-rules': 5, 'jet-flow': 5, 'prediction-accuracy': 5, 'low-energy': 5, 'computations': 5, 'hand-gesture': 5, 'strategy-use': 5, 'august': 4, 'increase': 4, 'address': 4, 'movements': 4, 'evolution': 4, 'sample': 4, 'indoor': 4, 'compromise': 4, 'power-consumption': 4, 'infiltration': 4, 'air-travel': 4, 'icd': 4, 'alginate': 4, 'second-life': 4, 'election-day': 4, 'extraction-methods': 4, 'research-funding': 4, 'service': 3, 'foot': 3, 'partner': 3, 'ban': 3, 'accounting': 3, 'coherence': 3, 'indoor-environment': 3, 'motion-vector': 3, 'binary-sequences': 3, 'streamer': 3, '\"': 2, 'housing': 2, 'creation': 2, 'violence': 2, 'universe': 2, 'affected': 2, 'penalty': 2, 'regulations': 2, 'rhythms': 2, 'noise-reduction': 2, 'southeast-asia': 2, 'model-checking': 2, 'product-innovation': 2, 'malware': 2, 'mobility-management': 2, 'animal-welfare': 2, 'reorientation': 2, 'reduction-process': 2, 'sodium-intake': 2, 'deaf-people': 2, 'history': 1, 'decided': 1, 'mission': 1, 'location': 1, 'employee': 1, 'artificial': 1, 'iris': 1, 'hovering': 1, 'time-series': 1, 'dynamic-programming': 1, 'vibration-analysis': 1, 'iridium': 1, 'keywords': 1, 'emotion-recognition': 1, 'technology-acceptance-model': 1, 'metadata-management': 1, 'by': 0, 'may': 0, 'moved': 0, 'activity': 0, 'retirement': 0, 'log': 0, 'demonstration': 0, 'wheelchair': 0, 'ins': 0, 'ns': 0, 'social-work': 0, 'radio-frequency': 0, 'hand-gestures': 0, 'feedback-system': 0, 'deadlock': 0, 'eye-gaze': 0, 'adaptive-threshold': 0, 'crowding': 0, 'generation-method': 0, 'pattern-analysis': 0}\n",
      "\n",
      "{'robot': 207, 'hr': 203, 'spontaneous': 199, 'engagement': 196, 'wild': 185, 'spontaneously': 179, 'decrease': 169, 'social': 167, 'human': 164, 'user': 164, 'interaction': 164, 'u': 156, '##i': 156, '##set': 155, 'deep': 152, 'public': 151, 'robotics': 151, 'detection': 145, 'interact': 143, 'fly': 141, 'robots': 141, 'temporal': 138, 'international': 136, 'buffer': 135, 'behavior': 134, 'socially': 134, 'detect': 131, '##emi': 131, 'interactions': 129, '##e': 127, '##ive': 127, '2018': 126, 'data': 122, 'reduce': 120, 'decline': 120, 'space': 119, 'journal': 118, 'affect': 116, 'collect': 112, 'persistent': 108, 'lose': 106, 'research': 104, '##x': 104, '##urrent': 104, 'delay': 103, 'neural': 102, 'dynamics': 101, 'behaviour': 100, 'low': 99, 'collected': 99, 'pro': 96, 'computer': 95, 'users': 95, 'activities': 94, 'during': 93, 'activity': 93, 'speech': 91, 'assist': 89, 'community': 88, 'decision': 86, '2019': 85, 'robotic': 85, 'gather': 83, 'set': 80, 'computing': 80, 'loss': 78, 'gaze': 77, 'highlight': 76, 'humans': 73, 'analysis': 72, 'study': 70, 'training': 69, 'network': 69, 'detector': 69, 'interacting': 69, 'increase': 68, 'on': 66, 'contact': 66, 'work': 64, 'relationship': 64, 'consider': 64, 'brain': 62, 'communication': 62, 'guidelines': 62, 'focus': 61, 'seconds': 61, 'inhibit': 61, 'time': 60, 'help': 60, 'rec': 60, 'determine': 58, 'real': 54, 'signal': 52, '\"': 51, 'second': 51, 'drop': 51, 'machine': 49, 'survey': 49, 'encounter': 49, 'analyze': 49, '-': 47, 'negative': 47, 'head': 46, 'memory': 46, 'movement': 44, 'interface': 43, 'first': 42, 'connection': 42, 'collection': 41, 'investigate': 41, 'result': 40, 'plane': 40, 'control': 39, 'technique': 38, 'following': 36, '2017': 35, 'poor': 35, 'situation': 35, 'environment': 35, 'capture': 35, 'recurring': 35, 'investigation': 34, 'living': 32, 'response': 32, 'sample': 32, 'fear': 31, 'kevin': 31, 'importance': 31, 'investigating': 31, 'effect': 30, 'lack': 30, 'do': 29, 'problem': 29, 'journals': 29, 'method': 28, 'warning': 28, 'researcher': 28, 'spatial': 28, 'why': 27, 'association': 27, 'software': 27, 'reduction': 26, 'observe': 25, 'in': 24, 'discovery': 24, 'lab': 24, 'suppress': 24, 'e': 23, 'behaviors': 23, 'further': 22, 'angry': 22, 'describe': 22, 'automatic': 22, 'indicate': 21, 'interactive': 21, 'facial': 21, 'reaction': 20, 'police': 19, 'highly': 19, 'unrest': 19, 'opposition': 18, 'internal': 18, 'engaged': 18, 'participate': 18, 'predict': 18, 'society': 17, 'arousal': 17, 'global': 16, 'package': 16, 'monitoring': 16, 'meeting': 15, 'active': 15, 'conference': 14, 'face': 13, 'system': 13, 'processing': 13, 'activation': 13, 'use': 12, 'technology': 11, 'function': 11, 'later': 10, 'animal': 10, 'recognition': 10, 'customer': 10, 'transaction': 10, 'idea': 9, 'bond': 9, 'extinct': 9, 'suppression': 9, 'we': 8, 'event': 8, 'organization': 8, 'collaboration': 8, 'networks': 8, 'into': 7, '19': 7, 'science': 7, 'stare': 7, 'automated': 6, '##ivity': 5, 'person': 4, 'test': 4, 'di': 2, 'detectors': 2, 'cause': 1, 'participation': 1, 'diagnosis': 1, 'failure': 0}\n"
     ]
    }
   ],
   "source": [
    "print({k: v for k, v in sorted(phrase_splade_doc_rep.items(), key=lambda item: -item[1])})\n",
    "print()\n",
    "print({k: v for k, v in sorted(normal_splade_doc_rep.items(), key=lambda item: -item[1])})"
   ]
  },
  {
   "cell_type": "code",
   "execution_count": 84,
   "metadata": {},
   "outputs": [
    {
     "name": "stdout",
     "output_type": "stream",
     "text": [
      "[['deep-learning', 33264.0], ['subtitle', 19224.0], ['user-interaction', 18348.0], ['social-media', 12956.0], ['deep', 11856.0], ['.', 7668.0], ['company', 7370.0], ['engagement', 6840.0], ['artificial-intelligence', 6785.0], ['personalization', 6600.0], ['people', 6545.0], ['malaysia', 6450.0], ['human-behavior', 6408.0], ['user', 6370.0], ['facebook', 6204.0], ['word', 6150.0], ['algorithm', 5100.0], ['technology', 5041.0], ['real-time', 4836.0], ['usability', 4672.0], ['neural-network', 4512.0], ['software', 4332.0], ['smart-phone', 4150.0], ['video', 4095.0], ['recommendation-system', 4030.0], ['location-management', 4028.0], ['the', 3960.0], ['innovation-diffusion', 3854.0], ['data', 3542.0], ['game', 3540.0], ['image', 3021.0], [',', 2856.0], ['dataset', 2646.0], ['technology-acceptance', 2550.0], ['learning', 2520.0], ['network', 2499.0], ['store', 2376.0], ['cloud-computing', 2254.0], ['school', 2146.0], ['price', 2080.0], ['clinical-guidelines', 2072.0], ['smart', 2052.0], ['emotion', 1820.0], ['data-distribution', 1769.0], ['guidelines', 1767.0], ['energy', 1740.0], ['detection-method', 1722.0], ['team', 1674.0], ['online-education', 1665.0], ['compensation-method', 1632.0], ['china', 1624.0], ['tam', 1598.0], ['recommendation', 1586.0], ['online', 1558.0], ['electric', 1525.0], ['wireless', 1443.0], ['analysis', 1400.0], ['magic', 1353.0], ['visual-attention', 1320.0], ['fall-detection', 1302.0], ['blogging', 1288.0], ['brain', 1215.0], ['behavior-change', 1188.0], ['microblog', 1131.0], ['virtual-space', 1118.0], ['data-mining', 1066.0], ['message', 1058.0], ['interaction', 1056.0], ['users', 1026.0], ['robot', 1000.0], ['user-engagement', 992.0], ['moving', 962.0], ['computer', 945.0], ['influence-analysis', 925.0], ['influence', 912.0], ['mobile', 868.0], ['time', 861.0], ['smart-home', 847.0], ['night', 832.0], ['machine-learning', 832.0], ['digital-technology', 770.0], ['vr', 768.0], ['gin', 756.0], ['chip', 713.0], ['walking', 700.0], ['internet', 670.0], ['technology-adoption', 651.0], ['social-interaction', 650.0], ['touch-screen', 621.0], ['collaborative-work', 621.0], ['mobile-application', 615.0], ['sentiment-analysis', 600.0], ['detection', 582.0], ['network-traffic', 561.0], ['mobile-apps', 561.0], ['human-computer-interaction', 540.0], ['public-opinion', 484.0], ['computer-vision', 475.0], ['motor', 474.0], ['management-science', 469.0], ['virtual-reality', 420.0], ['city-development', 420.0], ['raw', 418.0], ['video-streaming', 403.0], ['cybersecurity', 400.0], ['decline', 396.0], ['high-speed', 385.0], ['effect', 378.0], ['tweets', 378.0], ['health', 369.0], ['trust', 368.0], ['touch', 364.0], ['dialogue-system', 348.0], ['in', 344.0], ['ai', 342.0], ['tracking-system', 324.0], ['social', 316.0], ['agent', 312.0], ['social-networking', 296.0], ['game-design', 279.0], ['ann', 252.0], ['driving', 243.0], ['interactive', 240.0], ['crowd', 231.0], ['e-learning', 228.0], ['so', 208.0], ['planning-system', 184.0], ['face', 182.0], ['arduino', 176.0], ['signal', 171.0], ['travel-demand', 156.0], ['expert-opinion', 150.0], ['gait-recognition', 144.0], ['last-year', 140.0], ['treatment-effect', 130.0], ['security', 120.0], ['problem-gambling', 120.0], ['increase', 112.0], ['disabled-people', 107.0], ['risk-taking', 105.0], ['soap', 80.0], ['foreground', 80.0], ['th', 55.0], ['election-day', 52.0], ['log-data', 45.0], ['mission', 44.0], ['bitcoin', 40.0], ['waiting', 35.0], ['voice', 32.0], ['traffic', 25.0], ['service', 15.0], ['sift', 14.0], ['intrinsic-motivation', 11.0], ['io', 8.0], ['convolution', 6.0], ['mobility-management', 4.0], ['feedback', 0.0], ['monitoring-system', 0.0], ['sensor-networks', 0.0], ['event-detection', 0.0], ['processing-technology', 0.0], ['second-life', 0.0]]\n",
      "[['engagement', 33516], ['user', 28700], ['deep', 28576], ['data', 15616], ['users', 11020], ['analysis', 8784], ['increase', 7548], ['training', 7383], ['study', 6790], ['affect', 5568], ['analyze', 5145], ['help', 3960], ['result', 3920], ['work', 3392], ['real', 2106], ['persistent', 1836], ['do', 1827], ['determine', 1450], ['why', 1323], ['survey', 1323], ['customer', 1040], ['computer', 950], ['software', 837], ['activities', 564], ['observe', 525], ['function', 473], ['interactive', 357], ['test', 140], ['opposition', 108], ['decision', 86], ['idea', 81], ['use', 60], ['sample', 32], ['lab', 0]]\n"
     ]
    },
    {
     "data": {
      "text/plain": [
       "(329908.0, 185036)"
      ]
     },
     "execution_count": 84,
     "metadata": {},
     "output_type": "execute_result"
    }
   ],
   "source": [
    "dot_product(phrase_splade_doc_rep, phrase_splade_query_rep), dot_product(normal_splade_doc_rep, normal_splade_query_rep)"
   ]
  },
  {
   "cell_type": "code",
   "execution_count": 30,
   "metadata": {},
   "outputs": [
    {
     "name": "stdout",
     "output_type": "stream",
     "text": [
      "QueryId PLAIN-2\n",
      "{'statins': 242.0, 'cholesterol': 187.0, 'stat': 145.0, 'fat': 138.0, 'breast': 138.0, 'cecil': 131.0, 'breast-cancer': 131.0, 'cancer': 130.0, 'al.': 124.0, '.': 118.0, 'drug': 110.0, 'patient': 102.0, '?': 101.0, 'cancer-research': 101.0, 'zein': 101.0, '##in': 96.0, 'do': 91.0, 'blood': 90.0, 'new-drug': 80.0, 'cause': 79.0, 'mammary-gland': 79.0, 'tumor': 78.0, 'drugs': 77.0, 'tax': 75.0, 'causation': 75.0, 'people': 73.0, 'gene': 73.0, 'drug-treatment': 71.0, 'women': 69.0, 'lipid': 69.0, 'price': 65.0, 'protective-effect': 65.0, 'breast-carcinoma': 65.0, 'us': 64.0, 'vldl': 62.0, 'compound': 60.0, 'mammography': 58.0, 'menopause': 56.0, 'pathogenesis': 55.0, 'compounds': 53.0, 'sipm': 53.0, 'content': 51.0, 'therapies': 51.0, 'breast-cancers': 50.0, 'medication': 49.0, 'hdl': 49.0, 'misuse': 48.0, 'squalene': 48.0, 'cusum': 48.0, 'serum-cholesterol': 48.0, 'ld': 47.0, 'prescription-drugs': 47.0, 'food': 46.0, 'medicine': 46.0, 'pregnancy': 46.0, 'sterol': 45.0, 'mcf': 45.0, 'damage': 44.0, 'therapy': 44.0, 'death-rate': 44.0, 'cancer-cells': 43.0, 'nara': 41.0, 'dppc': 41.0, 'harm': 39.0, 'cancer-patients': 39.0, 'effect': 38.0, 'density': 37.0, 'sell': 34.0, 'hormone': 34.0, 'causal-explanation': 34.0, ',': 33.0, 'universe': 33.0, 'drug-design': 32.0, 'breast-cancer-risk': 32.0, 'the': 31.0, 'subtitle': 31.0, 'trimming': 31.0, 'malaysia': 30.0, 'diet': 30.0, 'lung-cancer': 28.0, 'stat3': 28.0, 'heart': 26.0, 'er': 26.0, 'trigger': 25.0, 'can': 24.0, 'human-health': 24.0, 'compensation-method': 24.0, 'treatment-effect': 24.0, 'medical-treatment': 23.0, 'chinese-herbal-medicine': 23.0, 'homeopathy': 23.0, 'levy': 22.0, 'drug-abuse': 22.0, 'psd': 22.0, 'fish-oil': 22.0, 'pharmacists': 22.0, 'voice': 21.0, 'caused': 21.0, 'breasts': 21.0, 'carcinoma': 21.0, 'topiramate': 21.0, 'relative-risk': 20.0, 'pricing-model': 20.0, 'question': 19.0, 'ya': 19.0, 'genesis': 19.0, 'grange': 19.0, 'flavonoids': 19.0, 'new-mechanism': 19.0, 'eye': 18.0, 'wine': 18.0, 'sentinel': 18.0, 'energy': 17.0, 'lid': 17.0, 'atherosclerosis': 17.0, 'apolipoprotein': 17.0, 'lipolysis': 17.0, 'does': 16.0, 'china': 16.0, 'causing': 16.0, 'disaster': 16.0, 'treatments': 16.0, 'retinoblastoma': 16.0, 'psm': 16.0, 'addiction': 15.0, 'health-care': 15.0, 'estrogen': 15.0, 'inflammatory-response': 15.0, 'prostate-cancer': 14.0, 'death': 13.0, 'treatment': 13.0, 'devastating': 13.0, 'vitamins': 13.0, 'her2': 13.0, 'rural-women': 13.0, 'cosmetic-surgery': 13.0, 'target': 12.0, 'radiation': 11.0, 'sterols': 11.0, 'in': 10.0, 'face': 10.0, 'martin': 10.0, 'hypercholesterolemia': 10.0, 'may': 9.0, 'image': 9.0, 'concentration': 9.0, 'cardiovascular-disease': 9.0, 'vitiligo': 9.0, 'palmitate': 9.0, 'over': 8.0, 'dbp': 8.0, 'don': 7.0, 'health': 7.0, 'causes': 7.0, 'dna-damage': 7.0, 'pesticides': 7.0, 'dosage': 7.0, 'statin-therapy': 7.0, 'disease': 5.0, 'protein': 5.0, '##ins': 5.0, 'mechanism': 5.0, 'sift': 5.0, 'ddc': 5.0, 'at': 4.0, 'lake': 4.0, 'distant': 4.0, 'mental-health': 4.0, 'prescribing': 4.0, 'dlr': 4.0, 'cyclodextrin': 3.0, 'disease-severity': 3.0, 'disease-burden': 3.0, '##ine': 2.0, 'volatility': 2.0, 'human-breast-cancer': 2.0, 'use': 1.0, 'influence': 1.0, 'ginger': 1.0, 'cancer-care': 1.0, 'blood-group': 1.0, 'human-hair': 1.0, 'present': 0.0, 'val': 0.0, 'breast-cancer-patients': 0.0, 'kurtosis': 0.0}\n",
      "\n",
      "{'breast': 249, 'stat': 232, 'cancer': 222, 'cause': 196, '##terol': 191, 'cho': 184, '##in': 177, 'drug': 155, 'tumor': 145, 'drugs': 132, '##les': 98, 'do': 90, 'medication': 80, 'medicine': 78, 'top': 63, '?': 56, 'her': 52, 'caused': 46, 'plus': 33, 'pregnant': 33, 'pain': 30, 'did': 16, 'why': 13, 'idea': 13, 'cure': 8, 'fear': 6}\n"
     ]
    }
   ],
   "source": [
    "print(\"QueryId\", query_id)\n",
    "print({k: v for k, v in sorted(phrase_splade_query_rep.items(), key=lambda item: -item[1])})\n",
    "print()\n",
    "print({k: v for k, v in sorted(normal_splade_query_rep.items(), key=lambda item: -item[1])})"
   ]
  },
  {
   "cell_type": "code",
   "execution_count": 127,
   "metadata": {},
   "outputs": [
    {
     "data": {
      "text/plain": [
       "{'MED-2431': 75067.0,\n",
       " 'MED-10': 73880.0,\n",
       " 'MED-2429': 73096.0,\n",
       " 'MED-14': 73082.0,\n",
       " 'MED-2439': 64919.0,\n",
       " 'MED-2435': 64462.0,\n",
       " 'MED-4695': 64196.0,\n",
       " 'MED-4226': 63963.0,\n",
       " 'MED-2434': 63489.0,\n",
       " 'MED-4117': 62829.0,\n",
       " 'MED-4223': 62120.0,\n",
       " 'MED-3856': 61849.0,\n",
       " 'MED-1371': 60873.0,\n",
       " 'MED-3832': 60854.0,\n",
       " 'MED-1825': 60557.0,\n",
       " 'MED-2122': 60474.0,\n",
       " 'MED-2436': 59550.0,\n",
       " 'MED-4097': 59150.0,\n",
       " 'MED-3849': 58640.0,\n",
       " 'MED-2437': 58320.0,\n",
       " 'MED-2440': 58168.0,\n",
       " 'MED-3833': 57984.0,\n",
       " 'MED-3841': 57984.0,\n",
       " 'MED-1564': 57860.0,\n",
       " 'MED-4827': 57724.0,\n",
       " 'MED-4096': 57613.0,\n",
       " 'MED-950': 57523.0,\n",
       " 'MED-4652': 57403.0,\n",
       " 'MED-3799': 57374.0,\n",
       " 'MED-3860': 57340.0,\n",
       " 'MED-1193': 57338.0,\n",
       " 'MED-2427': 57254.0,\n",
       " 'MED-1829': 56792.0,\n",
       " 'MED-5357': 56745.0,\n",
       " 'MED-4057': 56610.0,\n",
       " 'MED-4465': 56494.0,\n",
       " 'MED-4787': 56346.0,\n",
       " 'MED-2103': 56155.0,\n",
       " 'MED-3205': 55775.0,\n",
       " 'MED-3766': 55582.0,\n",
       " 'MED-838': 55308.0,\n",
       " 'MED-4440': 55103.0,\n",
       " 'MED-4049': 55088.0,\n",
       " 'MED-4643': 54946.0,\n",
       " 'MED-3862': 54922.0,\n",
       " 'MED-3447': 54910.0,\n",
       " 'MED-3797': 54736.0,\n",
       " 'MED-5001': 54715.0,\n",
       " 'MED-3767': 54685.0,\n",
       " 'MED-2138': 54514.0,\n",
       " 'MED-5117': 54475.0,\n",
       " 'MED-3129': 54402.0,\n",
       " 'MED-3857': 54320.0,\n",
       " 'MED-2414': 54277.0,\n",
       " 'MED-5184': 54223.0,\n",
       " 'MED-5114': 54149.0,\n",
       " 'MED-3858': 54118.0,\n",
       " 'MED-3241': 54043.0,\n",
       " 'MED-3791': 54037.0,\n",
       " 'MED-4162': 53740.0,\n",
       " 'MED-4785': 53616.0,\n",
       " 'MED-3139': 53548.0,\n",
       " 'MED-3551': 53519.0,\n",
       " 'MED-5066': 53282.0,\n",
       " 'MED-4651': 53222.0,\n",
       " 'MED-3795': 53199.0,\n",
       " 'MED-3442': 53066.0,\n",
       " 'MED-2251': 53034.0,\n",
       " 'MED-5182': 53008.0,\n",
       " 'MED-3200': 52909.0,\n",
       " 'MED-1151': 52890.0,\n",
       " 'MED-4786': 52804.0,\n",
       " 'MED-4050': 52771.0,\n",
       " 'MED-2139': 52583.0,\n",
       " 'MED-4094': 52520.0,\n",
       " 'MED-4830': 52182.0,\n",
       " 'MED-1532': 52149.0,\n",
       " 'MED-5087': 52135.0,\n",
       " 'MED-3840': 52073.0,\n",
       " 'MED-4783': 52018.0,\n",
       " 'MED-3696': 51972.0,\n",
       " 'MED-3762': 51957.0,\n",
       " 'MED-3836': 51923.0,\n",
       " 'MED-3123': 51831.0,\n",
       " 'MED-5086': 51824.0,\n",
       " 'MED-5052': 51823.0,\n",
       " 'MED-3844': 51780.0,\n",
       " 'MED-4925': 51710.0,\n",
       " 'MED-4826': 51675.0,\n",
       " 'MED-5352': 51622.0,\n",
       " 'MED-3848': 51590.0,\n",
       " 'MED-3855': 51554.0,\n",
       " 'MED-5197': 51513.0,\n",
       " 'MED-2152': 51237.0,\n",
       " 'MED-2571': 51185.0,\n",
       " 'MED-4646': 51161.0,\n",
       " 'MED-2423': 51081.0,\n",
       " 'MED-4642': 51006.0,\n",
       " 'MED-5116': 50987.0,\n",
       " 'MED-3238': 50706.0}"
      ]
     },
     "execution_count": 127,
     "metadata": {},
     "output_type": "execute_result"
    }
   ],
   "source": [
    "phrase_splade_metadata[\"predictions\"][query_id]"
   ]
  },
  {
   "cell_type": "code",
   "execution_count": null,
   "metadata": {},
   "outputs": [],
   "source": []
  },
  {
   "cell_type": "code",
   "execution_count": 131,
   "metadata": {},
   "outputs": [],
   "source": [
    "jquery = create_jquery({\"clinical-trial\": 100}, phrase_splade_searcher)"
   ]
  },
  {
   "cell_type": "code",
   "execution_count": 132,
   "metadata": {},
   "outputs": [],
   "source": [
    "hits = phrase_splade_searcher.object.search(jquery, 100)"
   ]
  },
  {
   "cell_type": "code",
   "execution_count": 133,
   "metadata": {},
   "outputs": [
    {
     "data": {
      "text/plain": [
       "[<io.anserini.search.ScoredDoc at 0x7f8fc4fce610 jclass=io/anserini/search/ScoredDoc jself=<LocalRef obj=0x5556164b20e2 at 0x7f8fc5af71b0>>,\n",
       " <io.anserini.search.ScoredDoc at 0x7f8fc4fce1b0 jclass=io/anserini/search/ScoredDoc jself=<LocalRef obj=0x5556164b20f2 at 0x7f8fc5c170d0>>,\n",
       " <io.anserini.search.ScoredDoc at 0x7f8fc4fcf970 jclass=io/anserini/search/ScoredDoc jself=<LocalRef obj=0x5556164b20fa at 0x7f8fc5c16ad0>>,\n",
       " <io.anserini.search.ScoredDoc at 0x7f8fc4fce2f0 jclass=io/anserini/search/ScoredDoc jself=<LocalRef obj=0x5556164b210a at 0x7f8fc5c16d10>>,\n",
       " <io.anserini.search.ScoredDoc at 0x7f8fc562b8d0 jclass=io/anserini/search/ScoredDoc jself=<LocalRef obj=0x5556164b2112 at 0x7f8fc5c16af0>>,\n",
       " <io.anserini.search.ScoredDoc at 0x7f8fc5628900 jclass=io/anserini/search/ScoredDoc jself=<LocalRef obj=0x5556164b2122 at 0x7f8fc5c173d0>>,\n",
       " <io.anserini.search.ScoredDoc at 0x7f8fc562b510 jclass=io/anserini/search/ScoredDoc jself=<LocalRef obj=0x5556164b212a at 0x7f8fc5c16b30>>,\n",
       " <io.anserini.search.ScoredDoc at 0x7f8fc5628310 jclass=io/anserini/search/ScoredDoc jself=<LocalRef obj=0x5556164b2132 at 0x7f8fc5c16f90>>,\n",
       " <io.anserini.search.ScoredDoc at 0x7f8fc562a200 jclass=io/anserini/search/ScoredDoc jself=<LocalRef obj=0x5556164b213a at 0x7f8fc5c17010>>,\n",
       " <io.anserini.search.ScoredDoc at 0x7f8fc562a6b0 jclass=io/anserini/search/ScoredDoc jself=<LocalRef obj=0x5556164b2142 at 0x7f8fc5c17130>>,\n",
       " <io.anserini.search.ScoredDoc at 0x7f8fc562bb00 jclass=io/anserini/search/ScoredDoc jself=<LocalRef obj=0x5556164b2152 at 0x7f8fc5c16df0>>,\n",
       " <io.anserini.search.ScoredDoc at 0x7f8fc562bc90 jclass=io/anserini/search/ScoredDoc jself=<LocalRef obj=0x5556164b215a at 0x7f8fc5c174b0>>,\n",
       " <io.anserini.search.ScoredDoc at 0x7f8fc5628130 jclass=io/anserini/search/ScoredDoc jself=<LocalRef obj=0x5556164b2162 at 0x7f8fc5c17430>>,\n",
       " <io.anserini.search.ScoredDoc at 0x7f8fc56281d0 jclass=io/anserini/search/ScoredDoc jself=<LocalRef obj=0x5556164b216a at 0x7f8fc5c174f0>>,\n",
       " <io.anserini.search.ScoredDoc at 0x7f8fc5628360 jclass=io/anserini/search/ScoredDoc jself=<LocalRef obj=0x5556164b2172 at 0x7f8fc5c16d30>>,\n",
       " <io.anserini.search.ScoredDoc at 0x7f8fc562a070 jclass=io/anserini/search/ScoredDoc jself=<LocalRef obj=0x5556164b217a at 0x7f8fc5c16ed0>>,\n",
       " <io.anserini.search.ScoredDoc at 0x7f8fc5628ef0 jclass=io/anserini/search/ScoredDoc jself=<LocalRef obj=0x5556164b2182 at 0x7f8fc5c17350>>,\n",
       " <io.anserini.search.ScoredDoc at 0x7f8fc562b790 jclass=io/anserini/search/ScoredDoc jself=<LocalRef obj=0x5556164b218a at 0x7f8fc5c17070>>,\n",
       " <io.anserini.search.ScoredDoc at 0x7f8fc562b9c0 jclass=io/anserini/search/ScoredDoc jself=<LocalRef obj=0x5556164b2192 at 0x7f8fc5c17390>>,\n",
       " <io.anserini.search.ScoredDoc at 0x7f8fc562ba10 jclass=io/anserini/search/ScoredDoc jself=<LocalRef obj=0x5556164b219a at 0x7f8fc5c16e90>>,\n",
       " <io.anserini.search.ScoredDoc at 0x7f8fc562bab0 jclass=io/anserini/search/ScoredDoc jself=<LocalRef obj=0x5556164b21a2 at 0x7f8fc5c16eb0>>,\n",
       " <io.anserini.search.ScoredDoc at 0x7f8fc562b920 jclass=io/anserini/search/ScoredDoc jself=<LocalRef obj=0x5556164b21aa at 0x7f8fc5c16a90>>,\n",
       " <io.anserini.search.ScoredDoc at 0x7f8fc562b880 jclass=io/anserini/search/ScoredDoc jself=<LocalRef obj=0x5556164b21b2 at 0x7f8fc5c17190>>,\n",
       " <io.anserini.search.ScoredDoc at 0x7f8fc562b830 jclass=io/anserini/search/ScoredDoc jself=<LocalRef obj=0x5556164b21ba at 0x7f8fc5c17270>>,\n",
       " <io.anserini.search.ScoredDoc at 0x7f8fc562b7e0 jclass=io/anserini/search/ScoredDoc jself=<LocalRef obj=0x5556164b21c2 at 0x7f8fc5c172d0>>,\n",
       " <io.anserini.search.ScoredDoc at 0x7f8fc562b6f0 jclass=io/anserini/search/ScoredDoc jself=<LocalRef obj=0x5556164b203a at 0x7f8fc5c16bd0>>,\n",
       " <io.anserini.search.ScoredDoc at 0x7f8fc562b1a0 jclass=io/anserini/search/ScoredDoc jself=<LocalRef obj=0x5556164b21ca at 0x7f8fc5c16e30>>,\n",
       " <io.anserini.search.ScoredDoc at 0x7f8fc562b100 jclass=io/anserini/search/ScoredDoc jself=<LocalRef obj=0x5556164b21d2 at 0x7f8fc5c16bb0>>,\n",
       " <io.anserini.search.ScoredDoc at 0x7f8fc562af70 jclass=io/anserini/search/ScoredDoc jself=<LocalRef obj=0x5556164b21da at 0x7f8fc5c16bf0>>,\n",
       " <io.anserini.search.ScoredDoc at 0x7f8fc562afc0 jclass=io/anserini/search/ScoredDoc jself=<LocalRef obj=0x5556164b21e2 at 0x7f8fc5c17310>>,\n",
       " <io.anserini.search.ScoredDoc at 0x7f8fc562b060 jclass=io/anserini/search/ScoredDoc jself=<LocalRef obj=0x5556164b21ea at 0x7f8fc5c16cd0>>,\n",
       " <io.anserini.search.ScoredDoc at 0x7f8fc562b0b0 jclass=io/anserini/search/ScoredDoc jself=<LocalRef obj=0x5556164b21f2 at 0x7f8fc5c17410>>,\n",
       " <io.anserini.search.ScoredDoc at 0x7f8fc562b1f0 jclass=io/anserini/search/ScoredDoc jself=<LocalRef obj=0x5556164b20da at 0x7f8fc5c173f0>>,\n",
       " <io.anserini.search.ScoredDoc at 0x7f8fc562b150 jclass=io/anserini/search/ScoredDoc jself=<LocalRef obj=0x5556164b21fa at 0x7f8fc5c16e10>>,\n",
       " <io.anserini.search.ScoredDoc at 0x7f8fc562b240 jclass=io/anserini/search/ScoredDoc jself=<LocalRef obj=0x5556164b3212 at 0x7f8fc5c17510>>,\n",
       " <io.anserini.search.ScoredDoc at 0x7f8fc562ad90 jclass=io/anserini/search/ScoredDoc jself=<LocalRef obj=0x5556164b3222 at 0x7f8fc5c17170>>,\n",
       " <io.anserini.search.ScoredDoc at 0x7f8fc562b010 jclass=io/anserini/search/ScoredDoc jself=<LocalRef obj=0x5556164b323a at 0x7f8fc5c17370>>,\n",
       " <io.anserini.search.ScoredDoc at 0x7f8fc562b470 jclass=io/anserini/search/ScoredDoc jself=<LocalRef obj=0x5556164b3242 at 0x7f8fc5c17450>>,\n",
       " <io.anserini.search.ScoredDoc at 0x7f8fc562b560 jclass=io/anserini/search/ScoredDoc jself=<LocalRef obj=0x5556164b324a at 0x7f8fc5c172b0>>,\n",
       " <io.anserini.search.ScoredDoc at 0x7f8fc562ade0 jclass=io/anserini/search/ScoredDoc jself=<LocalRef obj=0x5556164b3252 at 0x7f8fc5c16cf0>>,\n",
       " <io.anserini.search.ScoredDoc at 0x7f8fc562ad40 jclass=io/anserini/search/ScoredDoc jself=<LocalRef obj=0x5556164b325a at 0x7f8fc5c16fd0>>,\n",
       " <io.anserini.search.ScoredDoc at 0x7f8fc562acf0 jclass=io/anserini/search/ScoredDoc jself=<LocalRef obj=0x5556164b3262 at 0x7f8fc5c16d50>>,\n",
       " <io.anserini.search.ScoredDoc at 0x7f8fc562aca0 jclass=io/anserini/search/ScoredDoc jself=<LocalRef obj=0x5556164b326a at 0x7f8fc5c16db0>>,\n",
       " <io.anserini.search.ScoredDoc at 0x7f8fc562ac50 jclass=io/anserini/search/ScoredDoc jself=<LocalRef obj=0x5556164b3272 at 0x7f8fc5c16c90>>,\n",
       " <io.anserini.search.ScoredDoc at 0x7f8fc562b3d0 jclass=io/anserini/search/ScoredDoc jself=<LocalRef obj=0x5556164b327a at 0x7f8fc5c17530>>,\n",
       " <io.anserini.search.ScoredDoc at 0x7f8fc55ff600 jclass=io/anserini/search/ScoredDoc jself=<LocalRef obj=0x5556164b32ba at 0x7f8fc5c17110>>,\n",
       " <io.anserini.search.ScoredDoc at 0x7f8fc55ff650 jclass=io/anserini/search/ScoredDoc jself=<LocalRef obj=0x5556164b32c2 at 0x7f8fc5c17330>>,\n",
       " <io.anserini.search.ScoredDoc at 0x7f8fc55ff6a0 jclass=io/anserini/search/ScoredDoc jself=<LocalRef obj=0x5556164b32d2 at 0x7f8fc5c17490>>,\n",
       " <io.anserini.search.ScoredDoc at 0x7f8fc55ff6f0 jclass=io/anserini/search/ScoredDoc jself=<LocalRef obj=0x5556164b32da at 0x7f8fc5c17150>>,\n",
       " <io.anserini.search.ScoredDoc at 0x7f8fc55ff740 jclass=io/anserini/search/ScoredDoc jself=<LocalRef obj=0x5556164b32e2 at 0x7f8fc5c16e50>>,\n",
       " <io.anserini.search.ScoredDoc at 0x7f8fc55ff790 jclass=io/anserini/search/ScoredDoc jself=<LocalRef obj=0x5556164b32ea at 0x7f8fc5c17470>>,\n",
       " <io.anserini.search.ScoredDoc at 0x7f8fc55ff7e0 jclass=io/anserini/search/ScoredDoc jself=<LocalRef obj=0x5556164b32f2 at 0x7f8fc5c16c50>>,\n",
       " <io.anserini.search.ScoredDoc at 0x7f8fc55ff830 jclass=io/anserini/search/ScoredDoc jself=<LocalRef obj=0x5556164b32fa at 0x7f8fc5c16f10>>,\n",
       " <io.anserini.search.ScoredDoc at 0x7f8fc55ff880 jclass=io/anserini/search/ScoredDoc jself=<LocalRef obj=0x5556164b3302 at 0x7f8fc5c16ff0>>,\n",
       " <io.anserini.search.ScoredDoc at 0x7f8fc55ff8d0 jclass=io/anserini/search/ScoredDoc jself=<LocalRef obj=0x5556164b330a at 0x7f8fc5c16b10>>,\n",
       " <io.anserini.search.ScoredDoc at 0x7f8fc55ff920 jclass=io/anserini/search/ScoredDoc jself=<LocalRef obj=0x5556164b3312 at 0x7f8fc5c16a50>>,\n",
       " <io.anserini.search.ScoredDoc at 0x7f8fc55ff970 jclass=io/anserini/search/ScoredDoc jself=<LocalRef obj=0x5556164b331a at 0x7f8fc5c171b0>>,\n",
       " <io.anserini.search.ScoredDoc at 0x7f8fc55ff9c0 jclass=io/anserini/search/ScoredDoc jself=<LocalRef obj=0x5556164b3322 at 0x7f8fc5c16b90>>,\n",
       " <io.anserini.search.ScoredDoc at 0x7f8fc55ffa10 jclass=io/anserini/search/ScoredDoc jself=<LocalRef obj=0x5556164b332a at 0x7f8fc5c16e70>>,\n",
       " <io.anserini.search.ScoredDoc at 0x7f8fc55ffa60 jclass=io/anserini/search/ScoredDoc jself=<LocalRef obj=0x5556164b3332 at 0x7f8fc5c16cb0>>,\n",
       " <io.anserini.search.ScoredDoc at 0x7f8fc55ffab0 jclass=io/anserini/search/ScoredDoc jself=<LocalRef obj=0x5556164b333a at 0x7f8fc5c171d0>>,\n",
       " <io.anserini.search.ScoredDoc at 0x7f8fc55ffb00 jclass=io/anserini/search/ScoredDoc jself=<LocalRef obj=0x5556164b3342 at 0x7f8fc5c174d0>>,\n",
       " <io.anserini.search.ScoredDoc at 0x7f8fc55ffb50 jclass=io/anserini/search/ScoredDoc jself=<LocalRef obj=0x5556164b334a at 0x7f8fc5c16f70>>,\n",
       " <io.anserini.search.ScoredDoc at 0x7f8fc55ffba0 jclass=io/anserini/search/ScoredDoc jself=<LocalRef obj=0x5556164b3362 at 0x7f8fc5c17090>>,\n",
       " <io.anserini.search.ScoredDoc at 0x7f8fc55ffbf0 jclass=io/anserini/search/ScoredDoc jself=<LocalRef obj=0x5556164b336a at 0x7f8fc5c17030>>,\n",
       " <io.anserini.search.ScoredDoc at 0x7f8fc55ffc40 jclass=io/anserini/search/ScoredDoc jself=<LocalRef obj=0x5556164b3372 at 0x7f8fc5c16ef0>>,\n",
       " <io.anserini.search.ScoredDoc at 0x7f8fc55ffc90 jclass=io/anserini/search/ScoredDoc jself=<LocalRef obj=0x5556164b337a at 0x7f8fc5c170b0>>,\n",
       " <io.anserini.search.ScoredDoc at 0x7f8fc55ffce0 jclass=io/anserini/search/ScoredDoc jself=<LocalRef obj=0x5556164b3382 at 0x7f8fc5c16f50>>,\n",
       " <io.anserini.search.ScoredDoc at 0x7f8fc55ffd30 jclass=io/anserini/search/ScoredDoc jself=<LocalRef obj=0x5556164b338a at 0x7f8fc5c170f0>>,\n",
       " <io.anserini.search.ScoredDoc at 0x7f8fc55ffd80 jclass=io/anserini/search/ScoredDoc jself=<LocalRef obj=0x5556164b3392 at 0x7f8fc5c171f0>>,\n",
       " <io.anserini.search.ScoredDoc at 0x7f8fc55ffdd0 jclass=io/anserini/search/ScoredDoc jself=<LocalRef obj=0x5556164b339a at 0x7f8fc5c17210>>,\n",
       " <io.anserini.search.ScoredDoc at 0x7f8fc55ffe20 jclass=io/anserini/search/ScoredDoc jself=<LocalRef obj=0x5556164b33a2 at 0x7f8fc5c16dd0>>,\n",
       " <io.anserini.search.ScoredDoc at 0x7f8fc55ffe70 jclass=io/anserini/search/ScoredDoc jself=<LocalRef obj=0x5556164b33aa at 0x7f8fc5c16b70>>,\n",
       " <io.anserini.search.ScoredDoc at 0x7f8fc55ffec0 jclass=io/anserini/search/ScoredDoc jself=<LocalRef obj=0x5556164b33b2 at 0x7f8fc5c17290>>,\n",
       " <io.anserini.search.ScoredDoc at 0x7f8fc55fff10 jclass=io/anserini/search/ScoredDoc jself=<LocalRef obj=0x5556164b33ba at 0x7f8fc5c17050>>,\n",
       " <io.anserini.search.ScoredDoc at 0x7f8fc55fff60 jclass=io/anserini/search/ScoredDoc jself=<LocalRef obj=0x5556164b33c2 at 0x7f8fc5c17550>>,\n",
       " <io.anserini.search.ScoredDoc at 0x7f8fc55fffb0 jclass=io/anserini/search/ScoredDoc jself=<LocalRef obj=0x5556164b33ca at 0x7f8fc5c17570>>,\n",
       " <io.anserini.search.ScoredDoc at 0x7f8fc55fcbd0 jclass=io/anserini/search/ScoredDoc jself=<LocalRef obj=0x5556164b33d2 at 0x7f8fc5c17590>>,\n",
       " <io.anserini.search.ScoredDoc at 0x7f8fc55fd3f0 jclass=io/anserini/search/ScoredDoc jself=<LocalRef obj=0x5556164b33da at 0x7f8fc5c175b0>>,\n",
       " <io.anserini.search.ScoredDoc at 0x7f8fc55fc450 jclass=io/anserini/search/ScoredDoc jself=<LocalRef obj=0x5556164b33e2 at 0x7f8fc5c175d0>>,\n",
       " <io.anserini.search.ScoredDoc at 0x7f8fc55fc720 jclass=io/anserini/search/ScoredDoc jself=<LocalRef obj=0x5556164b33ea at 0x7f8fc5c175f0>>,\n",
       " <io.anserini.search.ScoredDoc at 0x7f8fc55fccc0 jclass=io/anserini/search/ScoredDoc jself=<LocalRef obj=0x5556164b33f2 at 0x7f8fc5c17610>>,\n",
       " <io.anserini.search.ScoredDoc at 0x7f8fc55fc770 jclass=io/anserini/search/ScoredDoc jself=<LocalRef obj=0x5556164b33fa at 0x7f8fc5c17630>>,\n",
       " <io.anserini.search.ScoredDoc at 0x7f8fc55feb60 jclass=io/anserini/search/ScoredDoc jself=<LocalRef obj=0x55560eac273a at 0x7f8fc5c17650>>,\n",
       " <io.anserini.search.ScoredDoc at 0x7f8fc55fd080 jclass=io/anserini/search/ScoredDoc jself=<LocalRef obj=0x55560eac277a at 0x7f8fc5c17670>>,\n",
       " <io.anserini.search.ScoredDoc at 0x7f8fc55fce00 jclass=io/anserini/search/ScoredDoc jself=<LocalRef obj=0x55560eac2782 at 0x7f8fc5c17690>>,\n",
       " <io.anserini.search.ScoredDoc at 0x7f8fc55fcef0 jclass=io/anserini/search/ScoredDoc jself=<LocalRef obj=0x55560eac27c2 at 0x7f8fc5c176b0>>,\n",
       " <io.anserini.search.ScoredDoc at 0x7f8fc55fc400 jclass=io/anserini/search/ScoredDoc jself=<LocalRef obj=0x55560eac27ca at 0x7f8fc5c176d0>>,\n",
       " <io.anserini.search.ScoredDoc at 0x7f8fc55fca90 jclass=io/anserini/search/ScoredDoc jself=<LocalRef obj=0x55560eac27d2 at 0x7f8fc5c176f0>>,\n",
       " <io.anserini.search.ScoredDoc at 0x7f8fc55fcb80 jclass=io/anserini/search/ScoredDoc jself=<LocalRef obj=0x55560eac27ea at 0x7f8fc5c17710>>,\n",
       " <io.anserini.search.ScoredDoc at 0x7f8fc55fd260 jclass=io/anserini/search/ScoredDoc jself=<LocalRef obj=0x55560eac27f2 at 0x7f8fc5c17730>>,\n",
       " <io.anserini.search.ScoredDoc at 0x7f8fc55fd3a0 jclass=io/anserini/search/ScoredDoc jself=<LocalRef obj=0x55560eac27fa at 0x7f8fc5c17750>>,\n",
       " <io.anserini.search.ScoredDoc at 0x7f8fc55fd0d0 jclass=io/anserini/search/ScoredDoc jself=<LocalRef obj=0x55560eac2802 at 0x7f8fc5c17770>>,\n",
       " <io.anserini.search.ScoredDoc at 0x7f8fc55fcea0 jclass=io/anserini/search/ScoredDoc jself=<LocalRef obj=0x55560eac280a at 0x7f8fc5c17790>>,\n",
       " <io.anserini.search.ScoredDoc at 0x7f8fc55fd030 jclass=io/anserini/search/ScoredDoc jself=<LocalRef obj=0x55560eac2812 at 0x7f8fc5c177b0>>,\n",
       " <io.anserini.search.ScoredDoc at 0x7f8fc55fcf90 jclass=io/anserini/search/ScoredDoc jself=<LocalRef obj=0x55560eac281a at 0x7f8fc5c177d0>>,\n",
       " <io.anserini.search.ScoredDoc at 0x7f8fc55fca40 jclass=io/anserini/search/ScoredDoc jself=<LocalRef obj=0x55560eac2822 at 0x7f8fc5c177f0>>,\n",
       " <io.anserini.search.ScoredDoc at 0x7f8fc55fc4f0 jclass=io/anserini/search/ScoredDoc jself=<LocalRef obj=0x55560eac282a at 0x7f8fc5c17810>>,\n",
       " <io.anserini.search.ScoredDoc at 0x7f8fc55fcf40 jclass=io/anserini/search/ScoredDoc jself=<LocalRef obj=0x55560eac2832 at 0x7f8fc5c17830>>,\n",
       " <io.anserini.search.ScoredDoc at 0x7f8fc55fcc20 jclass=io/anserini/search/ScoredDoc jself=<LocalRef obj=0x55560eac283a at 0x7f8fc5c17850>>]"
      ]
     },
     "execution_count": 133,
     "metadata": {},
     "output_type": "execute_result"
    }
   ],
   "source": [
    "hits"
   ]
  },
  {
   "cell_type": "code",
   "execution_count": 105,
   "metadata": {},
   "outputs": [
    {
     "data": {
      "text/plain": [
       "'{\\n  \"_id\" : \"MED-2437\",\\n  \"title\" : \"Diet and breast cancer: understanding risks and benefits.\",\\n  \"text\" : \"BACKGROUND: Breast cancer is the most commonly diagnosed cancer among women in the United States. Extensive research has been completed to evaluate the relationship between dietary factors and breast cancer risk and survival after breast cancer; however, a summary report with clinical inference is needed. Materials and METHODS: This review summarizes the current epidemiological and clinical trial evidence relating diet to breast cancer incidence, recurrence, survival, and mortality. The review includes emerging epidemiological studies that assess risk within breast cancer subtypes as well as a summary of previous and ongoing dietary intervention trials designed to modify breast cancer risk. RESULTS: The available literature suggests that both low-fat and high-fiber diets may be weakly protective against breast cancer, whereas total energy intake and alcohol appear to be positively associated. Fiber may be weakly protective possibly through modulation of estrogen, whereas fruit and vegetable intake is not clearly associated with risk. Obesity is a risk factor for postmenopausal disease, and adult weight gain should be avoided to reduce risk. In survivors, diet has the greatest potential influence on overall mortality rather than breast cancer-specific events. CONCLUSION: Diet is modestly associated with breast cancer risk; associations appear more pronounced for postmenopausal disease, and healthy choices after diagnosis and treatment likely support longevity more so than reduced risk for recurrent disease.\",\\n  \"metadata\" : {\\n    \"url\" : \"http://www.ncbi.nlm.nih.gov/pubmed/22948801\"\\n  },\\n  \"vector\" : {\\n    \"and\" : 47,\\n    \"against\" : 18,\\n    \"men\" : 50,\\n    \"women\" : 14,\\n    \"book\" : 49,\\n    \"research\" : 3,\\n    \"post\" : 40,\\n    \"health\" : 31,\\n    \"food\" : 125,\\n    \"energy\" : 17,\\n    \"medical\" : 41,\\n    \"report\" : 18,\\n    \"pain\" : 3,\\n    \"issue\" : 4,\\n    \"review\" : 97,\\n    \"sex\" : 17,\\n    \"choice\" : 49,\\n    \"weight\" : 27,\\n    \"sleep\" : 19,\\n    \"influence\" : 15,\\n    \"risk\" : 92,\\n    \"trial\" : 42,\\n    \"disease\" : 24,\\n    \"cancer\" : 109,\\n    \"materials\" : 14,\\n    \"adult\" : 22,\\n    \"bc\" : 31,\\n    \"bird\" : 2,\\n    \"gene\" : 84,\\n    \"survey\" : 25,\\n    \"protein\" : 17,\\n    \"benefit\" : 49,\\n    \"patient\" : 8,\\n    \"factors\" : 30,\\n    \"fruit\" : 63,\\n    \"bone\" : 1,\\n    \"meat\" : 70,\\n    \"alcohol\" : 20,\\n    \"clinical\" : 30,\\n    \"fat\" : 74,\\n    \"benefits\" : 84,\\n    \"biological\" : 9,\\n    \"breast\" : 89,\\n    \"assessment\" : 7,\\n    \"survival\" : 53,\\n    \"nursing\" : 0,\\n    \"diet\" : 175,\\n    \"intervention\" : 77,\\n    \"gut\" : 51,\\n    \"fiber\" : 91,\\n    \"aging\" : 28,\\n    \"summary\" : 32,\\n    \"volcano\" : 71,\\n    \"recommendation\" : 9,\\n    \"intake\" : 70,\\n    \"nutrition\" : 91,\\n    \"grape\" : 5,\\n    \"vitamin\" : 4,\\n    \"mushroom\" : 8,\\n    \"incidence\" : 21,\\n    \"disadvantage\" : 29,\\n    \"toxicity\" : 38,\\n    \"dietary\" : 105,\\n    \"obesity\" : 73,\\n    \"covid 19\" : 13,\\n    \"big data\" : 56,\\n    \"breast cancer\" : 135,\\n    \"risk factors\" : 19,\\n    \"knowledge graph\" : 10,\\n    \"coronavirus\" : 13,\\n    \"vitamin d\" : 59,\\n    \"clinical trial\" : 66,\\n    \"genotype\" : 7,\\n    \"her2\" : 28,\\n    \"recurrence\" : 51,\\n    \"diabetes mellitus\" : 10,\\n    \"estrogen receptor\" : 8,\\n    \"green tea\" : 33,\\n    \"estrogen\" : 68,\\n    \"cisplatin\" : 13,\\n    \"proteomics\" : 18,\\n    \"mammography\" : 33,\\n    \"smote\" : 14,\\n    \"aquaculture\" : 8,\\n    \"interpretability\" : 21,\\n    \"risk factor\" : 31,\\n    \"pesticide\" : 21,\\n    \"gelatin\" : 5,\\n    \"influencer marketing\" : 30,\\n    \"weight gain\" : 2\\n  },\\n  \"id\" : \"MED-2437\"\\n}'"
      ]
     },
     "execution_count": 105,
     "metadata": {},
     "output_type": "execute_result"
    }
   ],
   "source": [
    "phrase_splade_searcher.doc(chosen_doc_id).lucene_document().get(\"raw\")"
   ]
  },
  {
   "cell_type": "code",
   "execution_count": 82,
   "metadata": {},
   "outputs": [
    {
     "name": "stdout",
     "output_type": "stream",
     "text": [
      "toxicity\n",
      "inhibitors\n",
      "stat\n",
      "gene\n",
      "drugs\n",
      "ch\n",
      "vitamin d\n",
      "cause\n",
      "breast cancer\n",
      "do\n",
      "cho\n",
      "drug\n",
      "does\n",
      "causes\n",
      "cancer\n",
      "breast\n",
      "?\n",
      "status\n"
     ]
    }
   ],
   "source": [
    "for item in jquery.keySet():\n",
    "    print(item)"
   ]
  },
  {
   "cell_type": "code",
   "execution_count": 70,
   "metadata": {},
   "outputs": [
    {
     "data": {
      "text/plain": [
       "{'?': 1,\n",
       " 'do': 96,\n",
       " 'does': 34,\n",
       " 'cause': 99,\n",
       " 'status': 1,\n",
       " 'drug': 75,\n",
       " 'cancer': 129,\n",
       " 'gene': 122,\n",
       " 'causes': 29,\n",
       " 'drugs': 94,\n",
       " 'breast': 98,\n",
       " 'ch': 2,\n",
       " 'cho': 164,\n",
       " 'toxicity': 25,\n",
       " 'inhibitors': 17,\n",
       " 'stat': 138,\n",
       " 'breast cancer': 158,\n",
       " 'vitamin d': 51}"
      ]
     },
     "execution_count": 70,
     "metadata": {},
     "output_type": "execute_result"
    }
   ],
   "source": [
    "phrase_splade_query_rep"
   ]
  },
  {
   "cell_type": "code",
   "execution_count": null,
   "metadata": {},
   "outputs": [],
   "source": []
  }
 ],
 "metadata": {
  "kernelspec": {
   "display_name": "venv310",
   "language": "python",
   "name": "python3"
  },
  "language_info": {
   "codemirror_mode": {
    "name": "ipython",
    "version": 3
   },
   "file_extension": ".py",
   "mimetype": "text/x-python",
   "name": "python",
   "nbconvert_exporter": "python",
   "pygments_lexer": "ipython3",
   "version": "3.10.14"
  }
 },
 "nbformat": 4,
 "nbformat_minor": 2
}
