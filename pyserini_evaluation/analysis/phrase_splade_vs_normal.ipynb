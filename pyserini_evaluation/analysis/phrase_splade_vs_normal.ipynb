{
 "cells": [
  {
   "cell_type": "code",
   "execution_count": 36,
   "metadata": {},
   "outputs": [],
   "source": [
    "import json\n",
    "import pandas as pd\n",
    "from pyserini.search.lucene import LuceneImpactSearcher\n",
    "from pyserini.pyclass import JFloat, JInt, JHashMap"
   ]
  },
  {
   "cell_type": "code",
   "execution_count": 115,
   "metadata": {},
   "outputs": [],
   "source": [
    "def dot_product(dict1, dict2):\n",
    "    # Calculate the dot product of two dictionaries\n",
    "    print([[k, dict1[k] * dict2[k]] for k in dict1 if k in dict2])\n",
    "    return sum(dict1[key] * dict2.get(key, 0) for key in dict1)\n",
    "\n",
    "\n",
    "def create_jquery(encoded_query, searcher, fields = {}):\n",
    "    jfields = JHashMap()\n",
    "    for (field, boost) in fields.items():\n",
    "        jfields.put(field, JFloat(boost))\n",
    "\n",
    "    jquery = JHashMap()\n",
    "    for (token, weight) in encoded_query.items():\n",
    "        # if token in searcher.idf and searcher.idf[token] >= searcher.min_idf:\n",
    "        jquery.put(token, JInt(weight))\n",
    "\n",
    "    return jquery"
   ]
  },
  {
   "cell_type": "code",
   "execution_count": 116,
   "metadata": {},
   "outputs": [],
   "source": [
    "phrase_splade_metadata_path = \"/home/lamdo/splade/pyserini_evaluation/metadata/nfcorpus__phrase_splade\"\n",
    "normal_splade_metadata_path = \"/home/lamdo/splade/pyserini_evaluation/metadata/nfcorpus__eru_kg\"\n",
    "\n",
    "qrel_path = \"/home/lamdo/splade/data/beir/nfcorpus/qrels/test.tsv\""
   ]
  },
  {
   "cell_type": "code",
   "execution_count": 117,
   "metadata": {},
   "outputs": [],
   "source": [
    "phrase_splade_searcher = LuceneImpactSearcher(\"/scratch/lamdo/beir_splade/indexes/nfcorpus__phrase_splade\", query_encoder=None)\n",
    "normal_splade_searcher = LuceneImpactSearcher(\"/scratch/lamdo/beir_splade/indexes/nfcorpus__eru_kg\", query_encoder=None)"
   ]
  },
  {
   "cell_type": "code",
   "execution_count": 118,
   "metadata": {},
   "outputs": [],
   "source": [
    "_qrels = pd.read_csv(qrel_path, sep='\\t').to_dict(\"records\")\n",
    "    \n",
    "qrel_metadata = {}\n",
    "for line in _qrels:\n",
    "    query_id = str(line[\"query-id\"])\n",
    "    doc_id = line[\"corpus-id\"]\n",
    "    score = line[\"score\"]\n",
    "\n",
    "    if query_id not in qrel_metadata:\n",
    "        qrel_metadata[query_id] = []\n",
    "\n",
    "    qrel_metadata[query_id].append({\n",
    "        \"docid\": doc_id,\n",
    "        \"score\": score\n",
    "    })"
   ]
  },
  {
   "cell_type": "code",
   "execution_count": 119,
   "metadata": {},
   "outputs": [],
   "source": [
    "with open(phrase_splade_metadata_path) as f:\n",
    "    phrase_splade_metadata = json.load(f)\n",
    "\n",
    "with open(normal_splade_metadata_path) as f:\n",
    "    normal_splade_metadata = json.load(f)"
   ]
  },
  {
   "cell_type": "code",
   "execution_count": 120,
   "metadata": {},
   "outputs": [
    {
     "name": "stdout",
     "output_type": "stream",
     "text": [
      "QueryId PLAIN-2\n",
      "{'cho': 164, 'breast-cancer': 158, 'stat': 138, 'cancer': 129, 'gene': 122, 'cause': 99, 'breast': 98, 'do': 96, 'drugs': 94, 'drug': 75, 'vitamin-d': 51, 'does': 34, 'causes': 29, 'toxicity': 25, 'inhibitors': 17, 'ch': 2, '?': 1, 'status': 1}\n",
      "\n",
      "{'stat': 174, 'cho': 172, 'breast': 170, 'cancer': 158, 'drugs': 132, 'cause': 128, 'do': 99, 'drug': 81, '##terol': 80, 'christian': 48, '?': 37, '##in': 22}\n"
     ]
    }
   ],
   "source": [
    "# normal_splade_metadata[\"encoded_queries\"][1], phrase_splade_metadata[\"encoded_queries\"][1]\n",
    "chosen_index = 0\n",
    "\n",
    "phrase_splade_query_rep = phrase_splade_metadata[\"encoded_queries\"][chosen_index][\"vector\"]\n",
    "normal_splade_query_rep = normal_splade_metadata[\"encoded_queries\"][chosen_index][\"vector\"]\n",
    "\n",
    "query_id = normal_splade_metadata[\"encoded_queries\"][chosen_index][\"query_id\"]\n",
    "\n",
    "print(\"QueryId\", query_id)\n",
    "print({k: v for k, v in sorted(phrase_splade_query_rep.items(), key=lambda item: -item[1])})\n",
    "print()\n",
    "print({k: v for k, v in sorted(normal_splade_query_rep.items(), key=lambda item: -item[1])})"
   ]
  },
  {
   "cell_type": "code",
   "execution_count": 121,
   "metadata": {},
   "outputs": [],
   "source": [
    "chosen_query_id = query_id\n",
    "doc_ids = [line['docid'] for line in qrel_metadata[chosen_query_id] if line[\"score\"]]"
   ]
  },
  {
   "cell_type": "code",
   "execution_count": 122,
   "metadata": {},
   "outputs": [
    {
     "name": "stdout",
     "output_type": "stream",
     "text": [
      "score range normal 46056.0 91039.0\n",
      "score range phrase 50706.0 75067.0\n",
      "MED-2427\n",
      "normal splade 54602.0\n",
      "phrase splade 57254.0\n",
      "\n",
      "MED-10\n",
      "normal splade 91039.0\n",
      "phrase splade 73880.0\n",
      "\n",
      "MED-2429\n",
      "normal splade 74674.0\n",
      "phrase splade 73096.0\n",
      "\n",
      "MED-2430\n",
      "normal splade 0\n",
      "phrase splade 0\n",
      "\n",
      "MED-2431\n",
      "normal splade 85050.0\n",
      "phrase splade 75067.0\n",
      "\n",
      "MED-14\n",
      "normal splade 83504.0\n",
      "phrase splade 73082.0\n",
      "\n",
      "MED-2432\n",
      "normal splade 55626.0\n",
      "phrase splade 0\n",
      "\n",
      "MED-2428\n",
      "normal splade 55418.0\n",
      "phrase splade 0\n",
      "\n",
      "MED-2440\n",
      "normal splade 80482.0\n",
      "phrase splade 58168.0\n",
      "\n",
      "MED-2434\n",
      "normal splade 61922.0\n",
      "phrase splade 63489.0\n",
      "\n",
      "MED-2435\n",
      "normal splade 60078.0\n",
      "phrase splade 64462.0\n",
      "\n",
      "MED-2436\n",
      "normal splade 52208.0\n",
      "phrase splade 59550.0\n",
      "\n",
      "MED-2437\n",
      "normal splade 52422.0\n",
      "phrase splade 58320.0\n",
      "\n",
      "MED-2438\n",
      "normal splade 0\n",
      "phrase splade 0\n",
      "\n",
      "MED-2439\n",
      "normal splade 72384.0\n",
      "phrase splade 64919.0\n",
      "\n",
      "MED-3597\n",
      "normal splade 0\n",
      "phrase splade 0\n",
      "\n",
      "MED-3598\n",
      "normal splade 0\n",
      "phrase splade 0\n",
      "\n",
      "MED-3599\n",
      "normal splade 0\n",
      "phrase splade 0\n",
      "\n",
      "MED-4556\n",
      "normal splade 0\n",
      "phrase splade 0\n",
      "\n",
      "MED-4559\n",
      "normal splade 0\n",
      "phrase splade 0\n",
      "\n",
      "MED-4560\n",
      "normal splade 0\n",
      "phrase splade 0\n",
      "\n",
      "MED-4828\n",
      "normal splade 0\n",
      "phrase splade 0\n",
      "\n",
      "MED-4829\n",
      "normal splade 0\n",
      "phrase splade 0\n",
      "\n",
      "MED-4830\n",
      "normal splade 54458.0\n",
      "phrase splade 52182.0\n",
      "\n"
     ]
    }
   ],
   "source": [
    "min_normal, max_normal = min(normal_splade_metadata[\"predictions\"][chosen_query_id].values()), max(normal_splade_metadata[\"predictions\"][chosen_query_id].values())\n",
    "min_phrase, max_phrase = min(phrase_splade_metadata[\"predictions\"][chosen_query_id].values()), max(phrase_splade_metadata[\"predictions\"][chosen_query_id].values())\n",
    "\n",
    "print(\"score range normal\", min_normal, max_normal)\n",
    "print(\"score range phrase\", min_phrase, max_phrase)\n",
    "for docid in doc_ids:\n",
    "    print(docid)\n",
    "    print(\"normal splade\", normal_splade_metadata[\"predictions\"][chosen_query_id].get(docid, 0))\n",
    "    print(\"phrase splade\", phrase_splade_metadata[\"predictions\"][chosen_query_id].get(docid, 0))\n",
    "\n",
    "    print()"
   ]
  },
  {
   "cell_type": "code",
   "execution_count": 123,
   "metadata": {},
   "outputs": [
    {
     "name": "stdout",
     "output_type": "stream",
     "text": [
      "BACKGROUND: Breast cancer is the most commonly diagnosed cancer among women in the United States. Extensive research has been completed to evaluate the relationship between dietary factors and breast cancer risk and survival after breast cancer; however, a summary report with clinical inference is needed. Materials and METHODS: This review summarizes the current epidemiological and clinical trial evidence relating diet to breast cancer incidence, recurrence, survival, and mortality. The review includes emerging epidemiological studies that assess risk within breast cancer subtypes as well as a summary of previous and ongoing dietary intervention trials designed to modify breast cancer risk. RESULTS: The available literature suggests that both low-fat and high-fiber diets may be weakly protective against breast cancer, whereas total energy intake and alcohol appear to be positively associated. Fiber may be weakly protective possibly through modulation of estrogen, whereas fruit and vegetable intake is not clearly associated with risk. Obesity is a risk factor for postmenopausal disease, and adult weight gain should be avoided to reduce risk. In survivors, diet has the greatest potential influence on overall mortality rather than breast cancer-specific events. CONCLUSION: Diet is modestly associated with breast cancer risk; associations appear more pronounced for postmenopausal disease, and healthy choices after diagnosis and treatment likely support longevity more so than reduced risk for recurrent disease.\n"
     ]
    }
   ],
   "source": [
    "chosen_doc_id = \"MED-2437\"\n",
    "\n",
    "print(json.loads(phrase_splade_searcher.doc(chosen_doc_id).lucene_document().get(\"raw\"))[\"text\"])\n",
    "\n",
    "phrase_splade_doc_rep = json.loads(phrase_splade_searcher.doc(chosen_doc_id).lucene_document().get(\"raw\"))[\"vector\"]\n",
    "normal_splade_doc_rep = json.loads(normal_splade_searcher.doc(chosen_doc_id).lucene_document().get(\"raw\"))[\"vector\"]"
   ]
  },
  {
   "cell_type": "code",
   "execution_count": 124,
   "metadata": {},
   "outputs": [
    {
     "name": "stdout",
     "output_type": "stream",
     "text": [
      "{'diet': 175, 'breast-cancer': 135, 'food': 125, 'cancer': 109, 'dietary': 105, 'review': 97, 'risk': 92, 'fiber': 91, 'nutrition': 91, 'breast': 89, 'gene': 84, 'benefits': 84, 'intervention': 77, 'fat': 74, 'obesity': 73, 'volcano': 71, 'meat': 70, 'intake': 70, 'estrogen': 68, 'clinical-trial': 66, 'fruit': 63, 'vitamin-d': 59, 'big-data': 56, 'survival': 53, 'gut': 51, 'recurrence': 51, 'men': 50, 'book': 49, 'choice': 49, 'benefit': 49, 'and': 47, 'trial': 42, 'medical': 41, 'post': 40, 'toxicity': 38, 'green-tea': 33, 'mammography': 33, 'summary': 32, 'health': 31, 'bc': 31, 'risk-factor': 31, 'factors': 30, 'clinical': 30, 'influencer-marketing': 30, 'disadvantage': 29, 'aging': 28, 'her2': 28, 'weight': 27, 'survey': 25, 'disease': 24, 'adult': 22, 'incidence': 21, 'interpretability': 21, 'pesticide': 21, 'alcohol': 20, 'sleep': 19, 'risk-factors': 19, 'against': 18, 'report': 18, 'proteomics': 18, 'energy': 17, 'sex': 17, 'protein': 17, 'influence': 15, 'women': 14, 'materials': 14, 'smote': 14, 'covid-19': 13, 'coronavirus': 13, 'cisplatin': 13, 'knowledge-graph': 10, 'diabetes-mellitus': 10, 'biological': 9, 'recommendation': 9, 'patient': 8, 'mushroom': 8, 'estrogen-receptor': 8, 'aquaculture': 8, 'assessment': 7, 'genotype': 7, 'grape': 5, 'gelatin': 5, 'issue': 4, 'vitamin': 4, 'research': 3, 'pain': 3, 'bird': 2, 'weight-gain': 2, 'bone': 1, 'nursing': 0}\n",
      "\n",
      "{'diet': 189, 'breast': 169, 'cancer': 146, 'obesity': 114, 'benefits': 112, 'fiber': 111, 'diagnosis': 109, 'fat': 97, 'adult': 86, 'fruit': 79, ',': 78, 'protein': 78, 'modulation': 78, 'explain': 73, '##usa': 73, 'risk': 72, 'dietary': 71, 'mortality': 70, 'food': 66, 'survival': 66, '##rogen': 66, 'vegetable': 64, 'is': 60, 'intake': 60, 'vitamin': 59, 'alcohol': 57, 'benefit': 54, '##ide': 50, 'report': 49, 'women': 48, 'est': 48, 'background': 47, 'weight': 46, 'patient': 46, '##rence': 45, 'materials': 44, 'gain': 43, 'healthy': 40, 'nutrition': 40, 'disease': 39, 'summary': 39, 'risks': 38, 'trial': 31, 'biological': 29, 'material': 28, 'and': 26, 'imaging': 26, 'research': 25, 'intervention': 25, 'pregnancy': 24, 'plant': 23, 'fruits': 23, 'incidence': 23, ':': 21, '|': 21, 'rec': 20, 'pregnant': 19, 'protective': 19, 'woman': 18, 'health': 17, 'factors': 17, 'bacteria': 17, 'parasite': 17, 'relationship': 16, '##s': 15, '##ur': 15, 'enzyme': 14, 'against': 13, 'christian': 13, 'energetic': 13, 'reporting': 11, 'vaccine': 8, 'includes': 7, 'vent': 7, 'lung': 5, 'gender': 4, 'epidemic': 4, 'egg': 3, 'understanding': 2, 'clinical': 2, '##opa': 2, 'event': 0, 'fish': 0, 'biology': 0}\n"
     ]
    }
   ],
   "source": [
    "print({k: v for k, v in sorted(phrase_splade_doc_rep.items(), key=lambda item: -item[1])})\n",
    "print()\n",
    "print({k: v for k, v in sorted(normal_splade_doc_rep.items(), key=lambda item: -item[1])})"
   ]
  },
  {
   "cell_type": "code",
   "execution_count": 125,
   "metadata": {},
   "outputs": [
    {
     "name": "stdout",
     "output_type": "stream",
     "text": [
      "[['cancer', 14061], ['gene', 10248], ['breast', 8722], ['toxicity', 950], ['breast-cancer', 21330], ['vitamin-d', 3009]]\n",
      "[['christian', 624], ['cancer', 23068], ['breast', 28730]]\n"
     ]
    },
    {
     "data": {
      "text/plain": [
       "(58320, 52422)"
      ]
     },
     "execution_count": 125,
     "metadata": {},
     "output_type": "execute_result"
    }
   ],
   "source": [
    "dot_product(phrase_splade_doc_rep, phrase_splade_query_rep), dot_product(normal_splade_doc_rep, normal_splade_query_rep)"
   ]
  },
  {
   "cell_type": "code",
   "execution_count": 126,
   "metadata": {},
   "outputs": [
    {
     "name": "stdout",
     "output_type": "stream",
     "text": [
      "QueryId PLAIN-2\n",
      "{'cho': 164, 'breast-cancer': 158, 'stat': 138, 'cancer': 129, 'gene': 122, 'cause': 99, 'breast': 98, 'do': 96, 'drugs': 94, 'drug': 75, 'vitamin-d': 51, 'does': 34, 'causes': 29, 'toxicity': 25, 'inhibitors': 17, 'ch': 2, '?': 1, 'status': 1}\n",
      "\n",
      "{'stat': 174, 'cho': 172, 'breast': 170, 'cancer': 158, 'drugs': 132, 'cause': 128, 'do': 99, 'drug': 81, '##terol': 80, 'christian': 48, '?': 37, '##in': 22}\n"
     ]
    }
   ],
   "source": [
    "print(\"QueryId\", query_id)\n",
    "print({k: v for k, v in sorted(phrase_splade_query_rep.items(), key=lambda item: -item[1])})\n",
    "print()\n",
    "print({k: v for k, v in sorted(normal_splade_query_rep.items(), key=lambda item: -item[1])})"
   ]
  },
  {
   "cell_type": "code",
   "execution_count": 127,
   "metadata": {},
   "outputs": [
    {
     "data": {
      "text/plain": [
       "{'MED-2431': 75067.0,\n",
       " 'MED-10': 73880.0,\n",
       " 'MED-2429': 73096.0,\n",
       " 'MED-14': 73082.0,\n",
       " 'MED-2439': 64919.0,\n",
       " 'MED-2435': 64462.0,\n",
       " 'MED-4695': 64196.0,\n",
       " 'MED-4226': 63963.0,\n",
       " 'MED-2434': 63489.0,\n",
       " 'MED-4117': 62829.0,\n",
       " 'MED-4223': 62120.0,\n",
       " 'MED-3856': 61849.0,\n",
       " 'MED-1371': 60873.0,\n",
       " 'MED-3832': 60854.0,\n",
       " 'MED-1825': 60557.0,\n",
       " 'MED-2122': 60474.0,\n",
       " 'MED-2436': 59550.0,\n",
       " 'MED-4097': 59150.0,\n",
       " 'MED-3849': 58640.0,\n",
       " 'MED-2437': 58320.0,\n",
       " 'MED-2440': 58168.0,\n",
       " 'MED-3833': 57984.0,\n",
       " 'MED-3841': 57984.0,\n",
       " 'MED-1564': 57860.0,\n",
       " 'MED-4827': 57724.0,\n",
       " 'MED-4096': 57613.0,\n",
       " 'MED-950': 57523.0,\n",
       " 'MED-4652': 57403.0,\n",
       " 'MED-3799': 57374.0,\n",
       " 'MED-3860': 57340.0,\n",
       " 'MED-1193': 57338.0,\n",
       " 'MED-2427': 57254.0,\n",
       " 'MED-1829': 56792.0,\n",
       " 'MED-5357': 56745.0,\n",
       " 'MED-4057': 56610.0,\n",
       " 'MED-4465': 56494.0,\n",
       " 'MED-4787': 56346.0,\n",
       " 'MED-2103': 56155.0,\n",
       " 'MED-3205': 55775.0,\n",
       " 'MED-3766': 55582.0,\n",
       " 'MED-838': 55308.0,\n",
       " 'MED-4440': 55103.0,\n",
       " 'MED-4049': 55088.0,\n",
       " 'MED-4643': 54946.0,\n",
       " 'MED-3862': 54922.0,\n",
       " 'MED-3447': 54910.0,\n",
       " 'MED-3797': 54736.0,\n",
       " 'MED-5001': 54715.0,\n",
       " 'MED-3767': 54685.0,\n",
       " 'MED-2138': 54514.0,\n",
       " 'MED-5117': 54475.0,\n",
       " 'MED-3129': 54402.0,\n",
       " 'MED-3857': 54320.0,\n",
       " 'MED-2414': 54277.0,\n",
       " 'MED-5184': 54223.0,\n",
       " 'MED-5114': 54149.0,\n",
       " 'MED-3858': 54118.0,\n",
       " 'MED-3241': 54043.0,\n",
       " 'MED-3791': 54037.0,\n",
       " 'MED-4162': 53740.0,\n",
       " 'MED-4785': 53616.0,\n",
       " 'MED-3139': 53548.0,\n",
       " 'MED-3551': 53519.0,\n",
       " 'MED-5066': 53282.0,\n",
       " 'MED-4651': 53222.0,\n",
       " 'MED-3795': 53199.0,\n",
       " 'MED-3442': 53066.0,\n",
       " 'MED-2251': 53034.0,\n",
       " 'MED-5182': 53008.0,\n",
       " 'MED-3200': 52909.0,\n",
       " 'MED-1151': 52890.0,\n",
       " 'MED-4786': 52804.0,\n",
       " 'MED-4050': 52771.0,\n",
       " 'MED-2139': 52583.0,\n",
       " 'MED-4094': 52520.0,\n",
       " 'MED-4830': 52182.0,\n",
       " 'MED-1532': 52149.0,\n",
       " 'MED-5087': 52135.0,\n",
       " 'MED-3840': 52073.0,\n",
       " 'MED-4783': 52018.0,\n",
       " 'MED-3696': 51972.0,\n",
       " 'MED-3762': 51957.0,\n",
       " 'MED-3836': 51923.0,\n",
       " 'MED-3123': 51831.0,\n",
       " 'MED-5086': 51824.0,\n",
       " 'MED-5052': 51823.0,\n",
       " 'MED-3844': 51780.0,\n",
       " 'MED-4925': 51710.0,\n",
       " 'MED-4826': 51675.0,\n",
       " 'MED-5352': 51622.0,\n",
       " 'MED-3848': 51590.0,\n",
       " 'MED-3855': 51554.0,\n",
       " 'MED-5197': 51513.0,\n",
       " 'MED-2152': 51237.0,\n",
       " 'MED-2571': 51185.0,\n",
       " 'MED-4646': 51161.0,\n",
       " 'MED-2423': 51081.0,\n",
       " 'MED-4642': 51006.0,\n",
       " 'MED-5116': 50987.0,\n",
       " 'MED-3238': 50706.0}"
      ]
     },
     "execution_count": 127,
     "metadata": {},
     "output_type": "execute_result"
    }
   ],
   "source": [
    "phrase_splade_metadata[\"predictions\"][query_id]"
   ]
  },
  {
   "cell_type": "code",
   "execution_count": null,
   "metadata": {},
   "outputs": [],
   "source": []
  },
  {
   "cell_type": "code",
   "execution_count": 131,
   "metadata": {},
   "outputs": [],
   "source": [
    "jquery = create_jquery({\"clinical-trial\": 100}, phrase_splade_searcher)"
   ]
  },
  {
   "cell_type": "code",
   "execution_count": 132,
   "metadata": {},
   "outputs": [],
   "source": [
    "hits = phrase_splade_searcher.object.search(jquery, 100)"
   ]
  },
  {
   "cell_type": "code",
   "execution_count": 133,
   "metadata": {},
   "outputs": [
    {
     "data": {
      "text/plain": [
       "[<io.anserini.search.ScoredDoc at 0x7f8fc4fce610 jclass=io/anserini/search/ScoredDoc jself=<LocalRef obj=0x5556164b20e2 at 0x7f8fc5af71b0>>,\n",
       " <io.anserini.search.ScoredDoc at 0x7f8fc4fce1b0 jclass=io/anserini/search/ScoredDoc jself=<LocalRef obj=0x5556164b20f2 at 0x7f8fc5c170d0>>,\n",
       " <io.anserini.search.ScoredDoc at 0x7f8fc4fcf970 jclass=io/anserini/search/ScoredDoc jself=<LocalRef obj=0x5556164b20fa at 0x7f8fc5c16ad0>>,\n",
       " <io.anserini.search.ScoredDoc at 0x7f8fc4fce2f0 jclass=io/anserini/search/ScoredDoc jself=<LocalRef obj=0x5556164b210a at 0x7f8fc5c16d10>>,\n",
       " <io.anserini.search.ScoredDoc at 0x7f8fc562b8d0 jclass=io/anserini/search/ScoredDoc jself=<LocalRef obj=0x5556164b2112 at 0x7f8fc5c16af0>>,\n",
       " <io.anserini.search.ScoredDoc at 0x7f8fc5628900 jclass=io/anserini/search/ScoredDoc jself=<LocalRef obj=0x5556164b2122 at 0x7f8fc5c173d0>>,\n",
       " <io.anserini.search.ScoredDoc at 0x7f8fc562b510 jclass=io/anserini/search/ScoredDoc jself=<LocalRef obj=0x5556164b212a at 0x7f8fc5c16b30>>,\n",
       " <io.anserini.search.ScoredDoc at 0x7f8fc5628310 jclass=io/anserini/search/ScoredDoc jself=<LocalRef obj=0x5556164b2132 at 0x7f8fc5c16f90>>,\n",
       " <io.anserini.search.ScoredDoc at 0x7f8fc562a200 jclass=io/anserini/search/ScoredDoc jself=<LocalRef obj=0x5556164b213a at 0x7f8fc5c17010>>,\n",
       " <io.anserini.search.ScoredDoc at 0x7f8fc562a6b0 jclass=io/anserini/search/ScoredDoc jself=<LocalRef obj=0x5556164b2142 at 0x7f8fc5c17130>>,\n",
       " <io.anserini.search.ScoredDoc at 0x7f8fc562bb00 jclass=io/anserini/search/ScoredDoc jself=<LocalRef obj=0x5556164b2152 at 0x7f8fc5c16df0>>,\n",
       " <io.anserini.search.ScoredDoc at 0x7f8fc562bc90 jclass=io/anserini/search/ScoredDoc jself=<LocalRef obj=0x5556164b215a at 0x7f8fc5c174b0>>,\n",
       " <io.anserini.search.ScoredDoc at 0x7f8fc5628130 jclass=io/anserini/search/ScoredDoc jself=<LocalRef obj=0x5556164b2162 at 0x7f8fc5c17430>>,\n",
       " <io.anserini.search.ScoredDoc at 0x7f8fc56281d0 jclass=io/anserini/search/ScoredDoc jself=<LocalRef obj=0x5556164b216a at 0x7f8fc5c174f0>>,\n",
       " <io.anserini.search.ScoredDoc at 0x7f8fc5628360 jclass=io/anserini/search/ScoredDoc jself=<LocalRef obj=0x5556164b2172 at 0x7f8fc5c16d30>>,\n",
       " <io.anserini.search.ScoredDoc at 0x7f8fc562a070 jclass=io/anserini/search/ScoredDoc jself=<LocalRef obj=0x5556164b217a at 0x7f8fc5c16ed0>>,\n",
       " <io.anserini.search.ScoredDoc at 0x7f8fc5628ef0 jclass=io/anserini/search/ScoredDoc jself=<LocalRef obj=0x5556164b2182 at 0x7f8fc5c17350>>,\n",
       " <io.anserini.search.ScoredDoc at 0x7f8fc562b790 jclass=io/anserini/search/ScoredDoc jself=<LocalRef obj=0x5556164b218a at 0x7f8fc5c17070>>,\n",
       " <io.anserini.search.ScoredDoc at 0x7f8fc562b9c0 jclass=io/anserini/search/ScoredDoc jself=<LocalRef obj=0x5556164b2192 at 0x7f8fc5c17390>>,\n",
       " <io.anserini.search.ScoredDoc at 0x7f8fc562ba10 jclass=io/anserini/search/ScoredDoc jself=<LocalRef obj=0x5556164b219a at 0x7f8fc5c16e90>>,\n",
       " <io.anserini.search.ScoredDoc at 0x7f8fc562bab0 jclass=io/anserini/search/ScoredDoc jself=<LocalRef obj=0x5556164b21a2 at 0x7f8fc5c16eb0>>,\n",
       " <io.anserini.search.ScoredDoc at 0x7f8fc562b920 jclass=io/anserini/search/ScoredDoc jself=<LocalRef obj=0x5556164b21aa at 0x7f8fc5c16a90>>,\n",
       " <io.anserini.search.ScoredDoc at 0x7f8fc562b880 jclass=io/anserini/search/ScoredDoc jself=<LocalRef obj=0x5556164b21b2 at 0x7f8fc5c17190>>,\n",
       " <io.anserini.search.ScoredDoc at 0x7f8fc562b830 jclass=io/anserini/search/ScoredDoc jself=<LocalRef obj=0x5556164b21ba at 0x7f8fc5c17270>>,\n",
       " <io.anserini.search.ScoredDoc at 0x7f8fc562b7e0 jclass=io/anserini/search/ScoredDoc jself=<LocalRef obj=0x5556164b21c2 at 0x7f8fc5c172d0>>,\n",
       " <io.anserini.search.ScoredDoc at 0x7f8fc562b6f0 jclass=io/anserini/search/ScoredDoc jself=<LocalRef obj=0x5556164b203a at 0x7f8fc5c16bd0>>,\n",
       " <io.anserini.search.ScoredDoc at 0x7f8fc562b1a0 jclass=io/anserini/search/ScoredDoc jself=<LocalRef obj=0x5556164b21ca at 0x7f8fc5c16e30>>,\n",
       " <io.anserini.search.ScoredDoc at 0x7f8fc562b100 jclass=io/anserini/search/ScoredDoc jself=<LocalRef obj=0x5556164b21d2 at 0x7f8fc5c16bb0>>,\n",
       " <io.anserini.search.ScoredDoc at 0x7f8fc562af70 jclass=io/anserini/search/ScoredDoc jself=<LocalRef obj=0x5556164b21da at 0x7f8fc5c16bf0>>,\n",
       " <io.anserini.search.ScoredDoc at 0x7f8fc562afc0 jclass=io/anserini/search/ScoredDoc jself=<LocalRef obj=0x5556164b21e2 at 0x7f8fc5c17310>>,\n",
       " <io.anserini.search.ScoredDoc at 0x7f8fc562b060 jclass=io/anserini/search/ScoredDoc jself=<LocalRef obj=0x5556164b21ea at 0x7f8fc5c16cd0>>,\n",
       " <io.anserini.search.ScoredDoc at 0x7f8fc562b0b0 jclass=io/anserini/search/ScoredDoc jself=<LocalRef obj=0x5556164b21f2 at 0x7f8fc5c17410>>,\n",
       " <io.anserini.search.ScoredDoc at 0x7f8fc562b1f0 jclass=io/anserini/search/ScoredDoc jself=<LocalRef obj=0x5556164b20da at 0x7f8fc5c173f0>>,\n",
       " <io.anserini.search.ScoredDoc at 0x7f8fc562b150 jclass=io/anserini/search/ScoredDoc jself=<LocalRef obj=0x5556164b21fa at 0x7f8fc5c16e10>>,\n",
       " <io.anserini.search.ScoredDoc at 0x7f8fc562b240 jclass=io/anserini/search/ScoredDoc jself=<LocalRef obj=0x5556164b3212 at 0x7f8fc5c17510>>,\n",
       " <io.anserini.search.ScoredDoc at 0x7f8fc562ad90 jclass=io/anserini/search/ScoredDoc jself=<LocalRef obj=0x5556164b3222 at 0x7f8fc5c17170>>,\n",
       " <io.anserini.search.ScoredDoc at 0x7f8fc562b010 jclass=io/anserini/search/ScoredDoc jself=<LocalRef obj=0x5556164b323a at 0x7f8fc5c17370>>,\n",
       " <io.anserini.search.ScoredDoc at 0x7f8fc562b470 jclass=io/anserini/search/ScoredDoc jself=<LocalRef obj=0x5556164b3242 at 0x7f8fc5c17450>>,\n",
       " <io.anserini.search.ScoredDoc at 0x7f8fc562b560 jclass=io/anserini/search/ScoredDoc jself=<LocalRef obj=0x5556164b324a at 0x7f8fc5c172b0>>,\n",
       " <io.anserini.search.ScoredDoc at 0x7f8fc562ade0 jclass=io/anserini/search/ScoredDoc jself=<LocalRef obj=0x5556164b3252 at 0x7f8fc5c16cf0>>,\n",
       " <io.anserini.search.ScoredDoc at 0x7f8fc562ad40 jclass=io/anserini/search/ScoredDoc jself=<LocalRef obj=0x5556164b325a at 0x7f8fc5c16fd0>>,\n",
       " <io.anserini.search.ScoredDoc at 0x7f8fc562acf0 jclass=io/anserini/search/ScoredDoc jself=<LocalRef obj=0x5556164b3262 at 0x7f8fc5c16d50>>,\n",
       " <io.anserini.search.ScoredDoc at 0x7f8fc562aca0 jclass=io/anserini/search/ScoredDoc jself=<LocalRef obj=0x5556164b326a at 0x7f8fc5c16db0>>,\n",
       " <io.anserini.search.ScoredDoc at 0x7f8fc562ac50 jclass=io/anserini/search/ScoredDoc jself=<LocalRef obj=0x5556164b3272 at 0x7f8fc5c16c90>>,\n",
       " <io.anserini.search.ScoredDoc at 0x7f8fc562b3d0 jclass=io/anserini/search/ScoredDoc jself=<LocalRef obj=0x5556164b327a at 0x7f8fc5c17530>>,\n",
       " <io.anserini.search.ScoredDoc at 0x7f8fc55ff600 jclass=io/anserini/search/ScoredDoc jself=<LocalRef obj=0x5556164b32ba at 0x7f8fc5c17110>>,\n",
       " <io.anserini.search.ScoredDoc at 0x7f8fc55ff650 jclass=io/anserini/search/ScoredDoc jself=<LocalRef obj=0x5556164b32c2 at 0x7f8fc5c17330>>,\n",
       " <io.anserini.search.ScoredDoc at 0x7f8fc55ff6a0 jclass=io/anserini/search/ScoredDoc jself=<LocalRef obj=0x5556164b32d2 at 0x7f8fc5c17490>>,\n",
       " <io.anserini.search.ScoredDoc at 0x7f8fc55ff6f0 jclass=io/anserini/search/ScoredDoc jself=<LocalRef obj=0x5556164b32da at 0x7f8fc5c17150>>,\n",
       " <io.anserini.search.ScoredDoc at 0x7f8fc55ff740 jclass=io/anserini/search/ScoredDoc jself=<LocalRef obj=0x5556164b32e2 at 0x7f8fc5c16e50>>,\n",
       " <io.anserini.search.ScoredDoc at 0x7f8fc55ff790 jclass=io/anserini/search/ScoredDoc jself=<LocalRef obj=0x5556164b32ea at 0x7f8fc5c17470>>,\n",
       " <io.anserini.search.ScoredDoc at 0x7f8fc55ff7e0 jclass=io/anserini/search/ScoredDoc jself=<LocalRef obj=0x5556164b32f2 at 0x7f8fc5c16c50>>,\n",
       " <io.anserini.search.ScoredDoc at 0x7f8fc55ff830 jclass=io/anserini/search/ScoredDoc jself=<LocalRef obj=0x5556164b32fa at 0x7f8fc5c16f10>>,\n",
       " <io.anserini.search.ScoredDoc at 0x7f8fc55ff880 jclass=io/anserini/search/ScoredDoc jself=<LocalRef obj=0x5556164b3302 at 0x7f8fc5c16ff0>>,\n",
       " <io.anserini.search.ScoredDoc at 0x7f8fc55ff8d0 jclass=io/anserini/search/ScoredDoc jself=<LocalRef obj=0x5556164b330a at 0x7f8fc5c16b10>>,\n",
       " <io.anserini.search.ScoredDoc at 0x7f8fc55ff920 jclass=io/anserini/search/ScoredDoc jself=<LocalRef obj=0x5556164b3312 at 0x7f8fc5c16a50>>,\n",
       " <io.anserini.search.ScoredDoc at 0x7f8fc55ff970 jclass=io/anserini/search/ScoredDoc jself=<LocalRef obj=0x5556164b331a at 0x7f8fc5c171b0>>,\n",
       " <io.anserini.search.ScoredDoc at 0x7f8fc55ff9c0 jclass=io/anserini/search/ScoredDoc jself=<LocalRef obj=0x5556164b3322 at 0x7f8fc5c16b90>>,\n",
       " <io.anserini.search.ScoredDoc at 0x7f8fc55ffa10 jclass=io/anserini/search/ScoredDoc jself=<LocalRef obj=0x5556164b332a at 0x7f8fc5c16e70>>,\n",
       " <io.anserini.search.ScoredDoc at 0x7f8fc55ffa60 jclass=io/anserini/search/ScoredDoc jself=<LocalRef obj=0x5556164b3332 at 0x7f8fc5c16cb0>>,\n",
       " <io.anserini.search.ScoredDoc at 0x7f8fc55ffab0 jclass=io/anserini/search/ScoredDoc jself=<LocalRef obj=0x5556164b333a at 0x7f8fc5c171d0>>,\n",
       " <io.anserini.search.ScoredDoc at 0x7f8fc55ffb00 jclass=io/anserini/search/ScoredDoc jself=<LocalRef obj=0x5556164b3342 at 0x7f8fc5c174d0>>,\n",
       " <io.anserini.search.ScoredDoc at 0x7f8fc55ffb50 jclass=io/anserini/search/ScoredDoc jself=<LocalRef obj=0x5556164b334a at 0x7f8fc5c16f70>>,\n",
       " <io.anserini.search.ScoredDoc at 0x7f8fc55ffba0 jclass=io/anserini/search/ScoredDoc jself=<LocalRef obj=0x5556164b3362 at 0x7f8fc5c17090>>,\n",
       " <io.anserini.search.ScoredDoc at 0x7f8fc55ffbf0 jclass=io/anserini/search/ScoredDoc jself=<LocalRef obj=0x5556164b336a at 0x7f8fc5c17030>>,\n",
       " <io.anserini.search.ScoredDoc at 0x7f8fc55ffc40 jclass=io/anserini/search/ScoredDoc jself=<LocalRef obj=0x5556164b3372 at 0x7f8fc5c16ef0>>,\n",
       " <io.anserini.search.ScoredDoc at 0x7f8fc55ffc90 jclass=io/anserini/search/ScoredDoc jself=<LocalRef obj=0x5556164b337a at 0x7f8fc5c170b0>>,\n",
       " <io.anserini.search.ScoredDoc at 0x7f8fc55ffce0 jclass=io/anserini/search/ScoredDoc jself=<LocalRef obj=0x5556164b3382 at 0x7f8fc5c16f50>>,\n",
       " <io.anserini.search.ScoredDoc at 0x7f8fc55ffd30 jclass=io/anserini/search/ScoredDoc jself=<LocalRef obj=0x5556164b338a at 0x7f8fc5c170f0>>,\n",
       " <io.anserini.search.ScoredDoc at 0x7f8fc55ffd80 jclass=io/anserini/search/ScoredDoc jself=<LocalRef obj=0x5556164b3392 at 0x7f8fc5c171f0>>,\n",
       " <io.anserini.search.ScoredDoc at 0x7f8fc55ffdd0 jclass=io/anserini/search/ScoredDoc jself=<LocalRef obj=0x5556164b339a at 0x7f8fc5c17210>>,\n",
       " <io.anserini.search.ScoredDoc at 0x7f8fc55ffe20 jclass=io/anserini/search/ScoredDoc jself=<LocalRef obj=0x5556164b33a2 at 0x7f8fc5c16dd0>>,\n",
       " <io.anserini.search.ScoredDoc at 0x7f8fc55ffe70 jclass=io/anserini/search/ScoredDoc jself=<LocalRef obj=0x5556164b33aa at 0x7f8fc5c16b70>>,\n",
       " <io.anserini.search.ScoredDoc at 0x7f8fc55ffec0 jclass=io/anserini/search/ScoredDoc jself=<LocalRef obj=0x5556164b33b2 at 0x7f8fc5c17290>>,\n",
       " <io.anserini.search.ScoredDoc at 0x7f8fc55fff10 jclass=io/anserini/search/ScoredDoc jself=<LocalRef obj=0x5556164b33ba at 0x7f8fc5c17050>>,\n",
       " <io.anserini.search.ScoredDoc at 0x7f8fc55fff60 jclass=io/anserini/search/ScoredDoc jself=<LocalRef obj=0x5556164b33c2 at 0x7f8fc5c17550>>,\n",
       " <io.anserini.search.ScoredDoc at 0x7f8fc55fffb0 jclass=io/anserini/search/ScoredDoc jself=<LocalRef obj=0x5556164b33ca at 0x7f8fc5c17570>>,\n",
       " <io.anserini.search.ScoredDoc at 0x7f8fc55fcbd0 jclass=io/anserini/search/ScoredDoc jself=<LocalRef obj=0x5556164b33d2 at 0x7f8fc5c17590>>,\n",
       " <io.anserini.search.ScoredDoc at 0x7f8fc55fd3f0 jclass=io/anserini/search/ScoredDoc jself=<LocalRef obj=0x5556164b33da at 0x7f8fc5c175b0>>,\n",
       " <io.anserini.search.ScoredDoc at 0x7f8fc55fc450 jclass=io/anserini/search/ScoredDoc jself=<LocalRef obj=0x5556164b33e2 at 0x7f8fc5c175d0>>,\n",
       " <io.anserini.search.ScoredDoc at 0x7f8fc55fc720 jclass=io/anserini/search/ScoredDoc jself=<LocalRef obj=0x5556164b33ea at 0x7f8fc5c175f0>>,\n",
       " <io.anserini.search.ScoredDoc at 0x7f8fc55fccc0 jclass=io/anserini/search/ScoredDoc jself=<LocalRef obj=0x5556164b33f2 at 0x7f8fc5c17610>>,\n",
       " <io.anserini.search.ScoredDoc at 0x7f8fc55fc770 jclass=io/anserini/search/ScoredDoc jself=<LocalRef obj=0x5556164b33fa at 0x7f8fc5c17630>>,\n",
       " <io.anserini.search.ScoredDoc at 0x7f8fc55feb60 jclass=io/anserini/search/ScoredDoc jself=<LocalRef obj=0x55560eac273a at 0x7f8fc5c17650>>,\n",
       " <io.anserini.search.ScoredDoc at 0x7f8fc55fd080 jclass=io/anserini/search/ScoredDoc jself=<LocalRef obj=0x55560eac277a at 0x7f8fc5c17670>>,\n",
       " <io.anserini.search.ScoredDoc at 0x7f8fc55fce00 jclass=io/anserini/search/ScoredDoc jself=<LocalRef obj=0x55560eac2782 at 0x7f8fc5c17690>>,\n",
       " <io.anserini.search.ScoredDoc at 0x7f8fc55fcef0 jclass=io/anserini/search/ScoredDoc jself=<LocalRef obj=0x55560eac27c2 at 0x7f8fc5c176b0>>,\n",
       " <io.anserini.search.ScoredDoc at 0x7f8fc55fc400 jclass=io/anserini/search/ScoredDoc jself=<LocalRef obj=0x55560eac27ca at 0x7f8fc5c176d0>>,\n",
       " <io.anserini.search.ScoredDoc at 0x7f8fc55fca90 jclass=io/anserini/search/ScoredDoc jself=<LocalRef obj=0x55560eac27d2 at 0x7f8fc5c176f0>>,\n",
       " <io.anserini.search.ScoredDoc at 0x7f8fc55fcb80 jclass=io/anserini/search/ScoredDoc jself=<LocalRef obj=0x55560eac27ea at 0x7f8fc5c17710>>,\n",
       " <io.anserini.search.ScoredDoc at 0x7f8fc55fd260 jclass=io/anserini/search/ScoredDoc jself=<LocalRef obj=0x55560eac27f2 at 0x7f8fc5c17730>>,\n",
       " <io.anserini.search.ScoredDoc at 0x7f8fc55fd3a0 jclass=io/anserini/search/ScoredDoc jself=<LocalRef obj=0x55560eac27fa at 0x7f8fc5c17750>>,\n",
       " <io.anserini.search.ScoredDoc at 0x7f8fc55fd0d0 jclass=io/anserini/search/ScoredDoc jself=<LocalRef obj=0x55560eac2802 at 0x7f8fc5c17770>>,\n",
       " <io.anserini.search.ScoredDoc at 0x7f8fc55fcea0 jclass=io/anserini/search/ScoredDoc jself=<LocalRef obj=0x55560eac280a at 0x7f8fc5c17790>>,\n",
       " <io.anserini.search.ScoredDoc at 0x7f8fc55fd030 jclass=io/anserini/search/ScoredDoc jself=<LocalRef obj=0x55560eac2812 at 0x7f8fc5c177b0>>,\n",
       " <io.anserini.search.ScoredDoc at 0x7f8fc55fcf90 jclass=io/anserini/search/ScoredDoc jself=<LocalRef obj=0x55560eac281a at 0x7f8fc5c177d0>>,\n",
       " <io.anserini.search.ScoredDoc at 0x7f8fc55fca40 jclass=io/anserini/search/ScoredDoc jself=<LocalRef obj=0x55560eac2822 at 0x7f8fc5c177f0>>,\n",
       " <io.anserini.search.ScoredDoc at 0x7f8fc55fc4f0 jclass=io/anserini/search/ScoredDoc jself=<LocalRef obj=0x55560eac282a at 0x7f8fc5c17810>>,\n",
       " <io.anserini.search.ScoredDoc at 0x7f8fc55fcf40 jclass=io/anserini/search/ScoredDoc jself=<LocalRef obj=0x55560eac2832 at 0x7f8fc5c17830>>,\n",
       " <io.anserini.search.ScoredDoc at 0x7f8fc55fcc20 jclass=io/anserini/search/ScoredDoc jself=<LocalRef obj=0x55560eac283a at 0x7f8fc5c17850>>]"
      ]
     },
     "execution_count": 133,
     "metadata": {},
     "output_type": "execute_result"
    }
   ],
   "source": [
    "hits"
   ]
  },
  {
   "cell_type": "code",
   "execution_count": 105,
   "metadata": {},
   "outputs": [
    {
     "data": {
      "text/plain": [
       "'{\\n  \"_id\" : \"MED-2437\",\\n  \"title\" : \"Diet and breast cancer: understanding risks and benefits.\",\\n  \"text\" : \"BACKGROUND: Breast cancer is the most commonly diagnosed cancer among women in the United States. Extensive research has been completed to evaluate the relationship between dietary factors and breast cancer risk and survival after breast cancer; however, a summary report with clinical inference is needed. Materials and METHODS: This review summarizes the current epidemiological and clinical trial evidence relating diet to breast cancer incidence, recurrence, survival, and mortality. The review includes emerging epidemiological studies that assess risk within breast cancer subtypes as well as a summary of previous and ongoing dietary intervention trials designed to modify breast cancer risk. RESULTS: The available literature suggests that both low-fat and high-fiber diets may be weakly protective against breast cancer, whereas total energy intake and alcohol appear to be positively associated. Fiber may be weakly protective possibly through modulation of estrogen, whereas fruit and vegetable intake is not clearly associated with risk. Obesity is a risk factor for postmenopausal disease, and adult weight gain should be avoided to reduce risk. In survivors, diet has the greatest potential influence on overall mortality rather than breast cancer-specific events. CONCLUSION: Diet is modestly associated with breast cancer risk; associations appear more pronounced for postmenopausal disease, and healthy choices after diagnosis and treatment likely support longevity more so than reduced risk for recurrent disease.\",\\n  \"metadata\" : {\\n    \"url\" : \"http://www.ncbi.nlm.nih.gov/pubmed/22948801\"\\n  },\\n  \"vector\" : {\\n    \"and\" : 47,\\n    \"against\" : 18,\\n    \"men\" : 50,\\n    \"women\" : 14,\\n    \"book\" : 49,\\n    \"research\" : 3,\\n    \"post\" : 40,\\n    \"health\" : 31,\\n    \"food\" : 125,\\n    \"energy\" : 17,\\n    \"medical\" : 41,\\n    \"report\" : 18,\\n    \"pain\" : 3,\\n    \"issue\" : 4,\\n    \"review\" : 97,\\n    \"sex\" : 17,\\n    \"choice\" : 49,\\n    \"weight\" : 27,\\n    \"sleep\" : 19,\\n    \"influence\" : 15,\\n    \"risk\" : 92,\\n    \"trial\" : 42,\\n    \"disease\" : 24,\\n    \"cancer\" : 109,\\n    \"materials\" : 14,\\n    \"adult\" : 22,\\n    \"bc\" : 31,\\n    \"bird\" : 2,\\n    \"gene\" : 84,\\n    \"survey\" : 25,\\n    \"protein\" : 17,\\n    \"benefit\" : 49,\\n    \"patient\" : 8,\\n    \"factors\" : 30,\\n    \"fruit\" : 63,\\n    \"bone\" : 1,\\n    \"meat\" : 70,\\n    \"alcohol\" : 20,\\n    \"clinical\" : 30,\\n    \"fat\" : 74,\\n    \"benefits\" : 84,\\n    \"biological\" : 9,\\n    \"breast\" : 89,\\n    \"assessment\" : 7,\\n    \"survival\" : 53,\\n    \"nursing\" : 0,\\n    \"diet\" : 175,\\n    \"intervention\" : 77,\\n    \"gut\" : 51,\\n    \"fiber\" : 91,\\n    \"aging\" : 28,\\n    \"summary\" : 32,\\n    \"volcano\" : 71,\\n    \"recommendation\" : 9,\\n    \"intake\" : 70,\\n    \"nutrition\" : 91,\\n    \"grape\" : 5,\\n    \"vitamin\" : 4,\\n    \"mushroom\" : 8,\\n    \"incidence\" : 21,\\n    \"disadvantage\" : 29,\\n    \"toxicity\" : 38,\\n    \"dietary\" : 105,\\n    \"obesity\" : 73,\\n    \"covid 19\" : 13,\\n    \"big data\" : 56,\\n    \"breast cancer\" : 135,\\n    \"risk factors\" : 19,\\n    \"knowledge graph\" : 10,\\n    \"coronavirus\" : 13,\\n    \"vitamin d\" : 59,\\n    \"clinical trial\" : 66,\\n    \"genotype\" : 7,\\n    \"her2\" : 28,\\n    \"recurrence\" : 51,\\n    \"diabetes mellitus\" : 10,\\n    \"estrogen receptor\" : 8,\\n    \"green tea\" : 33,\\n    \"estrogen\" : 68,\\n    \"cisplatin\" : 13,\\n    \"proteomics\" : 18,\\n    \"mammography\" : 33,\\n    \"smote\" : 14,\\n    \"aquaculture\" : 8,\\n    \"interpretability\" : 21,\\n    \"risk factor\" : 31,\\n    \"pesticide\" : 21,\\n    \"gelatin\" : 5,\\n    \"influencer marketing\" : 30,\\n    \"weight gain\" : 2\\n  },\\n  \"id\" : \"MED-2437\"\\n}'"
      ]
     },
     "execution_count": 105,
     "metadata": {},
     "output_type": "execute_result"
    }
   ],
   "source": [
    "phrase_splade_searcher.doc(chosen_doc_id).lucene_document().get(\"raw\")"
   ]
  },
  {
   "cell_type": "code",
   "execution_count": 82,
   "metadata": {},
   "outputs": [
    {
     "name": "stdout",
     "output_type": "stream",
     "text": [
      "toxicity\n",
      "inhibitors\n",
      "stat\n",
      "gene\n",
      "drugs\n",
      "ch\n",
      "vitamin d\n",
      "cause\n",
      "breast cancer\n",
      "do\n",
      "cho\n",
      "drug\n",
      "does\n",
      "causes\n",
      "cancer\n",
      "breast\n",
      "?\n",
      "status\n"
     ]
    }
   ],
   "source": [
    "for item in jquery.keySet():\n",
    "    print(item)"
   ]
  },
  {
   "cell_type": "code",
   "execution_count": 70,
   "metadata": {},
   "outputs": [
    {
     "data": {
      "text/plain": [
       "{'?': 1,\n",
       " 'do': 96,\n",
       " 'does': 34,\n",
       " 'cause': 99,\n",
       " 'status': 1,\n",
       " 'drug': 75,\n",
       " 'cancer': 129,\n",
       " 'gene': 122,\n",
       " 'causes': 29,\n",
       " 'drugs': 94,\n",
       " 'breast': 98,\n",
       " 'ch': 2,\n",
       " 'cho': 164,\n",
       " 'toxicity': 25,\n",
       " 'inhibitors': 17,\n",
       " 'stat': 138,\n",
       " 'breast cancer': 158,\n",
       " 'vitamin d': 51}"
      ]
     },
     "execution_count": 70,
     "metadata": {},
     "output_type": "execute_result"
    }
   ],
   "source": [
    "phrase_splade_query_rep"
   ]
  },
  {
   "cell_type": "code",
   "execution_count": null,
   "metadata": {},
   "outputs": [],
   "source": []
  }
 ],
 "metadata": {
  "kernelspec": {
   "display_name": "venv310",
   "language": "python",
   "name": "python3"
  },
  "language_info": {
   "name": "python",
   "version": "3.10.14"
  }
 },
 "nbformat": 4,
 "nbformat_minor": 2
}
