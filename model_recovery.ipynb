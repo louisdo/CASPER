{
 "cells": [
  {
   "cell_type": "code",
   "execution_count": 1,
   "id": "62d28850",
   "metadata": {},
   "outputs": [
    {
     "name": "stderr",
     "output_type": "stream",
     "text": [
      "/home/lamdo/.local/lib/python3.10/site-packages/tqdm/auto.py:21: TqdmWarning: IProgress not found. Please update jupyter and ipywidgets. See https://ipywidgets.readthedocs.io/en/stable/user_install.html\n",
      "  from .autonotebook import tqdm as notebook_tqdm\n"
     ]
    }
   ],
   "source": [
    "import torch, os, string\n",
    "from transformers import AutoModelForMaskedLM, AutoTokenizer\n",
    "from splade.models.transformer_rep import SpladeMaxSim, Splade, PhraseSpladev2, PhraseSpladev3, PhraseSpladev4, PhraseSpladev5\n",
    "from collections import Counter"
   ]
  },
  {
   "cell_type": "code",
   "execution_count": 7,
   "id": "69385a2b",
   "metadata": {},
   "outputs": [],
   "source": [
    "state_dict_path = \"/scratch/lamdo/phrase_splade_checkpoints/phrase_splade_85/debug/checkpoint/model_ckpt/model_final_checkpoint.tar\"\n",
    "model_start_name = \"lamdo/distilbert-base-uncased-phrase-30kaddedphrasesfroms2orc_cs-mlm-26000steps\"\n",
    "\n",
    "save_path = \"/scratch/lamdo/phrase_splade_checkpoints/phrase_splade_85/debug/checkpoint/model\""
   ]
  },
  {
   "cell_type": "code",
   "execution_count": 3,
   "id": "d7c6f9a8",
   "metadata": {},
   "outputs": [],
   "source": [
    "model = PhraseSpladev2(model_start_name, agg=\"max\", original_bert_vocab_size=31090)\n",
    "tokenizer = AutoTokenizer.from_pretrained(model_start_name)"
   ]
  },
  {
   "cell_type": "code",
   "execution_count": 4,
   "id": "464a22f8",
   "metadata": {},
   "outputs": [
    {
     "name": "stderr",
     "output_type": "stream",
     "text": [
      "/tmp/ipykernel_1695106/222674517.py:1: FutureWarning: You are using `torch.load` with `weights_only=False` (the current default value), which uses the default pickle module implicitly. It is possible to construct malicious pickle data which will execute arbitrary code during unpickling (See https://github.com/pytorch/pytorch/blob/main/SECURITY.md#untrusted-models for more details). In a future release, the default value for `weights_only` will be flipped to `True`. This limits the functions that could be executed during unpickling. Arbitrary objects will no longer be allowed to be loaded via this mode unless they are explicitly allowlisted by the user via `torch.serialization.add_safe_globals`. We recommend you start setting `weights_only=True` for any use case where you don't have full control of the loaded file. Please open an issue on GitHub for any issues related to this experimental feature.\n",
      "  state_dict = torch.load(state_dict_path)\n"
     ]
    }
   ],
   "source": [
    "state_dict = torch.load(state_dict_path)"
   ]
  },
  {
   "cell_type": "code",
   "execution_count": 5,
   "id": "97240c48",
   "metadata": {},
   "outputs": [
    {
     "data": {
      "text/plain": [
       "<All keys matched successfully>"
      ]
     },
     "execution_count": 5,
     "metadata": {},
     "output_type": "execute_result"
    }
   ],
   "source": [
    "model.load_state_dict(state_dict[\"model_state_dict\"])"
   ]
  },
  {
   "cell_type": "code",
   "execution_count": 8,
   "id": "8ae8c0a2",
   "metadata": {},
   "outputs": [
    {
     "data": {
      "text/plain": [
       "('/scratch/lamdo/phrase_splade_checkpoints/phrase_splade_85/debug/checkpoint/model/tokenizer_config.json',\n",
       " '/scratch/lamdo/phrase_splade_checkpoints/phrase_splade_85/debug/checkpoint/model/special_tokens_map.json',\n",
       " '/scratch/lamdo/phrase_splade_checkpoints/phrase_splade_85/debug/checkpoint/model/vocab.txt',\n",
       " '/scratch/lamdo/phrase_splade_checkpoints/phrase_splade_85/debug/checkpoint/model/added_tokens.json',\n",
       " '/scratch/lamdo/phrase_splade_checkpoints/phrase_splade_85/debug/checkpoint/model/tokenizer.json')"
      ]
     },
     "execution_count": 8,
     "metadata": {},
     "output_type": "execute_result"
    }
   ],
   "source": [
    "model.transformer_rep.transformer.save_pretrained(save_path)\n",
    "tokenizer.save_pretrained(save_path)"
   ]
  },
  {
   "cell_type": "code",
   "execution_count": null,
   "id": "bf986174",
   "metadata": {},
   "outputs": [],
   "source": []
  }
 ],
 "metadata": {
  "kernelspec": {
   "display_name": "venv310",
   "language": "python",
   "name": "python3"
  },
  "language_info": {
   "codemirror_mode": {
    "name": "ipython",
    "version": 3
   },
   "file_extension": ".py",
   "mimetype": "text/x-python",
   "name": "python",
   "nbconvert_exporter": "python",
   "pygments_lexer": "ipython3",
   "version": "3.10.14"
  }
 },
 "nbformat": 4,
 "nbformat_minor": 5
}
