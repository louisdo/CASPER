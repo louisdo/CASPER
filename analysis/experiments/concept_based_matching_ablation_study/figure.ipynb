{
 "cells": [
  {
   "cell_type": "code",
   "execution_count": 1,
   "id": "bb3193a4",
   "metadata": {},
   "outputs": [],
   "source": [
    "import matplotlib.pyplot as plt\n",
    "import pandas as pd\n",
    "\n",
    "df = pd.read_csv(\"data.csv\")\n",
    "\n",
    "beta_values = list(df[\"beta\"])\n",
    "ndcg_values = list(df[\"NDCG@10\"])\n",
    "r_values = list(df[\"R@1000\"])\n",
    "\n",
    "# Create a single figure with two subplots\n",
    "fig, (ax1, ax2) = plt.subplots(1, 2, figsize=(12, 5), sharex=True)\n",
    "\n",
    "# Subplot for NDCG@10\n",
    "ax1.plot(beta_values, ndcg_values, marker='o', linestyle='-', color='b', label='NDCG@10')\n",
    "ax1.set_xlabel(r'$\\beta$', fontsize = 24)\n",
    "ax1.set_ylabel('NDCG@10', fontsize = 24)\n",
    "ax1.set_xticks(beta_values)  # Set x-axis to only show the five beta values\n",
    "ax1.grid(True)\n",
    "ax1.tick_params(axis='x', labelsize=16)\n",
    "ax1.tick_params(axis='y', labelsize=16)\n",
    "\n",
    "# Subplot for R@1000\n",
    "ax2.plot(beta_values, r_values, marker='o', linestyle='-', color='r', label='R@1000')\n",
    "ax2.set_xlabel(r'$\\beta$', fontsize = 24)\n",
    "ax2.set_ylabel('R@1000', fontsize = 24)\n",
    "ax2.set_xticks(beta_values)  # Set x-axis to only show the five beta values\n",
    "ax2.grid(True)\n",
    "ax2.tick_params(axis='x', labelsize=16)\n",
    "ax2.tick_params(axis='y', labelsize=16)\n",
    "\n",
    "# Adjust layout to prevent overlap\n",
    "plt.tight_layout()\n",
    "\n",
    "# Save the figure\n",
    "plt.savefig('beta_adjustment.pdf')\n",
    "plt.close()"
   ]
  },
  {
   "cell_type": "code",
   "execution_count": null,
   "id": "5951cdf1",
   "metadata": {},
   "outputs": [],
   "source": []
  }
 ],
 "metadata": {
  "kernelspec": {
   "display_name": "venv310",
   "language": "python",
   "name": "python3"
  },
  "language_info": {
   "codemirror_mode": {
    "name": "ipython",
    "version": 3
   },
   "file_extension": ".py",
   "mimetype": "text/x-python",
   "name": "python",
   "nbconvert_exporter": "python",
   "pygments_lexer": "ipython3",
   "version": "3.10.14"
  }
 },
 "nbformat": 4,
 "nbformat_minor": 5
}
