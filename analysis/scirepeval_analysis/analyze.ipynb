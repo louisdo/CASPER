{
 "cells": [
  {
   "cell_type": "code",
   "execution_count": 18,
   "id": "d5173e75",
   "metadata": {},
   "outputs": [],
   "source": [
    "import string\n",
    "from datasets import load_dataset\n",
    "from rapidfuzz import fuzz\n",
    "from tqdm import tqdm"
   ]
  },
  {
   "cell_type": "code",
   "execution_count": 25,
   "id": "26b8dd6c",
   "metadata": {},
   "outputs": [],
   "source": [
    "def subset_check(small, big):\n",
    "    intersection = small.intersection(big)\n",
    "\n",
    "    return len(intersection) == len(small)"
   ]
  },
  {
   "cell_type": "code",
   "execution_count": 7,
   "id": "1996715d",
   "metadata": {},
   "outputs": [
    {
     "name": "stderr",
     "output_type": "stream",
     "text": [
      "Downloading readme: 100%|██████████| 16.3k/16.3k [00:00<00:00, 77.7kB/s]\n",
      "Downloading data: 100%|██████████| 22.0M/22.0M [00:00<00:00, 30.8MB/s]\n",
      "Downloading data: 100%|██████████| 270M/270M [00:07<00:00, 35.9MB/s] \n",
      "Downloading data: 100%|██████████| 269M/269M [00:07<00:00, 37.7MB/s] \n",
      "Downloading data: 100%|██████████| 270M/270M [00:07<00:00, 37.2MB/s] \n",
      "Downloading data: 100%|██████████| 270M/270M [00:07<00:00, 36.5MB/s] \n",
      "Downloading data: 100%|██████████| 272M/272M [00:09<00:00, 28.9MB/s] \n",
      "Downloading data: 100%|██████████| 270M/270M [00:08<00:00, 33.4MB/s] \n",
      "Downloading data: 100%|██████████| 273M/273M [00:07<00:00, 36.0MB/s] \n",
      "Downloading data: 100%|██████████| 273M/273M [00:06<00:00, 39.5MB/s] \n",
      "Downloading data: 100%|██████████| 272M/272M [00:07<00:00, 34.4MB/s] \n",
      "Downloading data: 100%|██████████| 271M/271M [00:07<00:00, 36.5MB/s] \n",
      "Downloading data: 100%|██████████| 272M/272M [00:08<00:00, 32.3MB/s] \n",
      "Downloading data: 100%|██████████| 272M/272M [00:07<00:00, 36.9MB/s] \n",
      "Downloading data: 100%|██████████| 273M/273M [00:07<00:00, 35.7MB/s] \n",
      "Downloading data: 100%|██████████| 272M/272M [00:05<00:00, 54.1MB/s] \n",
      "Downloading data: 100%|██████████| 226M/226M [00:06<00:00, 34.2MB/s] \n",
      "Downloading data: 100%|██████████| 226M/226M [00:06<00:00, 36.8MB/s] \n",
      "Downloading data: 100%|██████████| 225M/225M [00:05<00:00, 39.9MB/s] \n",
      "Generating evaluation split: 100%|██████████| 2637/2637 [00:01<00:00, 2130.86 examples/s]\n",
      "Generating train split: 100%|██████████| 399878/399878 [01:55<00:00, 3447.30 examples/s]\n",
      "Generating validation split: 100%|██████████| 75382/75382 [00:21<00:00, 3560.70 examples/s]\n"
     ]
    }
   ],
   "source": [
    "ds = load_dataset(\"allenai/scirepeval\", \"search\")"
   ]
  },
  {
   "cell_type": "code",
   "execution_count": 52,
   "id": "50fb97b7",
   "metadata": {},
   "outputs": [
    {
     "name": "stderr",
     "output_type": "stream",
     "text": [
      "100%|██████████| 399878/399878 [02:03<00:00, 3230.67it/s]\n"
     ]
    }
   ],
   "source": [
    "total = 0\n",
    "title_search_count = 0\n",
    "doc_search_count = 0\n",
    "title_search_count_2 = 0\n",
    "to_check = []\n",
    "for line in tqdm(ds[\"train\"]):\n",
    "    query = line[\"query\"].replace(' AND ', \" \").replace(\" OR \", \" \").lower().strip(string.punctuation).strip().replace(\"-\", \" \").replace('\"', \"\")\n",
    "    query_tokens = set([item.strip(string.punctuation).strip() for item in query.split(\" \")])\n",
    "\n",
    "    candidates = line[\"candidates\"]\n",
    "\n",
    "    for cand in candidates:\n",
    "        flag = False\n",
    "        if cand[\"score\"] < 1: continue\n",
    "        title = cand[\"title\"].lower().strip(string.punctuation).strip().replace(\"-\", \" \")\n",
    "        title_tokens = set([item.strip(string.punctuation) for item in title.split(\" \")])\n",
    "        abstract = cand[\"abstract\"].lower().strip(string.punctuation).strip()\n",
    "\n",
    "        doc = title + \". \" +abstract\n",
    "\n",
    "        # if fuzz.ratio(query, title) >= 90: title_search_count += 1\n",
    "        if query in title: \n",
    "            title_search_count += 1\n",
    "            flag = True\n",
    "        if query in doc or doc in query: \n",
    "            doc_search_count += 1\n",
    "            flag = True\n",
    "        if subset_check(query_tokens, title_tokens): \n",
    "            title_search_count_2 += 1\n",
    "            flag = True\n",
    "\n",
    "\n",
    "        if not flag: to_check.append([query, title, abstract])\n",
    "        # if fuzz.partial_ratio(query, title) >= 90: partial_title_search_count += 1\n",
    "        # if fuzz.partial_ratio(query, title + \". \" + abstract) >= 90: partial_doc_search_count += 1\n",
    "        total += 1"
   ]
  },
  {
   "cell_type": "code",
   "execution_count": null,
   "id": "5863dd7b",
   "metadata": {},
   "outputs": [],
   "source": [
    "title_search_count / total, title_search_count_2 / total"
   ]
  },
  {
   "cell_type": "code",
   "execution_count": 43,
   "id": "98ebc402",
   "metadata": {},
   "outputs": [
    {
     "data": {
      "text/plain": [
       "(0.441453586686601, 0.5316137853482755)"
      ]
     },
     "execution_count": 43,
     "metadata": {},
     "output_type": "execute_result"
    }
   ],
   "source": [
    "title_search_count / total, title_search_count_2 / total"
   ]
  },
  {
   "cell_type": "code",
   "execution_count": 51,
   "id": "363427f5",
   "metadata": {},
   "outputs": [
    {
     "data": {
      "text/plain": [
       "['barium enema in colitis',\n",
       " \"crohn's disease in a developing african mission hospital: a case report\",\n",
       " \"backgrounda case is reported of innocuous intestinal obstruction requiring surgical intervention that was confirmed to be crohn's disease histopathologically in a resource constrained rural mission hospital in cameroon.case presentationa 70 year man of kumbo origin from northwest region of cameroon with a history of crampy right lower quadrant abdominal pain, non bloody, non mucoid diarrhea alternating with constipation presented to my institution. abdominal examination of the patient revealed an ill defined mass in the right iliac fossa and visible peristalsis. an abdominal computed tomographic scan and barium enema study confirmed a complex ascending colonic and cecal tumor. the patient underwent exploratory laparotomy. the intraoperative finding was a huge complex inflammatory mass involving the cecum, terminal ileum, and sigmoid colon. he subsequently had sigmoidectomy with end to end sigmoidorectal anastomosis and a cecal resection, and the proximal ascending colon was exteriorized because end mucoid fistula and terminal ileostomy were performed. the histopathological diagnosis confirmed crohn's disease. the patient subsequently received five courses of adjuvant chemotherapy consisting of azathioprine, methotrexate, mesalamine, and methylprednisolone. he had complete disease remission and subsequently had closure of ileostomy with satisfactory postoperative status. the most recent follow up abdominal computed tomographic scan and colonoscopy revealed disease free status. the patient is also currently receiving a maintenance dose of rectal mesalamine and oral omeprazole treatment. he has been followed every 2 months in the surgical outpatient clinic over the last 16 months with satisfactory clinical outcome.conclusionscrohn's disease is uncommon in africa, and this entity is encountered sparingly. the signs and symptoms of crohn's disease overlap with many other abdominal disorders, such as tuberculosis, ulcerative colitis, irritable bowel syndrome, and others. several publications in the literature describe that it is difficult to make an accurate diagnosis of this disease, despite the fact that many diagnostic armamentaria are available to suggest its presence. most of the patients with crohn's disease are treated conservatively, and a few may require surgical intervention, especially those presenting with complications such as intestinal obstruction, perforations, and abscess as well as fistula formations, as seen in this index patient. crohn's disease is considered by many to be a very rare disease in africa. it is interesting to know that crohn's disease, which affects mainly young adults, may debut at any age. the rarity and clinical curiosity of this entity suggested reporting of my patient's case. evidence based up to date information on crohn's disease is also documented\"]"
      ]
     },
     "execution_count": 51,
     "metadata": {},
     "output_type": "execute_result"
    }
   ],
   "source": [
    "to_check[112]"
   ]
  },
  {
   "cell_type": "code",
   "execution_count": 28,
   "id": "aef2d76d",
   "metadata": {},
   "outputs": [
    {
     "data": {
      "text/plain": [
       "0.5414659391492135"
      ]
     },
     "execution_count": 28,
     "metadata": {},
     "output_type": "execute_result"
    }
   ],
   "source": [
    "partial_title_search_count / total"
   ]
  },
  {
   "cell_type": "code",
   "execution_count": 29,
   "id": "84912005",
   "metadata": {},
   "outputs": [
    {
     "data": {
      "text/plain": [
       "0.5404117203572844"
      ]
     },
     "execution_count": 29,
     "metadata": {},
     "output_type": "execute_result"
    }
   ],
   "source": [
    "partial_doc_search_count / total"
   ]
  },
  {
   "cell_type": "code",
   "execution_count": 48,
   "id": "f92d6aef",
   "metadata": {},
   "outputs": [
    {
     "data": {
      "text/plain": [
       "'!\"#$%&\\'()*+,-./:;<=>?@[\\\\]^_`{|}~'"
      ]
     },
     "execution_count": 48,
     "metadata": {},
     "output_type": "execute_result"
    }
   ],
   "source": [
    "string.punctuation"
   ]
  },
  {
   "cell_type": "code",
   "execution_count": null,
   "id": "e7d98f9e",
   "metadata": {},
   "outputs": [],
   "source": []
  }
 ],
 "metadata": {
  "kernelspec": {
   "display_name": "venv310",
   "language": "python",
   "name": "python3"
  },
  "language_info": {
   "codemirror_mode": {
    "name": "ipython",
    "version": 3
   },
   "file_extension": ".py",
   "mimetype": "text/x-python",
   "name": "python",
   "nbconvert_exporter": "python",
   "pygments_lexer": "ipython3",
   "version": "3.10.14"
  }
 },
 "nbformat": 4,
 "nbformat_minor": 5
}
