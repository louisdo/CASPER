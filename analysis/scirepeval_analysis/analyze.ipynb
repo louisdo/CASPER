{
 "cells": [
  {
   "cell_type": "code",
   "execution_count": 11,
   "id": "d5173e75",
   "metadata": {},
   "outputs": [],
   "source": [
    "from datasets import load_dataset\n",
    "from rapidfuzz import fuzz\n",
    "from tqdm import tqdm"
   ]
  },
  {
   "cell_type": "code",
   "execution_count": 4,
   "id": "1996715d",
   "metadata": {},
   "outputs": [],
   "source": [
    "ds = load_dataset(\"allenai/scirepeval\", \"search\")"
   ]
  },
  {
   "cell_type": "code",
   "execution_count": 26,
   "id": "50fb97b7",
   "metadata": {},
   "outputs": [
    {
     "name": "stderr",
     "output_type": "stream",
     "text": [
      "100%|██████████| 399878/399878 [01:59<00:00, 3355.99it/s]\n"
     ]
    }
   ],
   "source": [
    "total = 0\n",
    "title_search_count = 0\n",
    "partial_title_search_count = 0\n",
    "partial_doc_search_count = 0\n",
    "for line in tqdm(ds[\"train\"]):\n",
    "    query = line[\"query\"].lower()\n",
    "\n",
    "    candidates = line[\"candidates\"]\n",
    "\n",
    "    for cand in candidates:\n",
    "        if cand[\"score\"] < 1: continue\n",
    "        title = cand[\"title\"].lower()\n",
    "        abstract = cand[\"abstract\"].lower()\n",
    "\n",
    "        if fuzz.ratio(query, title) >= 90: title_search_count += 1\n",
    "        if fuzz.partial_ratio(query, title) >= 90: partial_title_search_count += 1\n",
    "        if fuzz.partial_ratio(query, title + \". \" + abstract) >= 90: partial_doc_search_count += 1\n",
    "        total += 1"
   ]
  },
  {
   "cell_type": "code",
   "execution_count": 27,
   "id": "98ebc402",
   "metadata": {},
   "outputs": [
    {
     "data": {
      "text/plain": [
       "0.37144068049290585"
      ]
     },
     "execution_count": 27,
     "metadata": {},
     "output_type": "execute_result"
    }
   ],
   "source": [
    "title_search_count / total"
   ]
  },
  {
   "cell_type": "code",
   "execution_count": 28,
   "id": "aef2d76d",
   "metadata": {},
   "outputs": [
    {
     "data": {
      "text/plain": [
       "0.5414659391492135"
      ]
     },
     "execution_count": 28,
     "metadata": {},
     "output_type": "execute_result"
    }
   ],
   "source": [
    "partial_title_search_count / total"
   ]
  },
  {
   "cell_type": "code",
   "execution_count": 29,
   "id": "84912005",
   "metadata": {},
   "outputs": [
    {
     "data": {
      "text/plain": [
       "0.5404117203572844"
      ]
     },
     "execution_count": 29,
     "metadata": {},
     "output_type": "execute_result"
    }
   ],
   "source": [
    "partial_doc_search_count / total"
   ]
  },
  {
   "cell_type": "code",
   "execution_count": null,
   "id": "f92d6aef",
   "metadata": {},
   "outputs": [],
   "source": []
  }
 ],
 "metadata": {
  "kernelspec": {
   "display_name": "venv310",
   "language": "python",
   "name": "python3"
  },
  "language_info": {
   "codemirror_mode": {
    "name": "ipython",
    "version": 3
   },
   "file_extension": ".py",
   "mimetype": "text/x-python",
   "name": "python",
   "nbconvert_exporter": "python",
   "pygments_lexer": "ipython3",
   "version": "3.10.14"
  }
 },
 "nbformat": 4,
 "nbformat_minor": 5
}
