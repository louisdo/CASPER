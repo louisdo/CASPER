{
 "cells": [
  {
   "cell_type": "code",
   "execution_count": 1,
   "id": "ea4947e6",
   "metadata": {},
   "outputs": [],
   "source": [
    "import json"
   ]
  },
  {
   "cell_type": "code",
   "execution_count": 2,
   "id": "b1f94d63",
   "metadata": {},
   "outputs": [],
   "source": [
    "def load_collection(collection_path):\n",
    "\n",
    "    collection = []\n",
    "\n",
    "    with open(collection_path) as f:\n",
    "        for line_idx, line in enumerate(f):\n",
    "            if line_idx % (1000*1000) == 0:\n",
    "                print(f'{line_idx // 1000 // 1000}M', end=' ', flush=True)\n",
    "\n",
    "            pid, passage, *rest = line.strip('\\n\\r ').split('\\t')\n",
    "            assert pid == 'id' or int(pid) == line_idx, f\"pid={pid}, line_idx={line_idx}\"\n",
    "\n",
    "            if len(rest) >= 1:\n",
    "                title = rest[0]\n",
    "                passage = title + ' | ' + passage\n",
    "\n",
    "            collection.append(passage)\n",
    "\n",
    "    print()\n",
    "\n",
    "    return collection"
   ]
  },
  {
   "cell_type": "code",
   "execution_count": 12,
   "id": "2558bc68",
   "metadata": {},
   "outputs": [
    {
     "name": "stdout",
     "output_type": "stream",
     "text": [
      "0M \n"
     ]
    }
   ],
   "source": [
    "test = load_collection(\"/home/lamdo/ColBERT/data/scifact/collection.tsv\")"
   ]
  },
  {
   "cell_type": "code",
   "execution_count": 7,
   "id": "c2642683",
   "metadata": {},
   "outputs": [
    {
     "data": {
      "text/plain": [
       "5183"
      ]
     },
     "execution_count": 7,
     "metadata": {},
     "output_type": "execute_result"
    }
   ],
   "source": [
    "len(test)"
   ]
  },
  {
   "cell_type": "code",
   "execution_count": null,
   "id": "993ece8d",
   "metadata": {},
   "outputs": [],
   "source": []
  }
 ],
 "metadata": {
  "kernelspec": {
   "display_name": "venv310",
   "language": "python",
   "name": "python3"
  },
  "language_info": {
   "codemirror_mode": {
    "name": "ipython",
    "version": 3
   },
   "file_extension": ".py",
   "mimetype": "text/x-python",
   "name": "python",
   "nbconvert_exporter": "python",
   "pygments_lexer": "ipython3",
   "version": "3.10.14"
  }
 },
 "nbformat": 4,
 "nbformat_minor": 5
}
