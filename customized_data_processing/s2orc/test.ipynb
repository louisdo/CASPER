{
 "cells": [
  {
   "cell_type": "code",
   "execution_count": 49,
   "metadata": {},
   "outputs": [],
   "source": [
    "import json\n",
    "\n",
    "data = []\n",
    "with open(\"/home/lamdo/splade/customized_data_processing/s2orc/temp/extracted_metadata/0.jsonl\") as f:\n",
    "    for line in f:\n",
    "        jline = json.loads(line)\n",
    "        data.append(jline)"
   ]
  },
  {
   "cell_type": "code",
   "execution_count": 51,
   "metadata": {},
   "outputs": [
    {
     "data": {
      "text/plain": [
       "8735"
      ]
     },
     "execution_count": 51,
     "metadata": {},
     "output_type": "execute_result"
    }
   ],
   "source": [
    "count = 0\n",
    "indices = []\n",
    "for i, line in enumerate(data):\n",
    "    if not line: continue\n",
    "    if line[\"citation_context\"] and any([\"et al\" in cc[0] for cc in line[\"citation_context\"]]): \n",
    "        count+= 1\n",
    "        indices.append(i)\n",
    "count"
   ]
  },
  {
   "cell_type": "code",
   "execution_count": 24,
   "metadata": {},
   "outputs": [
    {
     "data": {
      "text/plain": [
       "35912"
      ]
     },
     "execution_count": 24,
     "metadata": {},
     "output_type": "execute_result"
    }
   ],
   "source": [
    "len([item for item in data if item])"
   ]
  },
  {
   "cell_type": "code",
   "execution_count": 54,
   "metadata": {},
   "outputs": [
    {
     "data": {
      "text/plain": [
       "{'citation_context': [['Hence, the efficient management of waste materials is essential for a smooth industrial revolution .',\n",
       "   [246295512]],\n",
       "  ['Researchers have recently concentrated on waste materials by converting them into wealth, such as energy production .',\n",
       "   [233675414, 249689247]],\n",
       "  ['Further, waste materials might be reprocessed and reused to advance other valuable materials .',\n",
       "   [224865842]],\n",
       "  ['Infrastructure construction materials, particularly concrete, have been integrated with waste materials as critical components for several years .',\n",
       "   [246318853]],\n",
       "  ['The extraordinary challenges for the researcher are fiber quality, orientation and distribution, fiber strength, fiber humidity, fiber hydrophilicity, concerns of compatibility, and fiber degradation during chemical processing .',\n",
       "   [135924442]],\n",
       "  ['observed that the addition of 2% coconut fibers in waste glass concrete improved the density by 20% and enhanced the mechanical strength .',\n",
       "   [135976515]],\n",
       "  ['Palm fibers have strand textures with distinct properties such as being low-cost, available in some regions, lightweight, and durable .',\n",
       "   [54863759]],\n",
       "  ['Fibers extracted from rotten palm trees are found to have low tensile strength, brittle behavior, low elasticity modulus, and very high water absorption capacity .',\n",
       "   [135731571]],\n",
       "  ['Several studies have incorporated natural fibers into construction materials .',\n",
       "   [239268120, 220732333, 250677967, 197611836, 218946903]],\n",
       "  ['Taallah, Bachir, et al investigated the mechanical and hygroscopicity characteristics of compressed earth blocks occupied by date palm fibers to ensure the use of local building materials and support for low-cost housing in rural areas.',\n",
       "   [136573035]],\n",
       "  ['Rokbi M. et al investigated developing and characterizing a polymer-reinforced concrete with date palm fibers.',\n",
       "   [204902462]],\n",
       "  ['The fine aggregate consists of natural dune sand with maximum particles passing through sieve No.',\n",
       "   [233675414]],\n",
       "  ['The date palm fibers were cured chemically with 3% concentrations of analytical Sodium Hydroxide to eliminate any possible impurities from the surfaces of the fibers, and this chemical treatment also enhanced their matrix compatibility .',\n",
       "   [237687782]],\n",
       "  ['Ultrasound Plus Velocity Test The integrity and homogeneity of the high-strength date palm, steel, and polypropylene fibrous concrete specimens were confirmed by the ultrasonic pulse velocity (UPV) test .',\n",
       "   [224856709, 244099527]],\n",
       "  ['Water Permeability Test The water penetration intensity into the high-strength date palm, steel, and polypropylene fibrous concrete specimens was evaluated using a Zwick machine .',\n",
       "   [109084703]],\n",
       "  [\"The compressive strength of the high-strength fibrous concrete primarily depended on the coarse aggregate's strength .\",\n",
       "   [250677967, 244686816]],\n",
       "  ['Alatshan, F. et al revealed that the maximum compressive strength was achieved at 30 MPa with 1.0% of date fibers in the concrete.',\n",
       "   [56351097]],\n",
       "  ['Flexural Strength The flexural strength and impact resistance of fiber-reinforced concrete is very significant when infrastructures are exposed to the marine environment or extreme weathering conditions .',\n",
       "   [136561363, 245088288]],\n",
       "  ['Flexural Strength The flexural strength and impact resistance of fiber-reinforced concrete is very significant when infrastructures are exposed to the marine environment or extreme weathering conditions .',\n",
       "   [136561363, 245088288]],\n",
       "  [\"Numerous studies have revealed that concrete density increases by increasing steel fiber's contents in the concrete .\",\n",
       "   [244686816, 56248687]],\n",
       "  ['Moreover, the density of the concrete is reduced by increasing the polypropylene fibers in the concrete .',\n",
       "   [56351097, 136561363]],\n",
       "  [\"The UPV of the high- Numerous studies have revealed that concrete density increases by increasing steel fiber's contents in the concrete .\",\n",
       "   [244686816, 56248687]],\n",
       "  ['Moreover, the density of the concrete is reduced by increasing the polypropylene fibers in the concrete .',\n",
       "   [56351097, 136561363]],\n",
       "  ['Meanwhile, the UPV of the concrete is an execution of the volumetric intensity of ingredients in the concrete .',\n",
       "   [245088288]],\n",
       "  [\"Numerous studies have revealed that concrete density increases by increasing steel fiber's contents in the concrete .\",\n",
       "   [244686816, 56248687]],\n",
       "  ['Moreover, the density of the concrete is reduced by increasing the polypropylene fibers in the concrete .',\n",
       "   [56351097, 136561363]],\n",
       "  ['Meanwhile, the UPV of the concrete is an execution of the volumetric intensity of ingredients in the concrete .',\n",
       "   [245088288]],\n",
       "  ['Neville, A.M. specified that the water absorption capability should be less than 10% for decent-quality concrete.',\n",
       "   [56248687]],\n",
       "  ['Neville, A.M. specified that the water absorption capability should be less than 10% for decent-quality concrete.',\n",
       "   [56248687]],\n",
       "  ['Ductility Ductility is expressed as the competence of a material or infrastructure to tolerate substantial plastic deformation without significant loss in strength proficiency .',\n",
       "   [136532850]],\n",
       "  ['Hence, ductility is an essential characteristic since it allows stress rearrangement and permits safeguards to be considered in the case of approaching failure .',\n",
       "   [136929614, 25694415, 136458066, 235301412]],\n",
       "  ['The ductility index of the specimens is distinct as the relationship of displacement at the extreme load to yield load .',\n",
       "   [251296978, 252417326, 249213591, 248311298]],\n",
       "  ['The ductility index of the date palm, steel, and poly- Ductility Ductility is expressed as the competence of a material or infrastructure to tolerate substantial plastic deformation without significant loss in strength proficiency .',\n",
       "   [136532850]],\n",
       "  ['Hence, ductility is an essential characteristic since it allows stress rearrangement and permits safeguards to be considered in the case of approaching failure .',\n",
       "   [136929614, 25694415, 136458066, 235301412]],\n",
       "  ['The ductility index of the specimens is distinct as the relationship of displacement at the extreme load to yield load .',\n",
       "   [251296978, 252417326, 249213591, 248311298]],\n",
       "  ['Therefore, the date palm fiber-based concrete should be very competent in terms of ductility .',\n",
       "   [248075581, 249660035, 251824112, 252176192, 252936929]],\n",
       "  ['202211 Relationship between the density and volume fractions of different fibers.',\n",
       "   [236242452]],\n",
       "  ['3Physical properties of date palm fibers .Length (mm) Diameter (mm) Density (kg/cm 3 ) Tensile Strength (MPa) Elongation (%) Modulus of Elas ticity (GPa) Table 3 .',\n",
       "   [136373602]],\n",
       "  ['3Physical properties of date palm fibers .Length (mm) Diameter (mm) Density (kg/cm 3 ) Tensile Strength (MPa) Elongation (%) Modulus of Elasticity (GPa) 60 0.1-1.0 1.30 240 ± 30 12 ± 2 5.00 ± 2 2.1.5.',\n",
       "   [136373602]]],\n",
       " 'title': ['materials Behavior of Concrete Reinforced with Date Palm Fibers',\n",
       "  'Citation: Althoey, F.; Hakeem, I.Y.; Hosen, M.A.; Qaidi, S.; Isleem, H.F.; Hadidi, H.; Shahapurkar, K.; Ahmad, J.; Ali, E. Behavior of Concrete Reinforced with Date Palm Fibers.Materials 2022, 15, 7923. https:// Abstract: In recent decades, researchers have begun to investigate innovative sustainable construction materials for the development of greener and more environmentally friendly infrastructures. The main purpose of this article is to investigate the possibility of employing date palm tree waste as a natural fiber alternative for conventional steel and polypropylene fibers (PPFs) in concrete. Date palm fibers are a common agricultural waste in Middle Eastern nations, particularly Saudi Arabia. As a result, this research examined the engineering properties of high-strength concrete using date palm fibers, as well as the performance of traditional steel and PPF concrete. The concrete samples were made using 0.0%, 0.20%, 0.60%, and 1.0% by volume of date palm, steel, and polypropylene fibers. Ten concrete mixtures were made in total. Compressive strength, flexural strength, splitting tensile strength, density, ultrasonic pulse velocity (UPV), water absorption capability, and water permeability tests were performed on the fibrous-reinforced high-strength concrete. With a 1% proportion of date palm, steel, and polypropylene fibers, the splitting tensile strength improved by 17%, 43%, and 16%, respectively. By adding 1% fiber, flexural strength was increased by 60% to 85%, 67% to 165%, and 61% to 79%. In addition, date palm fibers outperformed steel and PPFs in terms of density, UPV, and water permeability. As a result, date palm fibers might potentially be employed in the present construction sector to improve the serviceability of structural elements.'],\n",
       " 'co_citation': [[233675414, 249689247],\n",
       "  [136634858, 237528752, 236951396],\n",
       "  [239268120, 220732333, 250677967, 197611836, 218946903],\n",
       "  [224856709, 244099527],\n",
       "  [250677967, 244686816],\n",
       "  [136561363, 245088288],\n",
       "  [136561363, 245088288],\n",
       "  [244686816, 56248687],\n",
       "  [56351097, 136561363],\n",
       "  [244686816, 56248687],\n",
       "  [56351097, 136561363],\n",
       "  [244686816, 56248687],\n",
       "  [56351097, 136561363],\n",
       "  [136929614, 25694415, 136458066, 235301412],\n",
       "  [251296978, 252417326, 249213591, 248311298],\n",
       "  [136929614, 25694415, 136458066, 235301412],\n",
       "  [251296978, 252417326, 249213591, 248311298],\n",
       "  [248075581, 249660035, 251824112, 252176192, 252936929]],\n",
       " 'all_references': [246295512,\n",
       "  233675414,\n",
       "  249689247,\n",
       "  224865842,\n",
       "  246318853,\n",
       "  233575701,\n",
       "  139546365,\n",
       "  236242452,\n",
       "  136634858,\n",
       "  237528752,\n",
       "  236951396,\n",
       "  135924442,\n",
       "  135976515,\n",
       "  54863759,\n",
       "  135731571,\n",
       "  239268120,\n",
       "  220732333,\n",
       "  250677967,\n",
       "  197611836,\n",
       "  218946903,\n",
       "  136573035,\n",
       "  204902462,\n",
       "  237687782,\n",
       "  136373602,\n",
       "  224856709,\n",
       "  244099527,\n",
       "  109084703,\n",
       "  244686816,\n",
       "  56351097,\n",
       "  136561363,\n",
       "  245088288,\n",
       "  56248687,\n",
       "  136532850,\n",
       "  136929614,\n",
       "  25694415,\n",
       "  136458066,\n",
       "  235301412,\n",
       "  251296978,\n",
       "  252417326,\n",
       "  249213591,\n",
       "  248311298,\n",
       "  248075581,\n",
       "  249660035,\n",
       "  251824112,\n",
       "  252176192,\n",
       "  252936929]}"
      ]
     },
     "execution_count": 54,
     "metadata": {},
     "output_type": "execute_result"
    }
   ],
   "source": [
    "data[indices[1]]"
   ]
  },
  {
   "cell_type": "code",
   "execution_count": 3,
   "metadata": {},
   "outputs": [],
   "source": [
    "import gzip, json\n",
    "raw_data = []\n",
    "with gzip.open(\"/scratch/lamdo/s2orc/processed/s2orc_temp/0.gz\",'rt') as f:\n",
    "    for i, paper in enumerate(f):\n",
    "        if i ==1000: break\n",
    "        raw_data.append(json.loads(paper))"
   ]
  },
  {
   "cell_type": "code",
   "execution_count": 5,
   "metadata": {},
   "outputs": [
    {
     "data": {
      "text/plain": [
       "int"
      ]
     },
     "execution_count": 5,
     "metadata": {},
     "output_type": "execute_result"
    }
   ],
   "source": [
    "type(raw_data[0][\"corpusid\"])"
   ]
  },
  {
   "cell_type": "code",
   "execution_count": 41,
   "metadata": {},
   "outputs": [
    {
     "data": {
      "text/plain": [
       "'[{\"end\":1969,\"start\":1953}]'"
      ]
     },
     "execution_count": 41,
     "metadata": {},
     "output_type": "execute_result"
    }
   ],
   "source": [
    "raw_data[15].get(\"content\").get(\"annotations\").get(\"venue\")"
   ]
  },
  {
   "cell_type": "code",
   "execution_count": 42,
   "metadata": {},
   "outputs": [
    {
     "data": {
      "text/plain": [
       "'Int. J. Mol. Sci'"
      ]
     },
     "execution_count": 42,
     "metadata": {},
     "output_type": "execute_result"
    }
   ],
   "source": [
    "raw_data[15].get(\"content\").get(\"text\")[1953:1969]"
   ]
  },
  {
   "cell_type": "code",
   "execution_count": 60,
   "metadata": {},
   "outputs": [
    {
     "data": {
      "text/plain": [
       "{'citation_context': [['Environmental Surveillance of Pathogens from Wastewater Wastewater is a source of enteric pathogenic microorganisms that can represent a concern to public health .',\n",
       "   [33529187]],\n",
       "  ['Enteric pathogenic bacteria, viruses, protozoa, and parasites can be present in wastewater, and these pose the risk of being transmitted through water sources (i.e., water-borne), particularly in cases where wastewater effluents have not been efficiently treated before their discharge into water streams that are used for recreation and consumption .',\n",
       "   [21725436, 154287864]],\n",
       "  ['Zoonotic pathogens may also be transmitted through wastewater , some of which can cause life-threating conditions, particularly in developing countries with no immediate access to health care.',\n",
       "   [1717477]],\n",
       "  ['For instance, wastewater surveillance has been performed during poliovirus outbreaks, where results have yielded a dose-dependent relationship between the number of poliovirus shedders and the amount of poliovirus in wastewater .',\n",
       "   [206691393]],\n",
       "  ['While these viruses may be excreted in high concentrations in infected individuals, the presence of these viruses in wastewater may be the early warning signs of an outbreak .',\n",
       "   [206726763]],\n",
       "  ['In addition, given that the number of some enteric pathogens is usually low, methods for the recovery, concentration, and enumeration can be troublesome .',\n",
       "   [82036726]],\n",
       "  ['Molecular methods, particularly the polymerase chain reaction (PCR) (which can determine presence/absence of a target genomic region) and quantitative PCR (qPCR) (which can quantify the copies of a target genomic region) have long been used for the detection of pathogens in wastewater .',\n",
       "   [10448407]],\n",
       "  ['Taq polymerases, for example, are ideal for routine PCR, but they may fail with the amplification of genomic targets larger than 1.5 kilobases (kb) .',\n",
       "   [41290125]],\n",
       "  ['In addition, while other polymerases are ideal for cloning, others may be better suited for mutation identification, a factor that is essential in experiments aiming to distinguish pathogenic variants and strains .',\n",
       "   [41290125]],\n",
       "  ['Enteric pathogenic viruses are easily transferred from person-to-person and require very low infectious doses to cause disease .',\n",
       "   [21226328]],\n",
       "  ['Many of these include, but are not limited to, rotaviruses, adenoviruses, polioviruses, enteroviruses, and noroviruses .',\n",
       "   [43278806]],\n",
       "  ['For instance, studies addressing the prevalence of Ebola in wastewater have shown that the virus can be detected for at least the duration of the study (8 days) .',\n",
       "   [31399259]],\n",
       "  ['Some of these viruses can also be shed through saliva, phlegm, urine, and blood , which would also enter the wastewater system.',\n",
       "   [201087]],\n",
       "  ['Emerging Respiratory Viruses in Wastewater: Considerations from SARS-CoV-2 SARS-CoV-2 is the most recent virus from the Coronaviridae family known to infect humans, and it started as a pneumonia of unknown etiology .',\n",
       "   [210889724]],\n",
       "  ['SARS-CoV-2 is hypothesized to be of zoonotic origin, presumably originating in bats, with pangolins as intermediate hosts before adapting and infecting humans .',\n",
       "   [212732429]],\n",
       "  ['When infected, individuals may present symptoms that include a fever, cough, difficulty breathing, as well as other less-common symptoms, including vomiting and diarrhea .',\n",
       "   [210889724, 215741067]],\n",
       "  ['SARS-CoV-2 nucleic acids (i.e., RNA) have been detected in the feces of infected individuals .',\n",
       "   [229194159]],\n",
       "  ['While there is no evidence, thus far, suggesting that direct contact with feces and sewage harboring SARS-CoV-2 may cause the disease, future studies regarding potential transmission should not be ignored .',\n",
       "   [221978876]],\n",
       "  ['Nevertheless, the presence of SARS-CoV-2 in feces prompted the investigation of the prevalence of the virus in wastewater ( Figure 1) .',\n",
       "   [214755449, 215801108]],\n",
       "  ['Some of these viruses can also be shed through saliva, phlegm, urine, and blood , which would also enter the wastewater system.',\n",
       "   [201087]],\n",
       "  ['Emerging Respiratory Viruses in Wastewater: Considerations from SARS-CoV-2 SARS-CoV-2 is the most recent virus from the Coronaviridae family known to infect humans, and it started as a pneumonia of unknown etiology .',\n",
       "   [210889724]],\n",
       "  ['SARS-CoV-2 is hypothesized to be of zoonotic origin, presumably originating in bats, with pangolins as intermediate hosts before adapting and infecting humans .',\n",
       "   [212732429]],\n",
       "  ['When infected, individuals may present symptoms that include a fever, cough, difficulty breathing, as well as other lesscommon symptoms, including vomiting and diarrhea .',\n",
       "   [210889724, 215741067]],\n",
       "  ['SARS-CoV-2 nucleic acids (i.e., RNA) have been detected in the feces of infected individuals .',\n",
       "   [229194159]],\n",
       "  ['While there is no evidence, thus far, suggesting that direct contact with feces and sewage harboring SARS-CoV-2 may cause the disease, future studies regarding potential transmission should not be ignored .',\n",
       "   [221978876]],\n",
       "  ['Nevertheless, the presence of SARS-CoV-2 in feces prompted the investigation of the prevalence of the virus in wastewater ( Figure 1) .',\n",
       "   [214755449, 215801108]],\n",
       "  ['SARS-CoV-2 wastewater surveillance may provide real-time epidemiological data that may not be provided by healthcare facilities alone .',\n",
       "   [221842959]],\n",
       "  ['Notably, it has been suggested that SARS-CoV-2 wastewater surveillance may lead diagnostic tests by approximately a week .',\n",
       "   [221842959]],\n",
       "  ['SARS-CoV-2 wastewater surveillance may provide real-time epidemiological data that may not be provided by healthcare facilities alone .',\n",
       "   [221842959]],\n",
       "  ['Notably, it has been suggested that SARS-CoV-2 wastewater surveillance may lead diagnostic tests by approximately a week .',\n",
       "   [221842959]],\n",
       "  ['Notably, the secondary-treated wastewater and the final effluent samples tested negative for SARS-CoV-2 nucleic acids, showing that SARS-CoV-2 is sensitive to the wastewater treatment process .',\n",
       "   [224876003]],\n",
       "  ['Results showed that 6 out of the 12 untreated wastewater samples collected between February and April 2020 were positive for the virus nucleic acids .',\n",
       "   [216642728]],\n",
       "  ['While the results may suggest that SARS-CoV-2 in untreated wastewater may serve as an early warning sign , its absence in treated wastewater may suggest that the transmission of the virus via this source may be limited.',\n",
       "   [215801108]],\n",
       "  ['Notably, the detection and quantification of SARS-CoV-2 RNA in wastewater is not an indication of the number of viable viral particles or the number of individuals that might be infected .',\n",
       "   [215801108]],\n",
       "  ['Moreover, it has been recommended to collect samples when defecation happens the most frequently, which is usually early in the morning .',\n",
       "   [222001738]],\n",
       "  ['While grab samples do not require specialized equipment, they only represent a single time point, which may not be representative of the global fecal composition of sample sites .',\n",
       "   [73715125]],\n",
       "  ['In terms of the collection frequency, it has been suggested to collect > 2 composite samples per week, or a composite sample every 48 to 72 h, as SARS-CoV-2 is not consistently shed from infected individuals .',\n",
       "   [222001738]],\n",
       "  ['Wastewater Transport and Storage for SARS-CoV-2 Detection Few wastewater surveillance studies have reported the transport and storage conditions of samples prior to SARS-CoV-2 detection .',\n",
       "   [222001738]],\n",
       "  ['Briefly, samples should be collected in appropriately sterile containers, either factory-sealed or reused, and usually at least one liter of the sample should be collected .',\n",
       "   [6448401]],\n",
       "  ['It is strongly recommended to keep samples on ice or at 4 • C, and concentrated within a time frame of 48 to 72 h post-collection .',\n",
       "   [6448401]],\n",
       "  ['This may suggest that, under certain circumstances, samples may be processed up to 72 h post-collection with the caveat that viral RNA may not reflect the original viral load .',\n",
       "   [221348359]],\n",
       "  ['Several of the initial studies detecting SARS-CoV-2 RNA utilized a combination of centrifugation to remove big debris, followed by the ultrafiltration of the supernatant .',\n",
       "   [218972405]],\n",
       "  ['Comparative studies have shown that the most efficient methods for SARS-CoV-2 concentration are the adsorption-extraction method with MgCl 2 and the adsorption-extraction method with a neutral pH .',\n",
       "   [219312186]],\n",
       "  ['For this reason, a reagent blank, also known as a negative extraction control, should be included for each batch of RNA extractions to ensure no cross-contamination has occurred .',\n",
       "   [222001738]],\n",
       "  ['For instance, primer specificity is essential when performing RT-PCR and RT-qPCR; therefore, the RNA target genome(s) should be known in order to increase sensitivity .',\n",
       "   [220381548]],\n",
       "  ['PCR inhibition should be assessed before making assumptions regarding the presence/absence and/or viral RNA copy numbers .',\n",
       "   [222001738]],\n",
       "  ['For this reason, studies have evaluated the use of SYBR-Green assays as an alternative, cost-efficient method for the detection and diagnosis of SARS-CoV-2 .',\n",
       "   [221033735]],\n",
       "  ['Results have shown positive reactions with all serial dilutions of the SARS-CoV-2 isolate tested .',\n",
       "   [221033735]],\n",
       "  ['Thousands of sequences were approximately 85% similar to the coronavirus found in bats, demonstrating differences from the previous SARS-CoV and MERS-CoV sequences .',\n",
       "   [210889724]],\n",
       "  ['High-throughput sequencing also arose and has been proposed as a surveillance tool for the detection of SARS-CoV-2 in various sample types, including wastewater, and as a means to determine genetic diversity (Figure 1) .',\n",
       "   [221642272, 231697352]],\n",
       "  ['However, most of the SARS-CoV-2 surveillance in wastewater employs assays targeting known SARS-CoV-2 variants, often showing that these are identical to their clinical counterparts .',\n",
       "   [221642272]],\n",
       "  ['However, the high-throughput sequencing of wastewater samples may have the caveat of not providing the same level of genome confidence as the sequencing of clinical samples, as these are highly diverse samples, and more sequencing may be needed to obtain a higher degree of sequence coverage .',\n",
       "   [231697352]],\n",
       "  ['Modifications to the ARTIC protocol continue to be tested in sample types, such as saliva; thus, their efficiency in wastewater would need to be tested .',\n",
       "   [234893966]],\n",
       "  ['When looking at the environmental surveillance of SARS-CoV-2, it may have to be restricted to geographical areas where people are at higher risk of the circulation of the virus, as well as having limited vaccination accessibility .',\n",
       "   [6448401]],\n",
       "  ['This is also known as a cytokine storm, which evolves through several pathways, leading to the production of interleukin-6 (IL-6) and TNF-alpha .',\n",
       "   [218685875]],\n",
       "  ['Isoprostanes, specifically, have been explored as biomarkers of oxidative stress in wastewater during the SARS-CoV-2 pandemic, showing varying levels, depending on the pandemic timeline .',\n",
       "   [230108691]]],\n",
       " 'title': ['', ''],\n",
       " 'co_citation': [[21725436, 154287864],\n",
       "  [210889724, 215741067],\n",
       "  [214755449, 215801108],\n",
       "  [210889724, 215741067],\n",
       "  [214755449, 215801108],\n",
       "  [224876003, 222315452],\n",
       "  [221642272, 231697352]],\n",
       " 'all_references': [33529187,\n",
       "  21725436,\n",
       "  154287864,\n",
       "  1717477,\n",
       "  206691393,\n",
       "  206726763,\n",
       "  82036726,\n",
       "  10448407,\n",
       "  41290125,\n",
       "  21226328,\n",
       "  31164630,\n",
       "  43278806,\n",
       "  34432902,\n",
       "  4581672,\n",
       "  31399259,\n",
       "  5784268,\n",
       "  23476657,\n",
       "  201087,\n",
       "  210889724,\n",
       "  212732429,\n",
       "  215741067,\n",
       "  229194159,\n",
       "  221978876,\n",
       "  214755449,\n",
       "  215801108,\n",
       "  221842959,\n",
       "  224876003,\n",
       "  216642728,\n",
       "  218656991,\n",
       "  232105777,\n",
       "  227171591,\n",
       "  222001738,\n",
       "  73715125,\n",
       "  6448401,\n",
       "  221348359,\n",
       "  218972405,\n",
       "  222315452,\n",
       "  219312186,\n",
       "  220381548,\n",
       "  221033735,\n",
       "  221642272,\n",
       "  231697352,\n",
       "  234893966,\n",
       "  218685875,\n",
       "  230108691,\n",
       "  232271555]}"
      ]
     },
     "execution_count": 60,
     "metadata": {},
     "output_type": "execute_result"
    }
   ],
   "source": [
    "import random\n",
    "\n",
    "index = random.randint(0, len(data))\n",
    "data[index]"
   ]
  },
  {
   "cell_type": "code",
   "execution_count": 1,
   "metadata": {},
   "outputs": [],
   "source": [
    "import json\n",
    "\n",
    "with open(\"/scratch/lvnguyen/splade_keyphrases_expansion/dataset/s2orc_papers_metadata.jsonl\") as f:\n",
    "    for line in f:\n",
    "        jline = json.loads(line)\n",
    "        break"
   ]
  },
  {
   "cell_type": "code",
   "execution_count": 2,
   "metadata": {},
   "outputs": [
    {
     "data": {
      "text/plain": [
       "{'paperId': '40e7683b51dc0dbbf69578974d7fbbfac31000ce',\n",
       " 'title': 'Rice endophyte Pantoea agglomerans YS19 promotes host plant growth and affects allocations of host photosynthates',\n",
       " 'abstract': 'Aims:\\u2002 The aims of the study were to identify the effects of rice endophyte Pantoea agglomerans YS19 on host plant growth and allocations of photosynthates.',\n",
       " 'openAccessPdf': {'url': 'https://doi.org/10.1111/j.1365-2672.2006.02843.x',\n",
       "  'status': 'CLOSED',\n",
       "  'license': None,\n",
       "  'disclaimer': 'Notice: This abstract is extracted from the open access paper or abstract available at https://api.unpaywall.org/v2/10.1111/j.1365-2672.2006.02843.x?email=<INSERT_YOUR_EMAIL> or https://doi.org/10.1111/j.1365-2672.2006.02843.x, which is subject to the license by the author or copyright owner provided with this content. Please go to the source to verify the license and copyright information for your use.'},\n",
       " 'authors': [{'authorId': '2247990170', 'name': 'Yongjun Feng'},\n",
       "  {'authorId': '2247990170', 'name': 'Yongjun Feng'},\n",
       "  {'authorId': '6750578', 'name': 'D. Shen'},\n",
       "  {'authorId': '2107483947', 'name': 'W. Song'}],\n",
       " 'corpusId': 33554432}"
      ]
     },
     "execution_count": 2,
     "metadata": {},
     "output_type": "execute_result"
    }
   ],
   "source": [
    "jline"
   ]
  },
  {
   "cell_type": "code",
   "execution_count": null,
   "metadata": {},
   "outputs": [],
   "source": []
  }
 ],
 "metadata": {
  "kernelspec": {
   "display_name": "venv310",
   "language": "python",
   "name": "python3"
  },
  "language_info": {
   "codemirror_mode": {
    "name": "ipython",
    "version": 3
   },
   "file_extension": ".py",
   "mimetype": "text/x-python",
   "name": "python",
   "nbconvert_exporter": "python",
   "pygments_lexer": "ipython3",
   "version": "3.10.14"
  }
 },
 "nbformat": 4,
 "nbformat_minor": 2
}
