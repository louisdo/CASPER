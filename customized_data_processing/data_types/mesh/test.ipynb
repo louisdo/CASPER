{
 "cells": [
  {
   "cell_type": "code",
   "execution_count": 3,
   "metadata": {},
   "outputs": [],
   "source": [
    "with open(\"/scratch/lamdo/phrase_splade_datasets/mesh_descriptors/raw.tsv\") as f:\n",
    "    error_count = 0\n",
    "    data = []\n",
    "    for i, line in enumerate(f):\n",
    "        if i ==100: break\n",
    "        splitted_line = line.split(\"\\t\")\n",
    "        if len(splitted_line) < 3: \n",
    "            error_count += 1\n",
    "            continue\n",
    "        \n",
    "        data.append(splitted_line)"
   ]
  },
  {
   "cell_type": "code",
   "execution_count": 7,
   "metadata": {},
   "outputs": [
    {
     "data": {
      "text/plain": [
       "['Antineoplastic Agents',\n",
       " 'the interaction of selenium with chemotherapy and radiation on normal and malignant human mononuclear blood cells. selenium, a trace element with anticancer properties, can reduce harmful toxicities of chemotherapy and radiotherapy without compromising efficacy. however, the dose-response relationship in normal versus malignant human cells is unclear. we evaluated how methylseleninic acid (msa) modulates the toxicity and efficacy of chemotherapy and radiation on malignant and non-malignant human mononuclear blood cells in vitro. we specifically investigated its effects on endoplasmic reticulum stress induction, intracellular glutathione concentration, dna damage and viability of peripheral blood mononuclear cells and thp1 monocytic leukaemia cells in response to radiation, cytosine arabinoside or doxorubicin chemotherapy. msa, at lower concentrations, induced protective responses in normal cells but cytotoxic effects in malignant cells, alone and in conjunction with chemotherapy or radiation. however, in normal cells higher concentrations of msa were directly toxic and increased the cytotoxicity of radiation but not chemotherapy. in malignant cells higher msa concentrations were generally more effective in combination with cancer treatments. thus, optimal msa concentrations differed between normal and malignant cells and treatments. this work supports clinical reports that selenium can significantly reduce dose-limiting toxicities of anticancer therapies and potentially improve efficacy of anticancer treatments. the optimal selenium compound and dose is not yet determined.',\n",
       " \"preliminary development of a new individualised questionnaire measuring quality of life in older men with age-related hormonal decline: the a-rhdqol. backgroundthere is increasing interest in hormone replacement therapy to improve health and quality of life (qol) of older men with age-related decline in hormone levels. this paper reports the preliminary development and evaluation of the psychometric properties of a new individualised questionnaire, the a-rhdqol, measuring perceived impact of age-related hormonal decline on qol of older men. a-rhdqol design was based on the hdqol for people with growth hormone (gh) deficiency and the addqol (for diabetes).methodsinternal consistency reliability and some aspects of validity of the a-rhdqol were investigated in a cross-sectional survey of 128 older men (age range: 64 – 80 yrs), being screened for inclusion in a trial of gh and testosterone (t) replacement, and who completed the a-rhdqol once. respondents rated personally applicable life domains for importance and impact of their hormonal decline. a single overview item measured present qol. serum levels of insulin-like growth factor-i and total t were measured.resultsof the 24 a-rhdqol domains, 21 were rated as relevant and important for older men. all domains were perceived as negatively impacted by hormonal decline. the most negatively impacted domains were: memory (-4.54 ± 3.02), energy (-4.44 ± 2.49), sex life (-4.34 ± 3.08) and physical stamina (-4.29 ± 2.41), (maximum range -9 to +9). the shorter 21-domain a-rhdqol had high internal consistency reliability (cronbach's alpha coefficient = 0.935, n = 103) and applicable domains could be weighted and summed into an overall average weighted impact score. the questionnaire was acceptable to the majority of respondents and content validity was good. the single overview item measuring present qol correlated significantly with total t levels [r = 0.26, p <0.01, n = 114].conclusionthe new 21-item a-rhdqol is an individualised questionnaire measuring perceived impact of age-related hormonal decline on the qol of older men. the internal consistency reliability and content validity of the a-rhdqol are established, but the measure is at an early stage of its development and its sensitivity to change and other psychometric properties need now to be evaluated in clinical trials of hormone replacement in older men.\\n\"]"
      ]
     },
     "execution_count": 7,
     "metadata": {},
     "output_type": "execute_result"
    }
   ],
   "source": [
    "data[99]"
   ]
  },
  {
   "cell_type": "code",
   "execution_count": null,
   "metadata": {},
   "outputs": [],
   "source": []
  }
 ],
 "metadata": {
  "kernelspec": {
   "display_name": "venv310",
   "language": "python",
   "name": "python3"
  },
  "language_info": {
   "codemirror_mode": {
    "name": "ipython",
    "version": 3
   },
   "file_extension": ".py",
   "mimetype": "text/x-python",
   "name": "python",
   "nbconvert_exporter": "python",
   "pygments_lexer": "ipython3",
   "version": "3.10.14"
  }
 },
 "nbformat": 4,
 "nbformat_minor": 2
}
