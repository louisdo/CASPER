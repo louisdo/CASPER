{
 "cells": [
  {
   "cell_type": "code",
   "execution_count": null,
   "metadata": {},
   "outputs": [],
   "source": []
  },
  {
   "cell_type": "code",
   "execution_count": 11,
   "metadata": {},
   "outputs": [],
   "source": [
    "with open(\"/scratch/lamdo/phrase_splade_datasets/kp/raw.tsv\") as f:\n",
    "    error_count = 0\n",
    "    data = []\n",
    "    for i, line in enumerate(f):\n",
    "        splitted_line = line.split('\\t')\n",
    "        if len(splitted_line) != 3:\n",
    "            error_count += 1\n",
    "        data.append(splitted_line)"
   ]
  },
  {
   "cell_type": "code",
   "execution_count": 15,
   "metadata": {},
   "outputs": [
    {
     "data": {
      "text/plain": [
       "['artificial intelligence, education, auditability, ethics, interdisciplinary science, interpretability',\n",
       " 'interdisciplinary research in artificial intelligence: challenges and opportunities.. the use of artificial intelligence (ai) in a variety of research fields is speeding up multiple digital revolutions, from shifting paradigms in healthcare, precision medicine and wearable sensing, to public services and education offered to the masses around the world, to future cities made optimally efficient by autonomous driving. when a revolution happens, the consequences are not obvious straight away, and to date, there is no uniformly adapted framework to guide ai research to ensure a sustainable societal transition. to answer this need, here we analyze three key challenges to interdisciplinary ai research, and deliver three broad conclusions: 1) future development of ai should not only impact other scientific domains but should also take inspiration and benefit from other fields of science, 2) ai research must be accompanied by decision explainability, dataset bias transparency as well as development of evaluation methodologies and creation of regulatory agencies to ensure responsibility, and 3) ai education should receive more attention, efforts and innovation from the educational and scientific communities. our analysis is of interest not only to ai practitioners but also to other researchers and the general public as it offers ways to guide the emerging collaborations and interactions toward the most fruitful outcomes.',\n",
       " 'fusing n-heterocyclic carbenes with carborane anions.. here we describe the fusion of two families of unusual carbon-containing molecules that readily disregard the tendency of carbon to form four chemical bonds, namely n-heterocyclic carbenes (nhcs) and carborane anions. deprotonation of an anionic imidazolium salt with lithium diisopropylamide at room temperature leads to a mixture of lithium complexes of c-2 and c-5 dianionic nhc constitutional isomers as well as a trianionic (c-2, c-5) adduct. judicious choice of the base and reaction conditions allows the selective formation of all three stable polyanionic carbenes. in solution, the so-called abnormal c-5 nhc lithium complex slowly isomerizes to the normal c-2 nhc, and the process can be proton-catalyzed by the addition of the anionic imidazolium salt. these results indicate that the combination of two unusual forms of carbon atoms can lead to unexpected chemical behavior, and that this strategy paves the way for the development of a broad new generation of nhc ligands for catalysis.\\n']"
      ]
     },
     "execution_count": 15,
     "metadata": {},
     "output_type": "execute_result"
    }
   ],
   "source": [
    "data[400010]"
   ]
  },
  {
   "cell_type": "code",
   "execution_count": null,
   "metadata": {},
   "outputs": [],
   "source": []
  }
 ],
 "metadata": {
  "kernelspec": {
   "display_name": "venv310",
   "language": "python",
   "name": "python3"
  },
  "language_info": {
   "codemirror_mode": {
    "name": "ipython",
    "version": 3
   },
   "file_extension": ".py",
   "mimetype": "text/x-python",
   "name": "python",
   "nbconvert_exporter": "python",
   "pygments_lexer": "ipython3",
   "version": "3.10.14"
  }
 },
 "nbformat": 4,
 "nbformat_minor": 2
}
