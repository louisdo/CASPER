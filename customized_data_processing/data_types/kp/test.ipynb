{
 "cells": [
  {
   "cell_type": "code",
   "execution_count": null,
   "metadata": {},
   "outputs": [],
   "source": []
  },
  {
   "cell_type": "code",
   "execution_count": 1,
   "metadata": {},
   "outputs": [],
   "source": [
    "with open(\"/scratch/lamdo/phrase_splade_datasets/aol_concept_annotations/raw.tsv\") as f:\n",
    "    error_count = 0\n",
    "    data = []\n",
    "    for i, line in enumerate(f):\n",
    "        splitted_line = line.split('\\t')\n",
    "        if len(splitted_line) != 3:\n",
    "            error_count += 1\n",
    "        data.append(splitted_line)"
   ]
  },
  {
   "cell_type": "code",
   "execution_count": 3,
   "metadata": {},
   "outputs": [
    {
     "data": {
      "text/plain": [
       "['neuroscience, neurophysiology, neuron, neural circuit, neurodevelopmental disorder',\n",
       " 'ectopic and increased expression of fasciclin ii alters motoneuron growth cone guidance.',\n",
       " 'prevalence of infiltrative lymphocytic mural folliculitis in equine inflammatory skin diseases. summary infiltrative lymphocytic mural folliculitis (ilmf) is a histopathological reaction pattern reported to occur in a small number of equine inflammatory dermatoses. however, the prevalence of ilmf in a variety of equine dermatoses has not been reported. skin biopsy specimens from 250 horses with inflammatory dermatoses and from 27 horses with physically healthy skin were therefore evaluated. ilmf was present in 82% of the diseased skin specimens examined. ilmf was not seen in physically healthy skin. it appears that ilmf is frequently seen in a wide variety of equine inflammatory dermatoses and therefore is of little diagnostic significance. however, ilmf is not seen in physically healthy equine skin and the presence of lymphocytes in equine hair follicle epithelium should therefore be considered abnormal.\\n']"
      ]
     },
     "execution_count": 3,
     "metadata": {},
     "output_type": "execute_result"
    }
   ],
   "source": [
    "data[100]"
   ]
  },
  {
   "cell_type": "code",
   "execution_count": null,
   "metadata": {},
   "outputs": [],
   "source": []
  }
 ],
 "metadata": {
  "kernelspec": {
   "display_name": "venv310",
   "language": "python",
   "name": "python3"
  },
  "language_info": {
   "codemirror_mode": {
    "name": "ipython",
    "version": 3
   },
   "file_extension": ".py",
   "mimetype": "text/x-python",
   "name": "python",
   "nbconvert_exporter": "python",
   "pygments_lexer": "ipython3",
   "version": "3.10.14"
  }
 },
 "nbformat": 4,
 "nbformat_minor": 2
}
