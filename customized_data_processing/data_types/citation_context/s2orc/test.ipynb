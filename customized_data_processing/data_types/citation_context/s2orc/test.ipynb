{
 "cells": [
  {
   "cell_type": "code",
   "execution_count": null,
   "metadata": {},
   "outputs": [
    {
     "name": "stderr",
     "output_type": "stream",
     "text": [
      "2547969it [00:07, 359879.04it/s]\n"
     ]
    }
   ],
   "source": [
    "import json\n",
    "from tqdm import tqdm\n",
    "with open(\"/scratch/lamdo/s2orc/processed/citation_contexts_triplets/triplets_intermediate.tsv\") as f:\n",
    "    data = []\n",
    "    for line in tqdm(f):\n",
    "        splitted_line = line.strip().split(\"\\t\")\n",
    "        data.append(splitted_line)"
   ]
  },
  {
   "cell_type": "code",
   "execution_count": 11,
   "metadata": {},
   "outputs": [
    {
     "data": {
      "text/plain": [
       "['The class reduces to \"p-stationary canonical linear iterative optimization algorithms\" (p-SCLI, see [2, Definition 1]) when the dependency to the previous iterates and gradients is linear which is a particular case of \"fixed-step first-order methods\" (FSFOM, see in ).',\n",
       " '9479850',\n",
       " '234358723']"
      ]
     },
     "execution_count": 11,
     "metadata": {},
     "output_type": "execute_result"
    }
   ],
   "source": [
    "data[50040]"
   ]
  },
  {
   "cell_type": "code",
   "execution_count": 1,
   "metadata": {},
   "outputs": [],
   "source": [
    "with open('/scratch/lamdo/s2orc/processed/citation_contexts_triplets/raw.tsv') as f:\n",
    "    for line in f:\n",
    "        splitted_line = line.strip().split(\"\\t\")\n",
    "        break"
   ]
  },
  {
   "cell_type": "code",
   "execution_count": 2,
   "metadata": {},
   "outputs": [
    {
     "data": {
      "text/plain": [
       "['Recall is the fraction of the total amount of relevant instances that were actually retrieved .',\n",
       " \"The Precision-Recall Plot Is More Informative than the ROC Plot When Evaluating Binary Classifiers on Imbalanced Datasets. Binary classifiers are routinely evaluated with performance measures such as sensitivity and specificity, and performance is frequently illustrated with Receiver Operating Characteristics (ROC) plots. Alternative measures such as positive predictive value (PPV) and the associated Precision/Recall (PRC) plots are used less frequently. Many bioinformatics studies develop and evaluate classifiers that are to be applied to strongly imbalanced datasets in which the number of negatives outweighs the number of positives significantly. While ROC plots are visually appealing and provide an overview of a classifier's performance across a wide range of specificities, one can ask whether ROC plots could be misleading when applied in imbalanced classification scenarios. We show here that the visual interpretability of ROC plots in the context of imbalanced datasets can be deceptive with respect to conclusions about the reliability of classification performance, owing to an intuitive but wrong interpretation of specificity. PRC plots, on the other hand, can provide the viewer with an accurate prediction of future classification performance due to the fact that they evaluate the fraction of true positives among positive predictions. Our findings have potential implications for the interpretation of a large number of studies that use ROC plots on imbalanced datasets.\",\n",
       " 'Urban Structure and Urban Growth. Abstract Urban structure is construed here as the result of a community effort to overcome distance between residents and required facilities. The elements of structure are identified, the mutual influences of urban structure and urban growth are considered, and there is an effort made to demonstrate the dynamic inter dependency of various urban structural phenomena by analyzing the effects of a change in transportation efficiency. However, the relationships presumed to hold here are as yet largely hypothetical and require further investigation. This article is timely in view of the current crisis in metropolitan structure occasioned mainly by rising automobile ownership.']"
      ]
     },
     "execution_count": 2,
     "metadata": {},
     "output_type": "execute_result"
    }
   ],
   "source": [
    "splitted_line"
   ]
  },
  {
   "cell_type": "code",
   "execution_count": null,
   "metadata": {},
   "outputs": [],
   "source": []
  }
 ],
 "metadata": {
  "kernelspec": {
   "display_name": "venv310",
   "language": "python",
   "name": "python3"
  },
  "language_info": {
   "codemirror_mode": {
    "name": "ipython",
    "version": 3
   },
   "file_extension": ".py",
   "mimetype": "text/x-python",
   "name": "python",
   "nbconvert_exporter": "python",
   "pygments_lexer": "ipython3",
   "version": "3.10.14"
  }
 },
 "nbformat": 4,
 "nbformat_minor": 2
}
