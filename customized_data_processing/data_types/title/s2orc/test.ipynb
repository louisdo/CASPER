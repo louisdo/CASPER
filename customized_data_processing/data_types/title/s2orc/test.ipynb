{
 "cells": [
  {
   "cell_type": "code",
   "execution_count": 2,
   "metadata": {},
   "outputs": [
    {
     "name": "stderr",
     "output_type": "stream",
     "text": [
      "23201it [00:00, 91579.02it/s] \n"
     ]
    }
   ],
   "source": [
    "from tqdm import tqdm\n",
    "\n",
    "with open('/scratch/lamdo/s2orc/processed/title_abstract_triplets/raw_cs.tsv') as f:\n",
    "    data = []\n",
    "    for i, line in enumerate(tqdm(f)):\n",
    "        # if i == 1000: break\n",
    "        splitted_line = line.split(\"\\t\")\n",
    "        data.append(splitted_line)"
   ]
  },
  {
   "cell_type": "code",
   "execution_count": 6,
   "metadata": {},
   "outputs": [
    {
     "data": {
      "text/plain": [
       "['Energy-Efficient Joint User-RB Association and Power Allocation for Uplink Hybrid NOMA-OMA',\n",
       " 'In this paper, energy efficient resource allocation is considered for an uplink hybrid system, where non-orthogonal multiple access (NOMA) is integrated into orthogonal multiple access (OMA). To ensure the quality of service for the users, a minimum rate requirement is pre-defined for each user. We formulate an energy efficiency (EE) maximization problem by jointly optimizing the user clustering, channel assignment and power allocation. To address this hard problem, a many-to-one bipartite graph is first constructed considering the users and resource blocks (RBs) as the two sets of nodes. Based on swap matching, a joint user-RB association and power allocation scheme is proposed, which converges within a limited number of iterations. Moreover, for the power allocation under a given user-RB association, we first derive the feasibility condition. If feasible, a low-complexity algorithm is proposed, which obtains optimal EE under any successive interference cancellation (SIC) order and an arbitrary number of users.In addition, for the special case of two users per cluster, analytical solutions are provided for the two SIC orders, respectively. These solutions shed light on how the power is allocated for each user to maximize the EE. Numerical results are presented, which show that the proposed joint user-RB association and power allocation algorithm outperforms other hybrid multiple access based and OMA-based schemes.Index TermsNon-orthogonal multiple access (NOMA), energy efficiency (EE), power allocation (PA), uplink transmission.verify the superiority of NORA over OMA in terms of the preamble collision probability, access success probability, and throughput.[24] also considers a random NOMA strategy for massive',\n",
       " 'Energy-Efficient Power Allocation for MIMO-NOMA With Multiple Users in a Cluster. In this paper, energy-efficient power allocation (PA) is investigated for a multiple-input multiple-output non-orthogonal multiple access system with multiple users in a cluster. To ensure the quality of service (QoS) for the users, a minimum rate requirement is pre-defined for each user. Because of the QoS requirement, it is first necessary to determine whether the considered energy-efficiency (EE) maximization problem is feasible or not, by comparing the total transmit power with the required power for satisfying the QoS of the users. If feasible, a closed-form solution is provided for the corresponding sum rate maximization problem, and on this basis, the EE maximization problem is solved by applying non-convex fractional programming. Otherwise, a low-complexity user admission scheme is proposed, which admits users one by one following the ascending order of the required power for satisfying the QoS. Numerical results are presented to validate the effectiveness of the proposed energy-efficient PA strategy and user admission scheme.\\n']"
      ]
     },
     "execution_count": 6,
     "metadata": {},
     "output_type": "execute_result"
    }
   ],
   "source": [
    "data[169]"
   ]
  },
  {
   "cell_type": "code",
   "execution_count": null,
   "metadata": {},
   "outputs": [],
   "source": []
  }
 ],
 "metadata": {
  "kernelspec": {
   "display_name": "venv310",
   "language": "python",
   "name": "python3"
  },
  "language_info": {
   "codemirror_mode": {
    "name": "ipython",
    "version": 3
   },
   "file_extension": ".py",
   "mimetype": "text/x-python",
   "name": "python",
   "nbconvert_exporter": "python",
   "pygments_lexer": "ipython3",
   "version": "3.10.14"
  }
 },
 "nbformat": 4,
 "nbformat_minor": 2
}
