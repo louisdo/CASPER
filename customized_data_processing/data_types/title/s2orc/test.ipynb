{
 "cells": [
  {
   "cell_type": "code",
   "execution_count": 6,
   "metadata": {},
   "outputs": [
    {
     "name": "stderr",
     "output_type": "stream",
     "text": [
      "543703it [00:08, 66727.05it/s]\n"
     ]
    }
   ],
   "source": [
    "from tqdm import tqdm\n",
    "\n",
    "with open('/scratch/lamdo/s2orc/processed/title_abstract_triplets/raw_cs_fullsize.tsv') as f:\n",
    "    data = []\n",
    "    for i, line in enumerate(tqdm(f)):\n",
    "        # if i == 1000: break\n",
    "        splitted_line = line.split(\"\\t\")\n",
    "        data.append(splitted_line)"
   ]
  },
  {
   "cell_type": "code",
   "execution_count": 7,
   "metadata": {},
   "outputs": [
    {
     "data": {
      "text/plain": [
       "['Citation: Moo-Llanes Tropical Medicine and Infectious Disease Comparison of Climate Change Scenarios of Rhipicephalus sanguineus sensu lato (Latreille 1806) from México and the Boarders with Central America and the United States',\n",
       " 'In America, the presence of Rhipicephalus sanguineus sensu stricto and Rhipicephalus linnaei has been confirmed. Both species are found in sympatry in the southern United States, northern Mexico, southern Brazil, and Argentina. The objective of this work is to evaluate the projection of the potential distribution of the ecological niche of Rhipicephalus sanguineus sensu lato in two climate change scenarios in Mexico and the border with Central America and the United States. Initially, a database of personal collections of the authors, GBIF, Institute of Epidemiological Diagnosis and Reference, and scientific articles was built. The ENMs were projected for the current period and two future scenarios: RCP and SSP used for the kuenm R package, the ecological niche of R. sanguineus s.l. It is distributed throughout the Mexico and Texas (United States), along with the border areas between Central America, Mexico, and the United States. Finally, it is observed that the ecological niche of R. sanguineus s.l. in the current period coincides in three degrees with the routes of human migration. Based on this information, and mainly on the flow of migrants from Central America to the United States, the risk of a greater gene flow in this area increases, so the risk relating to this border is a latent point that must be analyzed.',\n",
       " 'Phylogeography of Rhipicephalus sanguineus sensu lato and its relationships with climatic factors. \\n']"
      ]
     },
     "execution_count": 7,
     "metadata": {},
     "output_type": "execute_result"
    }
   ],
   "source": [
    "data[169]"
   ]
  },
  {
   "cell_type": "code",
   "execution_count": 3,
   "metadata": {},
   "outputs": [
    {
     "name": "stderr",
     "output_type": "stream",
     "text": [
      "711716it [00:02, 263500.16it/s]\n"
     ]
    }
   ],
   "source": [
    "from tqdm import tqdm\n",
    "\n",
    "with open(\"/scratch/lamdo/s2orc/processed/title_abstract_triplets/triplets_intermediate.tsv\") as f:\n",
    "    for line in tqdm(f):\n",
    "        continue"
   ]
  },
  {
   "cell_type": "code",
   "execution_count": 4,
   "metadata": {},
   "outputs": [
    {
     "data": {
      "text/plain": [
       "[\"Physicians' perspectives on Extreme Risk Protection Orders (ERPOs) in the clinical setting: Challenges and opportunities for gun violence prevention\",\n",
       " \"BackgroundFirearm-related injuries remain a heavy public health and clinical burden in the United States. Extreme Risk Protection Order (ERPO) laws, which create a path through a civil court process to temporarily remove firearms from individuals deemed to be at risk of harming themselves or others and are one strategy designed to reduce firearm violence. Maryland was the first state to authorize clinicians as ERPO petitioners.ObjectiveWe aim to document a sample of Maryland physicians' perspectives about the utility of, any barriers to, and other thoughts on clinicians as ERPO petitioners.DesignA series of semi-structured interviews with Maryland physicians identified through a combination of purposive and snowball sampling. We coded the transcribed interviews and analyzed the coded transcripts for themes using deductive content analysis.Setting/Participants13 Maryland-based physicians interviewed over Zoom in and around Baltimore City, Maryland.ResultsThe interviewees had overall positive feedback about ERPO as a gun violence prevention tool in the clinical setting. They identified several barriers to effective implementation such as time spent on paperwork and in court, a lack of awareness among clinicians about ERPO, threats to therapeutic alliance, and a sense of futility in a culture where firearms are PLOS ONE PLOS ONE | https://doi.\",\n",
       " '226255647\\n']"
      ]
     },
     "execution_count": 4,
     "metadata": {},
     "output_type": "execute_result"
    }
   ],
   "source": [
    "line.split(\"\\t\")"
   ]
  },
  {
   "cell_type": "code",
   "execution_count": null,
   "metadata": {},
   "outputs": [],
   "source": []
  }
 ],
 "metadata": {
  "kernelspec": {
   "display_name": "venv310",
   "language": "python",
   "name": "python3"
  },
  "language_info": {
   "codemirror_mode": {
    "name": "ipython",
    "version": 3
   },
   "file_extension": ".py",
   "mimetype": "text/x-python",
   "name": "python",
   "nbconvert_exporter": "python",
   "pygments_lexer": "ipython3",
   "version": "3.10.14"
  }
 },
 "nbformat": 4,
 "nbformat_minor": 2
}
