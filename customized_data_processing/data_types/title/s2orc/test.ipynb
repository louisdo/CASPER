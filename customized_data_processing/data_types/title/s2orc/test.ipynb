{
 "cells": [
  {
   "cell_type": "code",
   "execution_count": 11,
   "metadata": {},
   "outputs": [],
   "source": [
    "with open('/scratch/lamdo/s2orc/processed/title_abstract_triplets/raw.tsv') as f:\n",
    "    data = []\n",
    "    for i, line in enumerate(f):\n",
    "        if i == 1000: break\n",
    "        splitted_line = line.split(\"\\t\")\n",
    "        data.append(splitted_line)"
   ]
  },
  {
   "cell_type": "code",
   "execution_count": 13,
   "metadata": {},
   "outputs": [
    {
     "data": {
      "text/plain": [
       "['The first report of human illness associated with the Panola Mountain Ehrlichia species: a case report',\n",
       " 'Introduction: Two species of Ehrlichia are known to cause human illness. Several other species have been discovered in ticks and animals, and recent reports suggest that some of these Ehrlichia species might be human pathogens. We report here the first association of a recently discovered pathogen, the Panola Mountain Ehrlichia species, with a case of human illness.',\n",
       " 'Ehrlichiosis: Making the Diagnosis in the Acute Setting. Human monocytic ehrlichiosis (HME) is a tick-borne disease transmitted during the summer months in the mid-Atlantic, southeastern and south-central United States. A large proportion of patients presenting with ehrlichiosis must be hospitalized because of the severity of their presenting signs, symptoms and lab abnormalities. We report a case of HME presenting with negative serologies and positive DNA PCR for Ehrlichia chaffeensis during the acute illness. The patient was empirically treated with doxycycline before the availability of diagnostic test results and had a rapid recovery. This report summarizes the common findings of ehrlichiosis on presentation, diagnostic strategies, and treatment options. This case emphasizes the importance of considering tick-borne diseases in the differential diagnosis for patients presenting with nonspecific febrile syndromes in endemic areas and using the clinical scenario to determine whether empiric treatment for a tick-borne disease is necessary. Delaying treatment while awaiting confirmatory tests is unnecessary, and may result in a less favorable patient outcome.\\n']"
      ]
     },
     "execution_count": 13,
     "metadata": {},
     "output_type": "execute_result"
    }
   ],
   "source": [
    "data[125]"
   ]
  },
  {
   "cell_type": "code",
   "execution_count": null,
   "metadata": {},
   "outputs": [],
   "source": []
  }
 ],
 "metadata": {
  "kernelspec": {
   "display_name": "venv310",
   "language": "python",
   "name": "python3"
  },
  "language_info": {
   "codemirror_mode": {
    "name": "ipython",
    "version": 3
   },
   "file_extension": ".py",
   "mimetype": "text/x-python",
   "name": "python",
   "nbconvert_exporter": "python",
   "pygments_lexer": "ipython3",
   "version": "3.10.14"
  }
 },
 "nbformat": 4,
 "nbformat_minor": 2
}
