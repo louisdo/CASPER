{
 "cells": [
  {
   "cell_type": "code",
   "execution_count": 4,
   "metadata": {},
   "outputs": [],
   "source": [
    "with open('/scratch/lamdo/s2orc/processed/query_triplets/raw_cs.tsv') as f:\n",
    "    data = []\n",
    "    for i, line in enumerate(f):\n",
    "        if i == 1000: break\n",
    "        splitted_line = line.split(\"\\t\")\n",
    "        data.append(splitted_line)"
   ]
  },
  {
   "cell_type": "code",
   "execution_count": 6,
   "metadata": {},
   "outputs": [
    {
     "data": {
      "text/plain": [
       "['Effect of blade shape and rotor speed of rotavator on pulverization and mixing quality of soil',\n",
       " 'effect of blade shape and rotor speed of rotavator on pulverization and mixing quality of soil. a study was conducted to evaluate the performance of commercially available rotavator blade shapes (l, c and j) at different rotor speed (180, 215 and 250 rpm) in clay loam soil to find out the best combination of blade shape and rotary speed. these treatment combinations were compared with control (pulverization with single pass of disc harrow followed by single pass of cultivator) j shape blades gave minimum pulverization index and maximum mixing index (8.57 mm and 93.48% respectively) at 250 rpm rotor speed as compared to c (9.84 mm and 92.24% respectively) and l (10.18 mm and 90.11% respectively) shaped blades and control (15.36 mm) the average fuel consumption was maximum for j shape blades followed by l and c shape blades respectively for both pulverization and mixing operation. c shape blades had minimum fuel consumption as compared to other two blade shapes for pulverization and mixing operation respectively. based on quality of tilth, j shape blade at 250 rpm rotor speed can be considered as the best combination for pulverization and c shape blade for mixing as it consumes lesser energy (15.3%',\n",
       " 'numerical prediction of the notch effect of riblets on axial compressor blades. riblet structured surfaces can reduce the aerodynamic drag of bodies, which are immersed in fluid flows. a future application of these microscopic grooves with dimensions below 100 mm on axial compressor blades could increase the compressor efficiency and could reduce the fuel consumption and co2 emissions of aircraft engines. in order to reduce the aerodynamic wall shear stress, riblets are aligned with the flow direction. in the case of an axial compressor rotor blade, this means that the riblets are also oriented perpendicular to the radial direction of the centrifugal blade load. thus, the negative consequence from riblet structuring of an axial compressor rotor blade is a local stress increase by a notch factor between 1.5 and 14.0. for the example of an axial compressor rotor blade rotating at a speed of 18,000 rpm, this means, that if static strength requirements must be met, and the blade material does not have any blade internal residual stresses like in the case of trapezoidal riblet manufactured by contact free laser ablation only the upper 20% of the blade span can be structured wit riblets. introduction in response to an increasing global air traffic, the advisory council for aeronautics research in europe (acare) published ambitious goals: co2 emissions of aircraft engines should be reduced by 75% nox emissions by 90% and noise has to be cut by 65% until 2050 with respect to the emission levels of the year 2000 (european commission, 2011) in order to achieve these goals, secondary flows in the axial compressor have to be reduced, which contribute up to 50% to the total aerodynamic loss in an aircraft engine gas turbine (gummer, 2000) the remaining pressure loss due to secondary flows can be reduced by active and passive measures. when reducing the amount of secondary flows, it is expected that the share of the profile loss in the total loss will increase simultaneously (lietmeyer, 2013) the profile loss, which in a subsonic flow is a combination of friction loss and wake mixing loss, results from the boundary layer, which develops in the stream wise direction along the blade surface. a process, to reduce the boundary layer friction must act nearest to the blade surface in the region of highest flow gradients. in this area, the turbulent boundary layer consists of coherent vortex structures. these coherent eddies form complex flow structures, which meander over the surface. aerodynamicists have generally focused on the promising aerodynamic stress reduction capabilities of riblets when introducing riblets to future turbomachinery designs. nevertheless, these small grooves are oriented perpendicular to the main loading direction. this raises serious questions about the stress increasing notch effect of riblets, and the design evaluation of a riblet structured compressor blade in terms of the aerodynamic benefits on the one hand, and the risk of losing the highly valuable blade on the other hand. for reasons of operational safety, the notch effect of riblets on highly loaded axial compressor blades has to be quantified and balanced against the aerodynamic effect. with the aim of evaluating the riblet potential for aerodynamic improvements in a multistage high speed axial compressor, the authors had to quantify the riblet notch effect on a purely numerical level in order to meet safety requirements prior to experimental test runs. this paper presents their attempt to numerically predict the stress increasing notch effect of riblets on axial compressor blades with the help of the finite element analysis (fea) for this reason, virtual tensile stress tests on grooved material samples from titanium alloy ti6al4v and aluminium alloy en aw 7075 are conducted to build a database of stress concentration factors for various riblet configurations. with this database, relationships are established between the riblet shape and dimensions and the predicted stress concentration\\n']"
      ]
     },
     "execution_count": 6,
     "metadata": {},
     "output_type": "execute_result"
    }
   ],
   "source": [
    "data[142]"
   ]
  },
  {
   "cell_type": "code",
   "execution_count": null,
   "metadata": {},
   "outputs": [],
   "source": []
  }
 ],
 "metadata": {
  "kernelspec": {
   "display_name": "venv310",
   "language": "python",
   "name": "python3"
  },
  "language_info": {
   "codemirror_mode": {
    "name": "ipython",
    "version": 3
   },
   "file_extension": ".py",
   "mimetype": "text/x-python",
   "name": "python",
   "nbconvert_exporter": "python",
   "pygments_lexer": "ipython3",
   "version": "3.10.14"
  }
 },
 "nbformat": 4,
 "nbformat_minor": 2
}
