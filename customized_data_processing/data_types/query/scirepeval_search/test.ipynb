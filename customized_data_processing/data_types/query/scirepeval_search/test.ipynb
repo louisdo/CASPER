{
 "cells": [
  {
   "cell_type": "code",
   "execution_count": 1,
   "metadata": {},
   "outputs": [],
   "source": [
    "with open('/scratch/lamdo/s2orc/processed/query_triplets/raw.tsv') as f:\n",
    "    data = []\n",
    "    for i, line in enumerate(f):\n",
    "        if i == 1000: break\n",
    "        splitted_line = line.split(\"\\t\")\n",
    "        data.append(splitted_line)"
   ]
  },
  {
   "cell_type": "code",
   "execution_count": 5,
   "metadata": {},
   "outputs": [
    {
     "data": {
      "text/plain": [
       "['online learning and academic performance philippines',\n",
       " 'collaborative teaching learning engagement program of the secondary curriculum in the new normal. a significant factor in building a strong foundation of an educational system to ensure quality education is faculty development program. this research was directed to golden success college, incorporated (gsci) philippines during the academic year 2020 2021. data were gathered thru the use of online questionnaires with 150 respondent students and 40 respondent teachers from gsci, cebu city and gsci, metro manila, a total of 190 respondents. the data gathered were analyzed using descriptive statistical analysis and multiple linear regression. findings showed that most students got a satisfactory academic performance. grade 12 has more number of students as compared to grade levels 7 to 11. there are more college graduates in terms of the teachers\\' highest educational attainment. most of the teachers took english as their chosen field of specialization and had between one (1) to ten years teaching experience/service. a number of teacher respondents belong to salary scale php 10,000 to php 15, 000 and 25 or 62.5 percent of the teacherrespondents had attended relevant trainings/seminars. in sum, teacher\\'s performance level using the academic professional standards such as competency, professionalism, efficiency, character/discipline, and task output. is described as very good the null hypothesis of no significant relationship between the identified profile and performance level of the respondentteachers is rejected. lack of faculty development program and professional development were only one of those challenges/barriers that affect the teachers\\' performance level. based on the findings, it is therefore recommended to the concerned school administrator/officials of gsci, philippines that collaborative teaching learning engagement program of the secondary curriculum in the new normal be implemented to continue/maintain the teachers\\' performance as part of the faculty development continuing plan to meet the mission and vision of the institution. keyword: development education; collaborative teaching learning engagement program of the secondary curriculum in the new normal; quantitative descriptive survey method, cebu, philippines how to cite this paper: ellaine i. nazareth emily c. rosal rebecca dc manalastas perla n. tenerife nolasco k. malabago marilyn m. miranda \"collaborative teaching learning engagement program of the secondary curriculum in the new normal\" published in international journal of trend in scientific research and development (ijtsrd) issn: 2456 6470, volume 5 issue 1, december 2020, pp.1236 1259, url: www.ijtsrd.com/papers/ijtsrd38180.pdf copyright (c) 2020 by author (s) and international journal of trend in scientific research and development journal. this is an open access article distributed under the terms of the creative commons attribution license (cc by 4.0) (http:/creativecommons.org/licenses/by/4.0) 1. the problem and its research design introduction rationale strategies to enhance teaching have been influenced by the prevailing theories of learning and search for instruction over the previous three decades. research on these strategies suggests that workshops and students\\' ratings of education, coupled with sessions and intensive fellowships, are excellent techniques for altering teachers\\' actions. development and coaching is a non stop and systematic process. the approach of education is to provide each trainer the knowledge of professionalism, excellence, motivation, and learners satisfaction. (kamel, 2016) faculty members needs to be adequately equipped to cope with the rapid changes and changing paradigms in clinical education, exercise treatment shipping systems, and clinical practice through some form of faculty development program (fdp) trainings is routinely reduced to teachers without such experience, imparting their understanding of the issue by one way lecturing. over the previous five decades, things to do for college enhancement have grown and gradually increased in focus. in the first half of the 20th century, there were intermittent attempts to provide such instruction, but reals fdps began in 1975 and have steadily evolved over the past 25 years. gaff conceptualized the improvement of the faculty in higher education in 1975. these items to do helps teachers\\' development in their teaching skills, extend curricula in the ijtsrd38180 international journal of trend in scientific research and development (ijtsrd) www.ijtsrd.com eissn: 2456 6470 ijtsrd unique paper id ijtsrd38180 volume 5 issue 1 november december 2020 page 1237 diagram, and strengthen the organizational, local education environment. in addition, stritter mentioned setting up consultations for men and women on teaching skills, curriculum design, and academic collaborative research. the structure and purpose of lancaster (2014) faculty teaching development programs differ, and there are many choices to consider. the most excellent choice would rely on possible situational factors: financial support, human capital for example personal support, school times, campus resources such as multiple faculty improvement projects inside the university, inside grants, and nearby know how as to school or community of personnel with an interest or related background) there is no best, one size fits all model: all have their blessings and pitfalls, since school teaching development efforts are relational. this vast range of types of software makes it impossible to decide whether school progress is good or not. in one study, medical school instructing enhancement applications appeared to have implications as assessed by the self evaluation of educational ability of participants, comprehension of high quality methods of education, and performing tests. the faculty of golden success college, incorporated, philippines needs more faculty development programs on how the school can help students at the present times, to provide additional knowledge and tools for further improvement. this study evaluates the performance level of the faculty of golden success college, incorporated (gsci) philippines in terms of academic professional standards competency, professionalism, effectiveness and character/discipline, and output in providing the necessary learning, skills, and values to the students. the faculty of gsci, philippines is assured of knowledge and learning on various pedagogies for the best interest of the students. the faculty development program builds good camaraderie among peers as it involves personality development. there is a need for more significant state of the art techniques with the capacity to meet these statistics requirements. in the now not too far off past, when many expert development courses placed instructors in the role of an audience, questionnaires disbursed at the door as instructors left sufficed. specialist enhancement techniques have now grown to be even more fantastic, long lasting, nuanced, and ingrained in schools. in addition, significant cash can also be allocated to educational school based staff developers, for example, and provided with time release, growing curriculum guide materials, time release, and online learning. this research is based on national and international journalism, conceptual studies, hypothesis and systematic classification of types for better understanding of faculty development. as to how the golden success college, incorporated, philippines addresses the deficiency to prepare its faculty to meet the necessary attributes, i. e. using the following academic professional standards competency, professionalism, effectiveness, character/discipline, and task output, is the subject of this research. with the support of the concerned school officials and students, this undertaking would not be futile. this research is therefore essential. theoretical background across the fields of science, technology, engineering, and mathematics the availability of credible evidence for instructional practices after professional advancement is limited, making it difficult to define \"best practices\" and positive models for expert growth (diane ebert may, 2015) after completion of a 2 year expert improvement program, one sought to assess the degree to which postdoctoral fellows (i.e. future biology faculty) believed in and implemented evidence based pedagogies. faculty institutes for reforming science teaching (first iv) a 2 year education program was attended by postdocs(pds) all of which carried out self report reviews of their views about education and gains in pedagogical knowledge and experience, and provided copies of classification test and video recording of their teaching. compared to teachercentered techniques, the pds reported that learner centered use was more comprehensive. the findings of expert evaluations of teaching videos have been consistent with these records. despite the practice of higher level cognition in shape sessions, the items used in their learning tests using the pds concentrated on lower level cognitive skills. they concentrate on initiatives for faculty growth aimed at enhancing teaching performance, synthesized findings related to styles of intervention, characteristics of research, individuals and organizational results, key features and community building (yvonne steinert, 2016) participants noted widespread confidence, enthusiasm, and understanding of successful academic practices. gains in awareness and skills, and self reported improvements in behavioral education, have been regularly observed. improved teaching approaches, new academic programs, new leadership roles, and multiple instructional output were protected by observed behavior changes. evidence informed curriculum design, relevant content, experiential learning, input and reflection, educational initiatives, deliberate community building, longitudinal program design, and institutional support were key features. figure 1 theoretical framework international journa',\n",
       " 'preliminary evidence of a relationship between the use of online learning and academic performance in a south african first year university accounting course. abstract this article examines the relationship between the use of online learning resources and academic performance in an accounting 1 course conducted at a south african higher education institution. the study employed a quantitative analysis over three academic years comparing the collection of end of year marks and the time spent online. the results provide preliminary empirical evidence to show that students who spent more time online significantly improved their course mark. although much accounting based educational research exists on the use of computers, there is a dearth of research testing any relationship between the use of online learning material and performance, and particularly in accounting education. while the results are preliminary and have some limitations, they are useful to students, teaching instructors and administrators, and provide a platform for future research into the value of using online learning in accounting.\\n']"
      ]
     },
     "execution_count": 5,
     "metadata": {},
     "output_type": "execute_result"
    }
   ],
   "source": [
    "data[140]"
   ]
  },
  {
   "cell_type": "code",
   "execution_count": null,
   "metadata": {},
   "outputs": [],
   "source": []
  }
 ],
 "metadata": {
  "kernelspec": {
   "display_name": "venv310",
   "language": "python",
   "name": "python3"
  },
  "language_info": {
   "codemirror_mode": {
    "name": "ipython",
    "version": 3
   },
   "file_extension": ".py",
   "mimetype": "text/x-python",
   "name": "python",
   "nbconvert_exporter": "python",
   "pygments_lexer": "ipython3",
   "version": "3.10.14"
  }
 },
 "nbformat": 4,
 "nbformat_minor": 2
}
