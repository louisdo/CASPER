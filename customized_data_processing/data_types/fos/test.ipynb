{
 "cells": [
  {
   "cell_type": "code",
   "execution_count": null,
   "metadata": {},
   "outputs": [],
   "source": []
  },
  {
   "cell_type": "code",
   "execution_count": 2,
   "metadata": {},
   "outputs": [],
   "source": [
    "with open(\"/scratch/lamdo/phrase_splade_datasets/fos/raw.tsv\") as f:\n",
    "    error_count = 0\n",
    "    data = []\n",
    "    for i, line in enumerate(f):\n",
    "        if i ==100: break\n",
    "        splitted_line = line.split(\"\\t\")\n",
    "        if len(splitted_line) < 3: \n",
    "            error_count += 1\n",
    "            continue\n",
    "        \n",
    "        data.append(splitted_line)"
   ]
  },
  {
   "cell_type": "code",
   "execution_count": 3,
   "metadata": {},
   "outputs": [
    {
     "data": {
      "text/plain": [
       "['biology',\n",
       " 'effects of solute on growth and intracellular salt concentration of pediococcus halophilus ccrc 12884 isolated from inyu mash. optimal growth conditions for pediococcus halophilus ccrc 12884, a halophilic strain of lactic acid bacterium isolated from inyu (black bean sauce) mash, were mrs broth with 10% nacl and 35 degrees c of incubation temperature. the nacl in media could not be replaced by sucrose or glycerol of same concentrations, and under certain osmolarity, growth of p. halophilus ccrc 12884 only in nacl was better than that in nacl plus sucrose or glycerol. to determine effects of monovalent and divalent ions on p. halophilus ccrc 12884, it was found that close relations were present among na+, k+ and po4(-3). the intracellular concentration of na+ in p. halophilus ccrc 12884 was not correspondent to its extracellular concentration of nacl, but intracellular k+ and quaternary ammonium compounds significantly increased as extracellular nacl increased. adding 0-3.5 mm betaine to media with different contents of nacl would not affect the growth of this halophilic bacterium. on feeding 14c-ethanolamine to the bacterium, no intracellular 14c-betaine was synthesized.',\n",
       " 'static analysis of gantry crane—preliminary study. the article deals with the static analysis of truss structures, focused on the specification of maximum load applied at the gantry crane. due to the verification of authors’ computer skills in software robot structural analysis, the simple planar truss structure was investigated at which also analytical method was used. the results were comparable, so the gantry crane as 3d truss could be preliminary studied. the first strain analysis of crane has shown that the primary design of the structure was not acceptable and the construction would not be able sustain nor own hoist. therefore, the truss was reinforced by additional bars and new remodelled gantry crane could be tested to specify the maximum load of external weight.\\n']"
      ]
     },
     "execution_count": 3,
     "metadata": {},
     "output_type": "execute_result"
    }
   ],
   "source": [
    "data[4]"
   ]
  },
  {
   "cell_type": "code",
   "execution_count": null,
   "metadata": {},
   "outputs": [],
   "source": []
  }
 ],
 "metadata": {
  "kernelspec": {
   "display_name": "venv310",
   "language": "python",
   "name": "python3"
  },
  "language_info": {
   "codemirror_mode": {
    "name": "ipython",
    "version": 3
   },
   "file_extension": ".py",
   "mimetype": "text/x-python",
   "name": "python",
   "nbconvert_exporter": "python",
   "pygments_lexer": "ipython3",
   "version": "3.10.14"
  }
 },
 "nbformat": 4,
 "nbformat_minor": 2
}
