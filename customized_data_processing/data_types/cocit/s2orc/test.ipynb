{
 "cells": [
  {
   "cell_type": "code",
   "execution_count": 1,
   "metadata": {},
   "outputs": [],
   "source": [
    "import json"
   ]
  },
  {
   "cell_type": "code",
   "execution_count": 3,
   "metadata": {},
   "outputs": [
    {
     "name": "stdout",
     "output_type": "stream",
     "text": [
      "{\"paperId\": \"40e7683b51dc0dbbf69578974d7fbbfac31000ce\", \"title\": \"Rice endophyte Pantoea agglomerans YS19 promotes host plant growth and affects allocations of host photosynthates\", \"abstract\": \"Aims:\\u2002 The aims of the study were to identify the effects of rice endophyte Pantoea agglomerans YS19 on host plant growth and allocations of photosynthates.\", \"openAccessPdf\": {\"url\": \"https://doi.org/10.1111/j.1365-2672.2006.02843.x\", \"status\": \"CLOSED\", \"license\": null, \"disclaimer\": \"Notice: This abstract is extracted from the open access paper or abstract available at https://api.unpaywall.org/v2/10.1111/j.1365-2672.2006.02843.x?email=<INSERT_YOUR_EMAIL> or https://doi.org/10.1111/j.1365-2672.2006.02843.x, which is subject to the license by the author or copyright owner provided with this content. Please go to the source to verify the license and copyright information for your use.\"}, \"authors\": [{\"authorId\": \"2247990170\", \"name\": \"Yongjun Feng\"}, {\"authorId\": \"2247990170\", \"name\": \"Yongjun Feng\"}, {\"authorId\": \"6750578\", \"name\": \"D. Shen\"}, {\"authorId\": \"2107483947\", \"name\": \"W. Song\"}], \"corpusId\": 33554432}\n",
      "\n"
     ]
    }
   ],
   "source": [
    "with open(\"/scratch/lvnguyen/splade_keyphrases_expansion/dataset/s2orc_papers_metadata.jsonl\") as f:\n",
    "    for line in f:\n",
    "        print(line)\n",
    "        break"
   ]
  },
  {
   "cell_type": "code",
   "execution_count": 4,
   "metadata": {},
   "outputs": [
    {
     "data": {
      "text/plain": [
       "{'paperId': '40e7683b51dc0dbbf69578974d7fbbfac31000ce',\n",
       " 'title': 'Rice endophyte Pantoea agglomerans YS19 promotes host plant growth and affects allocations of host photosynthates',\n",
       " 'abstract': 'Aims:\\u2002 The aims of the study were to identify the effects of rice endophyte Pantoea agglomerans YS19 on host plant growth and allocations of photosynthates.',\n",
       " 'openAccessPdf': {'url': 'https://doi.org/10.1111/j.1365-2672.2006.02843.x',\n",
       "  'status': 'CLOSED',\n",
       "  'license': None,\n",
       "  'disclaimer': 'Notice: This abstract is extracted from the open access paper or abstract available at https://api.unpaywall.org/v2/10.1111/j.1365-2672.2006.02843.x?email=<INSERT_YOUR_EMAIL> or https://doi.org/10.1111/j.1365-2672.2006.02843.x, which is subject to the license by the author or copyright owner provided with this content. Please go to the source to verify the license and copyright information for your use.'},\n",
       " 'authors': [{'authorId': '2247990170', 'name': 'Yongjun Feng'},\n",
       "  {'authorId': '2247990170', 'name': 'Yongjun Feng'},\n",
       "  {'authorId': '6750578', 'name': 'D. Shen'},\n",
       "  {'authorId': '2107483947', 'name': 'W. Song'}],\n",
       " 'corpusId': 33554432}"
      ]
     },
     "execution_count": 4,
     "metadata": {},
     "output_type": "execute_result"
    }
   ],
   "source": [
    "json.loads(line)"
   ]
  },
  {
   "cell_type": "code",
   "execution_count": 12,
   "metadata": {},
   "outputs": [],
   "source": [
    "with open(\"/scratch/lamdo/s2orc/processed/cocit_triplets/triplets_intermediate.tsv\") as f:\n",
    "    data = []\n",
    "    for i, line in enumerate(f):\n",
    "        if i == 1000: break\n",
    "        splitted_line = line.strip().split(\"\\t\")\n",
    "        data.append(splitted_line)"
   ]
  },
  {
   "cell_type": "code",
   "execution_count": 16,
   "metadata": {},
   "outputs": [
    {
     "data": {
      "text/plain": [
       "['39248490', '28651871', '22913834']"
      ]
     },
     "execution_count": 16,
     "metadata": {},
     "output_type": "execute_result"
    }
   ],
   "source": [
    "data[4]"
   ]
  },
  {
   "cell_type": "code",
   "execution_count": 1,
   "metadata": {},
   "outputs": [],
   "source": [
    "with open(\"/scratch/lamdo/s2orc/processed/cocit_triplets/raw.tsv\") as f:\n",
    "    data = []\n",
    "    for i, line in enumerate(f):\n",
    "        if i == 1000: break\n",
    "        splitted_line = line.strip().split(\"\\t\")\n",
    "        data.append(splitted_line)"
   ]
  },
  {
   "cell_type": "code",
   "execution_count": 2,
   "metadata": {},
   "outputs": [
    {
     "data": {
      "text/plain": [
       "3"
      ]
     },
     "execution_count": 2,
     "metadata": {},
     "output_type": "execute_result"
    }
   ],
   "source": [
    "len(data[2])"
   ]
  },
  {
   "cell_type": "code",
   "execution_count": 4,
   "metadata": {},
   "outputs": [
    {
     "data": {
      "text/plain": [
       "['Early Detection of Sporadic Pancreatic Ductal Adenocarcinoma: Problems, Promise, and Prospects',\n",
       " 'Worldwide Burden of, Risk Factors for, and Trends in Pancreatic Cancer. BACKGROUND & AIMS We evaluated global and regional burdens of, risk factors for, and epidemiologic trends in pancreatic cancer among groups of different sexes and ages.   METHODS We used data from the GLOBOCAN database to estimate pancreatic cancer incidence and mortality in 184 countries. We examined the association between lifestyle and metabolic risk factors, extracted from the World Health Organization Global Health Observatory database, and pancreatic cancer incidence and mortality by univariable and multivariable linear regression. We retrieved country-specific on age-standardized rates (ASRs) of incidence and mortalities from cancer registries from 48 countries through 2017 for trend analysis by joinpoint regression analysis.   RESULTS The highest incidence and mortality of pancreatic cancer were in regions with very high (ASRs, 7.7 and 4.9) and high HDIs (ASRs, 6.9 and 4.6) in 2018. Countries with higher incidence and mortality were more likely to have higher prevalence of smoking, alcohol drinking, physical inactivity, obesity, hypertension, and high cholesterol. From 2008 to 2017, 2007 to 2016, or 2003 to 2012, depending on the availability of the data, there were increases in incidence among men and women in 14 (average annual percent changes [AAPCs], 8.85 to 0.41) and 17 (AAPCs, 6.04 to 0.87) countries, respectively. For mortality, the increase was observed in eight (AAPCs, 4.20 to 0.55) countries among men and 14 (AAPCs, 5.83 to 0.78) countries among women. While the incidence increased in 18 countries (AAPCs, 7.83 to 0.91) among individuals 50 years or older, an increasing trend in pancreatic cancer was also identified among individuals younger than 50 years and 40 years in eight (AAPCs, 8.75 to 2.82) and four (AAPCs, 11.07 to 8.31) countries, respectively.   CONCLUSIONS In an analysis of data from 48 countries, we found increasing incidence and mortality trends in pancreatic cancer, especially among women and populations 50 years or older, but also among younger individuals. More preventive efforts are recommended for these populations.',\n",
       " 'TRIM29 facilitates the epithelial-to-mesenchymal transition and the progression of colorectal cancer via the activation of the Wnt/β-catenin signaling pathway. Tripartite Motif 29 (TRIM29) has been newly identified as being implicated in cancer progression. However, the biological role and molecular mechanism of TRIM29 in the invasion and metastasis of colorectal cancer (CRC) remain to be determined. The expression levels of TRIM29 and β-catenin in CRC patient specimens were detected by immunohistochemistry. Recombinant lentivirus vectors containing the TRIM29 gene and its small hairpin interfering RNAs were constructed and transduced into CRC cells. Wound-healing and Transwell assays were performed to evaluate the migration and invasion abilities of CRC cells in vitro. Hepatic metastasis models in nude mice were established to validate the function of TRIM29 in vivo. Moreover, the expressions of epithelial-to-mesenchymal transition (EMT)-associated proteins were detected by qRT-PCR and Western blotting in CRC cells. Finally, Western blotting, qRT-PCR, luciferase reporter assays, and immunofluorescence assays were used to explore the molecular mechanisms of TRIM29 in CRC progression. Increased TRIM29 expression positively correlated with lymph node metastasis and β-catenin expression in patient CRC tissues. Overexpression of TRIM29 promoted invasion and metastasis of CRC cells in vitro and in vivo by regulating EMT, whereas the knockdown of TRIM29 had the opposite effect. Further mechanistic studies suggest that TRIM29 can activate the Wnt/β-catenin signaling pathway via up-regulating CD44 expression in colorectal cancer. TRIM29 induces EMT through activating the Wnt/β-catenin signaling pathway via up-regulating CD44 expression, thus promoting invasion and metastasis of CRC.']"
      ]
     },
     "execution_count": 4,
     "metadata": {},
     "output_type": "execute_result"
    }
   ],
   "source": [
    "data[1]"
   ]
  },
  {
   "cell_type": "code",
   "execution_count": null,
   "metadata": {},
   "outputs": [],
   "source": []
  }
 ],
 "metadata": {
  "kernelspec": {
   "display_name": "venv310",
   "language": "python",
   "name": "python3"
  },
  "language_info": {
   "codemirror_mode": {
    "name": "ipython",
    "version": 3
   },
   "file_extension": ".py",
   "mimetype": "text/x-python",
   "name": "python",
   "nbconvert_exporter": "python",
   "pygments_lexer": "ipython3",
   "version": "3.10.14"
  }
 },
 "nbformat": 4,
 "nbformat_minor": 2
}
