{
 "cells": [
  {
   "cell_type": "code",
   "execution_count": 2,
   "metadata": {},
   "outputs": [],
   "source": [
    "import json\n",
    "from tqdm import tqdm"
   ]
  },
  {
   "cell_type": "code",
   "execution_count": 3,
   "metadata": {},
   "outputs": [
    {
     "name": "stdout",
     "output_type": "stream",
     "text": [
      "{\"paperId\": \"40e7683b51dc0dbbf69578974d7fbbfac31000ce\", \"title\": \"Rice endophyte Pantoea agglomerans YS19 promotes host plant growth and affects allocations of host photosynthates\", \"abstract\": \"Aims:\\u2002 The aims of the study were to identify the effects of rice endophyte Pantoea agglomerans YS19 on host plant growth and allocations of photosynthates.\", \"openAccessPdf\": {\"url\": \"https://doi.org/10.1111/j.1365-2672.2006.02843.x\", \"status\": \"CLOSED\", \"license\": null, \"disclaimer\": \"Notice: This abstract is extracted from the open access paper or abstract available at https://api.unpaywall.org/v2/10.1111/j.1365-2672.2006.02843.x?email=<INSERT_YOUR_EMAIL> or https://doi.org/10.1111/j.1365-2672.2006.02843.x, which is subject to the license by the author or copyright owner provided with this content. Please go to the source to verify the license and copyright information for your use.\"}, \"authors\": [{\"authorId\": \"2247990170\", \"name\": \"Yongjun Feng\"}, {\"authorId\": \"2247990170\", \"name\": \"Yongjun Feng\"}, {\"authorId\": \"6750578\", \"name\": \"D. Shen\"}, {\"authorId\": \"2107483947\", \"name\": \"W. Song\"}], \"corpusId\": 33554432}\n",
      "\n"
     ]
    }
   ],
   "source": [
    "with open(\"/scratch/lvnguyen/splade_keyphrases_expansion/dataset/s2orc_papers_metadata.jsonl\") as f:\n",
    "    for line in f:\n",
    "        print(line)\n",
    "        break"
   ]
  },
  {
   "cell_type": "code",
   "execution_count": 4,
   "metadata": {},
   "outputs": [
    {
     "data": {
      "text/plain": [
       "{'paperId': '40e7683b51dc0dbbf69578974d7fbbfac31000ce',\n",
       " 'title': 'Rice endophyte Pantoea agglomerans YS19 promotes host plant growth and affects allocations of host photosynthates',\n",
       " 'abstract': 'Aims:\\u2002 The aims of the study were to identify the effects of rice endophyte Pantoea agglomerans YS19 on host plant growth and allocations of photosynthates.',\n",
       " 'openAccessPdf': {'url': 'https://doi.org/10.1111/j.1365-2672.2006.02843.x',\n",
       "  'status': 'CLOSED',\n",
       "  'license': None,\n",
       "  'disclaimer': 'Notice: This abstract is extracted from the open access paper or abstract available at https://api.unpaywall.org/v2/10.1111/j.1365-2672.2006.02843.x?email=<INSERT_YOUR_EMAIL> or https://doi.org/10.1111/j.1365-2672.2006.02843.x, which is subject to the license by the author or copyright owner provided with this content. Please go to the source to verify the license and copyright information for your use.'},\n",
       " 'authors': [{'authorId': '2247990170', 'name': 'Yongjun Feng'},\n",
       "  {'authorId': '2247990170', 'name': 'Yongjun Feng'},\n",
       "  {'authorId': '6750578', 'name': 'D. Shen'},\n",
       "  {'authorId': '2107483947', 'name': 'W. Song'}],\n",
       " 'corpusId': 33554432}"
      ]
     },
     "execution_count": 4,
     "metadata": {},
     "output_type": "execute_result"
    }
   ],
   "source": [
    "json.loads(line)"
   ]
  },
  {
   "cell_type": "code",
   "execution_count": 11,
   "metadata": {},
   "outputs": [
    {
     "name": "stderr",
     "output_type": "stream",
     "text": [
      "1000it [00:00, 431024.97it/s]\n"
     ]
    }
   ],
   "source": [
    "with open(\"/scratch/lamdo/s2orc/processed/cocit_triplets/triplets_intermediate_cs.tsv\") as f:\n",
    "    data = []\n",
    "    for i, line in enumerate(tqdm(f)):\n",
    "        if i == 1000: break\n",
    "        splitted_line = line.strip().split(\"\\t\")\n",
    "        data.append(splitted_line)"
   ]
  },
  {
   "cell_type": "code",
   "execution_count": 12,
   "metadata": {},
   "outputs": [
    {
     "data": {
      "text/plain": [
       "['222291492', '226679257', '222417449']"
      ]
     },
     "execution_count": 12,
     "metadata": {},
     "output_type": "execute_result"
    }
   ],
   "source": [
    "data[4]"
   ]
  },
  {
   "cell_type": "code",
   "execution_count": 3,
   "metadata": {},
   "outputs": [
    {
     "name": "stderr",
     "output_type": "stream",
     "text": [
      "825111it [00:12, 64848.20it/s]\n"
     ]
    }
   ],
   "source": [
    "with open(\"/scratch/lamdo/s2orc/processed/cocit_triplets/raw.tsv\") as f:\n",
    "    data = []\n",
    "    for i, line in enumerate(tqdm(f)):\n",
    "        # if i == 1000: break\n",
    "        # splitted_line = line.strip().split(\"\\t\")\n",
    "        # data.append(splitted_line)\n",
    "\n",
    "        continue"
   ]
  },
  {
   "cell_type": "code",
   "execution_count": 17,
   "metadata": {},
   "outputs": [
    {
     "data": {
      "text/plain": [
       "3"
      ]
     },
     "execution_count": 17,
     "metadata": {},
     "output_type": "execute_result"
    }
   ],
   "source": [
    "len(data[2])"
   ]
  },
  {
   "cell_type": "code",
   "execution_count": 20,
   "metadata": {},
   "outputs": [
    {
     "data": {
      "text/plain": [
       "['SimCSE: Simple Contrastive Learning of Sentence Embeddings',\n",
       " 'ConSERT: A Contrastive Framework for Self-Supervised Sentence Representation Transfer. Learning high-quality sentence representations benefits a wide range of natural language processing tasks. Though BERT-based pre-trained language models achieve high performance on many downstream tasks, the native derived sentence representations are proved to be collapsed and thus produce a poor performance on the semantic textual similarity (STS) tasks. In this paper, we present ConSERT, a Contrastive Framework for Self-Supervised SEntence Representation Transfer, that adopts contrastive learning to fine-tune BERT in an unsupervised and effective way. By making use of unlabeled texts, ConSERT solves the collapse issue of BERT-derived sentence representations and make them more applicable for downstream tasks. Experiments on STS datasets demonstrate that ConSERT achieves an 8% relative improvement over the previous state-of-the-art, even comparable to the supervised SBERT-NLI. And when further incorporating NLI supervision, we achieve new state-of-the-art performance on STS tasks. Moreover, ConSERT obtains comparable results with only 1000 samples available, showing its robustness in data scarcity scenarios.',\n",
       " 'Elevated neoantigen levels in tumors with somatic mutations in the HLA-A, HLA-B, HLA-C and B2M genes. The major histocompatibility complex class I (MHC-I) molecule is a protein complex that displays intracellular peptides to T cells, allowing the immune system to recognize and destroy infected or cancerous cells. MHC-I is composed of a highly polymorphic HLA-encoded alpha chain that binds the peptide and a Beta-2-microglobulin (B2M) protein that acts as a stabilizing scaffold. HLA mutations have been implicated as a mechanism of immune evasion during tumorigenesis, and B2M is considered a tumor suppressor gene. However, the implications of somatic HLA and B2M mutations have not been fully explored in the context of antigen presentation via the MHC-I molecule during tumor development. To understand the effect that B2M and HLA MHC-I molecule mutations have on mutagenesis, we analyzed the accumulation of mutations in patients from The Cancer Genome Atlas according to their MHC-I molecule mutation status. Somatic B2M and HLA mutations in microsatellite stable tumors were associated with higher overall mutation burden and a larger fraction of HLA-binding neoantigens when compared to B2M and HLA wild type tumors. B2M and HLA mutations were highly enriched in patients with microsatellite instability. B2M mutations tended to occur relatively early during patients’ respective tumor development, whereas HLA mutations were either early or late events. In addition, B2M and HLA mutated patients had higher levels of immune infiltration by natural killer and CD8+ T cells and higher levels of cytotoxicity. Our findings add to a growing body of evidence that somatic B2M and HLA mutations are a mechanism of immune evasion by demonstrating that such mutations are associated with a higher load of neoantigens that should be presented via MHC-I.']"
      ]
     },
     "execution_count": 20,
     "metadata": {},
     "output_type": "execute_result"
    }
   ],
   "source": [
    "data[10000]"
   ]
  },
  {
   "cell_type": "code",
   "execution_count": null,
   "metadata": {},
   "outputs": [],
   "source": []
  }
 ],
 "metadata": {
  "kernelspec": {
   "display_name": "venv310",
   "language": "python",
   "name": "python3"
  },
  "language_info": {
   "codemirror_mode": {
    "name": "ipython",
    "version": 3
   },
   "file_extension": ".py",
   "mimetype": "text/x-python",
   "name": "python",
   "nbconvert_exporter": "python",
   "pygments_lexer": "ipython3",
   "version": "3.10.14"
  }
 },
 "nbformat": 4,
 "nbformat_minor": 2
}
