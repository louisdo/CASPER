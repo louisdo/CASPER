{
 "cells": [
  {
   "cell_type": "code",
   "execution_count": 1,
   "metadata": {},
   "outputs": [],
   "source": [
    "import json"
   ]
  },
  {
   "cell_type": "code",
   "execution_count": 2,
   "metadata": {},
   "outputs": [],
   "source": [
    "with open(\"/scratch/lamdo/unArxive/cocitations.json\") as f:\n",
    "    data = json.load(f)"
   ]
  },
  {
   "cell_type": "code",
   "execution_count": 3,
   "metadata": {},
   "outputs": [
    {
     "data": {
      "text/plain": [
       "{'cocit_groups': [['https://openalex.org/W2050119972',\n",
       "   'https://openalex.org/W2091180080',\n",
       "   'https://openalex.org/W2091858064',\n",
       "   'https://openalex.org/W1970577591']],\n",
       " 'citations': ['https://openalex.org/W2056820162',\n",
       "  'https://openalex.org/W1989659612',\n",
       "  'https://openalex.org/W2082206048',\n",
       "  'https://openalex.org/W4238634710',\n",
       "  'https://openalex.org/W1989483163',\n",
       "  'https://openalex.org/W2050119972',\n",
       "  'https://openalex.org/W2091180080',\n",
       "  'https://openalex.org/W2091858064',\n",
       "  'https://openalex.org/W1970577591',\n",
       "  'https://openalex.org/W333572303',\n",
       "  'https://openalex.org/W2047530609',\n",
       "  'https://openalex.org/W584626864',\n",
       "  'https://openalex.org/W2011097075',\n",
       "  'https://openalex.org/W2021466460',\n",
       "  'https://openalex.org/W2073175260',\n",
       "  'https://openalex.org/W1971363827',\n",
       "  'https://openalex.org/W2006334810']}"
      ]
     },
     "execution_count": 3,
     "metadata": {},
     "output_type": "execute_result"
    }
   ],
   "source": [
    "data[0]"
   ]
  },
  {
   "cell_type": "code",
   "execution_count": 4,
   "metadata": {},
   "outputs": [],
   "source": [
    "import itertools\n",
    "import math\n",
    "\n",
    "# Using itertools.combinations\n",
    "def get_combinations(iterable, r):\n",
    "    \"\"\"\n",
    "    Generates combinations of length r from an iterable.\n",
    "    \"\"\"\n",
    "    return list(itertools.combinations(iterable, r))"
   ]
  },
  {
   "cell_type": "code",
   "execution_count": 6,
   "metadata": {},
   "outputs": [
    {
     "data": {
      "text/plain": [
       "[(0, 1), (0, 2), (1, 2)]"
      ]
     },
     "execution_count": 6,
     "metadata": {},
     "output_type": "execute_result"
    }
   ],
   "source": [
    "get_combinations(range(3), 2)"
   ]
  },
  {
   "cell_type": "code",
   "execution_count": 12,
   "metadata": {},
   "outputs": [],
   "source": [
    "with open('/scratch/lamdo/unArxive/cocit_triplets.json') as f:\n",
    "    cocit_triplets = json.load(f)"
   ]
  },
  {
   "cell_type": "code",
   "execution_count": 13,
   "metadata": {},
   "outputs": [
    {
     "data": {
      "text/plain": [
       "1341205"
      ]
     },
     "execution_count": 13,
     "metadata": {},
     "output_type": "execute_result"
    }
   ],
   "source": [
    "len(cocit_triplets)"
   ]
  },
  {
   "cell_type": "code",
   "execution_count": 18,
   "metadata": {},
   "outputs": [
    {
     "data": {
      "text/plain": [
       "['https://openalex.org/W2194775991',\n",
       " 'https://openalex.org/W2963150697',\n",
       " 'https://openalex.org/W3136416617']"
      ]
     },
     "execution_count": 18,
     "metadata": {},
     "output_type": "execute_result"
    }
   ],
   "source": [
    "cocit_triplets[1200000]"
   ]
  },
  {
   "cell_type": "code",
   "execution_count": 26,
   "metadata": {},
   "outputs": [],
   "source": [
    "with open(\"/scratch/lamdo/unArxive/cocit_docs.json\") as f:\n",
    "    for line in f:\n",
    "        jline = json.loads(line)\n",
    "        break"
   ]
  },
  {
   "cell_type": "code",
   "execution_count": 27,
   "metadata": {},
   "outputs": [
    {
     "data": {
      "text/plain": [
       "{'https://openalex.org/W2122831750': {'title': 'The Impact of Research Collaboration on Scientific Productivity',\n",
       "  'abstract': 'Based on the curricula vitae and survey responses of 443 academic scientists affiliated with university research centers in the USA, we examine the longstanding assumption that research collaboration has a positive effect on publishing productivity. Since characteristics of the individual and the work environment are endogenously related to both collaboration and productivity, this study focuses on the mediating effect of collaboration on publishing productivity. By using the two-stage least squares analysis, the findings indicate that in the presence of moderating variables such as age, rank, grant, gender, marital status, family relations, citizenship, job satisfaction, perceived discrimination, and collaboration strategy, the simple number (‘normal count’) of peer-reviewed journal papers is strongly and significantly associated with the number of collaborators. However, the net impacts of collaboration are less clear. When we apply the same model and examine productivity by ‘fractional count’, dividing the number of publications by the number of authors, we find that number of collaborators is not a significant predictor of publishing productivity. In both cases, ‘normal count’ and ‘fractional count’, we find significant effects of research grants, citizenship, collaboration strategy, and scientific field. We believe that it is important to understand the effects of the individual and environmental factors for developing effective strategies to exploit the potential benefits of collaboration. We note that our focus is entirely at the individual level, and some of the most important benefits of collaboration may accrue to groups, institutions, and scientific fields.'},\n",
       " 'https://openalex.org/W2120636621': {'title': 'The Infinite Gaussian Mixture Model',\n",
       "  'abstract': 'In a Bayesian mixture model it is not necessary a priori to limit the number of components to be finite. In this paper an infinite Gaussian mixture model is presented which neatly sidesteps the difficult problem of finding the right number of mixture components. Inference in the model is done using an efficient parameter-free Markov Chain that relies entirely on Gibbs sampling.'},\n",
       " 'https://openalex.org/W2580919858': {'title': 'Neural‐Symbolic Machine Learning for Retrosynthesis and Reaction Prediction',\n",
       "  'abstract': 'Reaction prediction and retrosynthesis are the cornerstones of organic chemistry. Rule-based expert systems have been the most widespread approach to computationally solve these two related challenges to date. However, reaction rules often fail because they ignore the molecular context, which leads to reactivity conflicts. Herein, we report that deep neural networks can learn to resolve reactivity conflicts and to prioritize the most suitable transformation rules. We show that by training our model on 3.5 million reactions taken from the collective published knowledge of the entire discipline of chemistry, our model exhibits a top10-accuracy of 95 % in retrosynthesis and 97 % for reaction prediction on a validation set of almost 1 million reactions.'},\n",
       " 'https://openalex.org/W2109618870': {'title': 'Automated tracking and grasping of a moving object with a robotic hand-eye system',\n",
       "  'abstract': 'An attempt to achieve a high level of interaction between a real-time vision system capable of tracking moving objects in 3-D and a robot arm with gripper that can be used to pick up a moving object is described. The interplay of hand-eye coordination in dynamic grasping tasks such as grasping of parts on a moving conveyor system, assembly of articulated parts, or for grasping from a mobile robotic system is explored. The goal is to build an integrated sensing and actuation system that can operate in dynamic as opposed to static environments. The system built addresses three distinct problems in using robotic hand-eye coordination for grasping moving objects: fast computation of 3-D motion parameters from vision, predictive control of a moving robotic arm to track a moving object, and interception and grasping. The system operates at approximately human arm movement rates. Experimental results in which a moving model train is tracked, stably grasped, and picked up by the system are presented. The algorithms developed to relate sensing to actuation are quite general and applicable to a variety of complex robotic tasks.< <ETX xmlns:mml=\"http://www.w3.org/1998/Math/MathML\" xmlns:xlink=\"http://www.w3.org/1999/xlink\">&gt;</ETX>'},\n",
       " 'https://openalex.org/W2153487128': {'title': 'Dynamic Exchange Coupling in Magnetic Bilayers',\n",
       "  'abstract': 'A long-range dynamic interaction between ferromagnetic films separated by normal-metal spacers is reported, which is communicated by nonequilibrium spin currents. It is measured by ferromagnetic resonance and explained by an adiabatic spin-pump theory. In such a resonance the spin-pump mechanism of spatially separated magnetic moments leads to an appreciable increase in the resonant linewidth when the resonance fields are well apart, and results in a dramatic linewidth narrowing when the resonant fields approach each other.'},\n",
       " 'https://openalex.org/W1932288919': {'title': 'Les espaces symétriques noncompacts',\n",
       "  'abstract': ''},\n",
       " 'https://openalex.org/W2108184883': {'title': 'Work and information processing in a solvable model of Maxwell’s demon',\n",
       "  'abstract': 'We describe a minimal model of an autonomous Maxwell demon, a device that delivers work by rectifying thermal fluctuations while simultaneously writing information to a memory register. We solve exactly for the steady-state behavior of our model, and we construct its phase diagram. We find that our device can also act as a \"Landauer eraser\", using externally supplied work to remove information from the memory register. By exposing an explicit, transparent mechanism of operation, our model offers a simple paradigm for investigating the thermodynamics of information processing by small systems.'},\n",
       " 'https://openalex.org/W2565806513': {'title': 'Integrating multiple data sources in species distribution modeling: a framework for data fusion',\n",
       "  'abstract': 'The last decade has seen a dramatic increase in the use of species distribution models (SDMs) to characterize patterns of species\\' occurrence and abundance. Efforts to parameterize SDMs often create a tension between the quality and quantity of data available to fit models. Estimation methods that integrate both standardized and non-standardized data types offer a potential solution to the tradeoff between data quality and quantity. Recently several authors have developed approaches for jointly modeling two sources of data (one of high quality and one of lesser quality). We extend their work by allowing for explicit spatial autocorrelation in occurrence and detection error using a Multivariate Conditional Autoregressive (MVCAR) model and develop three models that share information in a less direct manner resulting in more robust performance when the auxiliary data is of lesser quality. We describe these three new approaches (\"Shared,\" \"Correlation,\" \"Covariates\") for combining data sources and show their use in a case study of the Brown-headed Nuthatch in the Southeastern U.S. and through simulations. All three of the approaches which used the second data source improved out-of-sample predictions relative to a single data source (\"Single\"). When information in the second data source is of high quality, the Shared model performs the best, but the Correlation and Covariates model also perform well. When the information quality in the second data source is of lesser quality, the Correlation and Covariates model performed better suggesting they are robust alternatives when little is known about auxiliary data collected opportunistically or through citizen scientists. Methods that allow for both data types to be used will maximize the useful information available for estimating species distributions.'},\n",
       " 'https://openalex.org/W2970752815': {'title': 'PAWS-X: A Cross-lingual Adversarial Dataset for Paraphrase Identification',\n",
       "  'abstract': 'Yinfei Yang, Yuan Zhang, Chris Tar, Jason Baldridge. Proceedings of the 2019 Conference on Empirical Methods in Natural Language Processing and the 9th International Joint Conference on Natural Language Processing (EMNLP-IJCNLP). 2019.'},\n",
       " 'https://openalex.org/W2059776567': {'title': 'Online sequential extreme learning machine with kernels for nonstationary time series prediction',\n",
       "  'abstract': ''},\n",
       " 'https://openalex.org/W3081636100': {'title': 'Amplitude analysis of the <mml:math xmlns:mml=\"http://www.w3.org/1998/Math/MathML\" display=\"inline\"><mml:msup><mml:mi>B</mml:mi><mml:mo>+</mml:mo></mml:msup><mml:mo stretchy=\"false\">→</mml:mo><mml:msup><mml:mi>D</mml:mi><mml:mo>+</mml:mo></mml:msup><mml:msup><mml:mi>D</mml:mi><mml:mo>−</mml:mo></mml:msup><mml:msup><mml:mi>K</mml:mi><mml:mo>+</mml:mo></mml:msup></mml:math> decay',\n",
       "  'abstract': 'Results are reported from an amplitude analysis of the $B^+\\\\to D^+D^-K^+$ decay. The analysis is carried out using LHCb proton-proton collision data taken at $\\\\sqrt{s}=7,8,$ and $13$ TeV, corresponding to a total integrated luminosity of 9 fb$^{-1}$. In order to obtain a good description of the data, it is found to be necessary to include new spin-0 and spin-1 resonances in the $D^-K^+$ channel with masses around 2.9 GeV$/c^2$, and a new spin-0 charmonium resonance in proximity to the spin-2 $\\\\chi_{c2}(3930)$ state. The masses and widths of these resonances are determined, as are the relative contributions of all components in the amplitude model, which additionally include the vector charmonia $\\\\psi(3770)$, $\\\\psi(4040)$, $\\\\psi(4160)$ and $\\\\psi(4415)$ states and a nonresonant component.'},\n",
       " 'https://openalex.org/W2138404980': {'title': '‘‘Spinon gas’’ description of the<i>S</i>=1/2 Heisenberg chain with inverse-square exchange: Exact spectrum and thermodynamics',\n",
       "  'abstract': \"The exact spectrum and thermodynamics of the S=1/2 Heisenberg chain with inverse-square exchange are explicitly obtained in closed form, and a description in terms of semionic spin-1/2 ``spinon'' excitations is developed. The unexpected degeneracies of the spectrum lead to a new representation of the k=1 SU(2) Wess-Zumino-Witten conformal field theory that exposes an infinite set of SU(2) symmetries of that model.\"},\n",
       " 'https://openalex.org/W2039949119': {'title': 'Decoupling of heavy quarks in the minimal subtraction scheme',\n",
       "  'abstract': ''},\n",
       " 'https://openalex.org/W2162372265': {'title': 'An Analysis of Network Location Problems with Distance Constraints',\n",
       "  'abstract': 'This paper concerns a class of network location problems with minimum or maximum separation requirements between (uncapacitated) facilities or between demand points and the facilities, or both. Its purpose is three-fold. First, it is to recognize distance constraints as increasing real life restrictions through various motivating illustrations. Using a new classification scheme, the paper introduces a variety of distance-constrained problems defined in a unified manner. These include a number of new problems. Second, it is to survey existing solution techniques, available only for a few of such constrained problems. Finally, it is to shed some light on yet unstudied problems by exploring possible extensions of some of the known solution techniques or discussing varying degrees of difficulties involved. In particular, the paper presents integer programming formulations of several new problems along with the results of applying linear programming relaxation methods. Although the computational experience is somewhat disappointing for some of these problems, the results provide greater insight into the problems. With the stated purpose, it is hoped that this paper will stimulate future research in this important problem area.'},\n",
       " 'https://openalex.org/W2041898787': {'title': 'Diffusion for Global Optimization in $\\\\mathbb{R}^n $',\n",
       "  'abstract': 'We seek a global minimum of $U:\\\\mathbb{R}^n \\\\to \\\\mathbb{R}$. The solution to $( * )({d / {dt}})X(t) = - \\\\nabla U(X(t))$ will find local minima. Using the idea of simulated annealing, we consider the diffusion process, $dX(t) = - \\\\nabla U(X(t))dt + \\\\sigma (t)dW(t)$, $X(0) = x$, where $W( \\\\cdot )$ is the n-dimensional standard Brownian motion and $\\\\frac{1}{2}\\\\sigma ^2 (t)$ is the annealing rate which decreases to zero as t goes to $\\\\infty $. Under suitable condition on $U(x)$, we prove that $X(t)$ converges weakly to a probability measure $\\\\pi $ if for large t, $\\\\sigma ^2 (t) = {c / {\\\\log t}}$ with $c > c_0 $, where $c_0 $ has a simple expression involving the action function of the dynamical system $( * )$, $\\\\pi $ concentrates on the global minima of U and is the weak limit of the Gibbs densities $\\\\pi _t (x) \\\\propto \\\\exp ({{ - 2U(x)} / {\\\\sigma ^2 (t)}})$. The above result can also be formulated as follows: consider the Fokker–Planck equation (forward equation) \\\\[\\\\frac{\\\\partial }{{\\\\partial t}}V(t,y) = \\\\frac{1}{2}\\\\sigma ^2 (t)\\\\Delta V(t,y) + \\\\nabla \\\\cdot (V(t,y)\\\\nabla U(y))\\\\] with $V(0,y) = \\\\delta _x (y)$. If $\\\\sigma ^2 (t) = {c / {\\\\log t}}$ for large t and $c > c_0 $, then $V(t,y) \\\\to \\\\pi $ weakly.'},\n",
       " 'https://openalex.org/W2067056511': {'title': 'Synchronization in Complex Networks with Age Ordering',\n",
       "  'abstract': 'The propensity for synchronization is studied in a complex network of asymmetrically coupled units, where the asymmetry in a given link is determined by the relative age of the involved nodes. In growing scale-free networks, synchronization is enhanced when couplings from older to younger nodes are dominant. We describe the requirements for such an effect in a more general context and compare with the situations in nongrowing random networks with and without a degree ordering.'},\n",
       " 'https://openalex.org/W2150749717': {'title': 'Two Efficient Algorithms for Linear Time Suffix Array Construction',\n",
       "  'abstract': 'We present, in this paper, two efficient algorithms for linear time suffix array construction. These two algorithms achieve their linear time complexities, using the techniques of divide-and-conquer, and recursion. What distinguish the proposed algorithms from other linear time suffix array construction algorithms (SACAs) are the variable-length leftmost S-type (LMS) substrings and the fixed-length d-critical substrings sampled for problem reduction, and the simple algorithms for sorting these sampled substrings: the induced sorting algorithm for the variable-length LMS substrings and the radix sorting algorithm for the fixed-length d-critical substrings. The very simple sorting mechanisms render our algorithms an elegant design framework, and, in turn, the surprisingly succinct implementations. The fully functional sample implementations of our proposed algorithms require only around 100 lines of C code for each, which is only 1/10 of the implementation of the KA algorithm and comparable to that of the KS algorithm. The experimental results demonstrate that these two newly proposed algorithms yield the best time and space efficiencies among all the existing linear time SACAs.'},\n",
       " 'https://openalex.org/W2955404225': {'title': 'OceanGliders: A Component of the Integrated GOOS',\n",
       "  'abstract': 'The OceanGliders program started in 2016 to support active coordination and enhancement of global glider activity. OceanGliders contributes to the international efforts of the Global Ocean Observation System (GOOS) for Climate, Ocean Health, and Operational Services. It brings together marine scientists and engineers operating gliders around the world: (1) to observe the long-term physical, biogeochemical, and biological ocean processes and phenomena that are relevant for societal applications; and, (2) to contribute to the GOOS through real-time and delayed mode data dissemination. The OceanGliders program is distributed across national and regional observing systems and significantly contributes to integrated, multi-scale and multi-platform sampling strategies. OceanGliders shares best practices, requirements, and scientific knowledge needed for glider operations, data collection and analysis. It also monitors global glider activity and supports the dissemination of glider data through regional and global databases, in real-time and delayed modes, facilitating data access to the wider community. OceanGliders currently supports national, regional and global initiatives to maintain and expand the capabilities and application of gliders to meet key global challenges such as improved measurement of ocean boundary currents, water transformation and storm forecast.'},\n",
       " 'https://openalex.org/W3035678286': {'title': 'Dynamic Convolutions: Exploiting Spatial Sparsity for Faster Inference',\n",
       "  'abstract': 'Modern convolutional neural networks apply the same operations on every pixel in an image. However, not all image regions are equally important. To address this inefficiency, we propose a method to dynamically apply convolutions conditioned on the input image. We introduce a residual block where a small gating branch learns which spatial positions should be evaluated. These discrete gating decisions are trained end-to-end using the Gumbel-Softmax trick, in combination with a sparsity criterion. Our experiments on CIFAR, ImageNet and MPII show that our method has better focus on the region of interest and better accuracy than existing methods, at a lower computational complexity. Moreover, we provide an efficient CUDA implementation of our dynamic convolutions using a gather-scatter approach, achieving a significant improvement in inference speed with MobileNetV2 residual blocks. On human pose estimation, a task that is inherently spatially sparse, the processing speed is increased by 60% with no loss in accuracy.'},\n",
       " 'https://openalex.org/W1991214310': {'title': 'General relations for quantum gases in two and three dimensions. II. Bosons and mixtures',\n",
       "  'abstract': 'Expansion of a degenerate Bose gas released from a pancakelike trap is numerically simulated under the assumption of separation of the motion in the plane of the loose initial trapping and the motion in the direction of the initial tight trapping. The initial conditions for the phase fluctuations are generated using the extension to the two-dimensional case of the description of the phase noise by the Ornstein-Uhlenbeck stochastic process. The numerical simulations, taking into account both the finite size of the two-dimensional system and the atomic interactions, which cannot be neglected on the early stage of expansion, did not reproduce the scaling law for the peaks in the density fluctuation spectra experimentally observed by Choi, Seo, Kwon, and Shin [Phys. Rev. Lett. 109, 125301 (2012)]. The latter experimental results may thus require an explanation beyond our current assumptions.'},\n",
       " 'https://openalex.org/W3084747182': {'title': 'Distributed Multi-Sensor Fusion of PHD Filters With Different Sensor Fields of View',\n",
       "  'abstract': 'The paper addresses the problem of distributed multi-target tracking (MTT) in a network of sensors having different fields of view (FoVs). Probability hypothesis density (PHD) filters are running locally in every sensor for MTT. The weighted arithmetic average (WAA) fusion rule is employed to fuse the multiple local PHD densities due to its computational efficiency. First, we provide a theoretical analysis showing that the standard WAA fusion among sensors with different FoVs is unsuitable from the perspective of the principle of minimum discrimination information (PMDI). In fact, the information inconsistency among sensors due to the different FoVs unavoidably leads to an underestimation of the fused PHD. Then, motivated by the analysis, we devise two novel approaches to address the different FoV issue. The first approach accounts for the case where the sensor FoVs are known and time-invariant. The second one deals with the more complicated case where the actual sensor FoVs can be cropped due to unknown line of sight obstructions or sensors can obtain the information outside their current FoVs because of platform movement or information feedback. The essence of the proposed approaches is to perform the WAA in a more robust way by employing a set of state-dependent fusion weights which are computed online. The Gaussian mixture implementations of the proposed methods are also presented. Various simulation experiments, including a challenging tracking scenario involving six sensors with different FoVs and also random line of sight obstructions, are designed to demonstrate the efficacy of the proposed fusion approaches.'},\n",
       " 'https://openalex.org/W2073330467': {'title': 'Sub-barrier Coulomb effects on the interference pattern in tunneling-ionization photoelectron spectra',\n",
       "  'abstract': 'We use a quantum trajectory-based semi-classical method to account for Coulomb interaction between the photoelectron and the parent ion in the classically forbidden, sub-barrier region during strong-field tunneling ionization processes. We show that---besides the well-known modification of the tunneling ionization probability---there is also an influence on the interference pattern in the photoelectron spectra. In the long-wavelength limit, the shift of the intra-cycle interference fringes caused by sub-barrier Coulomb effects in the laser polarization direction can be derived analytically. We compare our results with \\\\emph{ab initio} solutions of the time-dependent Schr\\\\\"odinger equation and find good agreement in the long-wavelength regime, whereas the standard strong field approximation fails. We show that the nodal structure along low-order above-threshold ionization rings is also affected by sub-barrier Coulomb effects.'},\n",
       " 'https://openalex.org/W618834869': {'title': 'Essential statistical inference : theory and methods',\n",
       "  'abstract': ''},\n",
       " 'https://openalex.org/W2099162650': {'title': 'Maximum degree in graphs of diameter 2',\n",
       "  'abstract': 'Abstract It is well known that there are at most four Moore graphs of diameter 2, i.e., graphs of diameter 2, maximum degree d , and d 2 + 1 vertices. The purpose of this paper is to prove that with the exception of C 4 , there are no graphs of diameter 2, of maximum degree d , and with d 2 vertices.'},\n",
       " 'https://openalex.org/W2399467590': {'title': 'State of the Art Report: Audio-Based Music Structure Analysis.',\n",
       "  'abstract': ''},\n",
       " 'https://openalex.org/W2738537049': {'title': 'Outlier-Robust Tensor PCA',\n",
       "  'abstract': 'Low-rank tensor analysis is important for various real applications in computer vision. However, existing methods focus on recovering a low-rank tensor contaminated by Gaussian or gross sparse noise and hence cannot effectively handle outliers that are common in practical tensor data. To solve this issue, we propose an outlier-robust tensor principle component analysis (OR-TPCA) method for simultaneous low-rank tensor recovery and outlier detection. For intrinsically low-rank tensor observations with arbitrary outlier corruption, OR-TPCA is the first method that has provable performance guarantee for exactly recovering the tensor subspace and detecting outliers under mild conditions. Since tensor data are naturally high-dimensional and multi-way, we further develop a fast randomized algorithm that requires small sampling size yet can substantially accelerate OR-TPCA without performance drop. Experimental results on four tasks: outlier detection, clustering, semi-supervised and supervised learning, clearly demonstrate the advantages of our method.'},\n",
       " 'https://openalex.org/W3104479128': {'title': 'Minkowski content and natural parameterization for the Schramm–Loewner evolution',\n",
       "  'abstract': 'We prove the existence and nontriviality of the $d$-dimensional 4 Minkowski content for the Schramm–Loewner evolution ($\\\\mathrm{SLE} _{\\\\kappa}$) with $\\\\kappa<8$ and $d=1+\\\\frac{\\\\kappa}{8}$. We show that this is a multiple of the natural parameterization.'},\n",
       " 'https://openalex.org/W2891153464': {'title': 'Cosmological measurements from angular power spectra analysis of BOSS DR12 tomography',\n",
       "  'abstract': 'We constrain cosmological parameters by analysing the angular power spectra of the Baryon Oscillation Spectroscopic Survey DR12 galaxies, a spectroscopic follow-up of around 1.3 million SDSS galaxies over 9376 deg2 with an effective volume of ∼6.5 (Gpc h−1)3 in the redshift range 0.15 ≤ |$z$| < 0.80. We split this sample into 13 tomographic bins (Δ|$z$| = 0.05); angular power spectra were calculated using a Pseudo-Cℓ estimator, and covariance matrices were estimated using lognormal simulated maps. Cosmological constraints obtained from these data were combined with constraints from Planck cosmic microwave background experiment as well as the JLA supernovae compilation. Considering a |$w$|CDM cosmological model measured on scales up to kmax = 0.07h Mpc−1, we constrain a constant dark energy equation-of-state with an |${\\\\sim } 4{{\\\\ \\\\rm per\\\\ cent}}$| error at the 1σ level: |$w_0 = -0.993^{+0.046}_{-0.043}$|\\u2060, together with Ωm = 0.330 ± 0.012, Ωb = 0.0505 ± 0.002, |$S_8 \\\\equiv \\\\sigma _8 \\\\sqrt{\\\\Omega _\\\\mathrm{ m}/0.3} = 0.863 \\\\pm 0.016$|\\u2060, and h = 0.661 ± 0.012. For the same combination of data sets, but now considering a ΛCDM (lambda cold dark matter) model with massive neutrinos and the same scale cut, we find Ωm = 0.328 ± 0.009, |$\\\\Omega _\\\\mathrm{ b} = 0.05017^{+0.0009}_{-0.0008}$|\\u2060, S8 = 0.862 ± 0.017, and |$h = 0.663^{+0.006}_{-0.007}$|\\u2060, and a 95 per cent credible interval (CI) upper limit of ∑mν < 0.14 eV for a normal hierarchy. These results are competitive if not better than standard analyses with the same data set, and demonstrate that this should be a method of choice for future surveys, opening the door for their full exploitation in cross-correlation probes.'},\n",
       " 'https://openalex.org/W3153303671': {'title': 'Hemorrhagic stroke lesion segmentation using a 3D U-Net with squeeze-and-excitation blocks',\n",
       "  'abstract': 'Hemorrhagic stroke is the condition involving the rupture of a vessel inside the brain and is characterized by high mortality rates. Even if the patient survives, stroke can cause temporary or permanent disability depending on how long blood flow has been interrupted. Therefore, it is crucial to act fast to prevent irreversible damage. In this work, a deep learning-based approach to automatically segment hemorrhagic stroke lesions in CT scans is proposed. Our approach is based on a 3D U-Net architecture which incorporates the recently proposed squeeze-and-excitation blocks. Moreover, a restrictive patch sampling is proposed to alleviate the class imbalance problem and also to deal with the issue of intra-ventricular hemorrhage, which has not been considered as a stroke lesion in our study. Moreover, we also analyzed the effect of patch size, the use of different modalities, data augmentation and the incorporation of different loss functions on the segmentation results. All analyses have been performed using a five fold cross-validation strategy on a clinical dataset composed of 76 cases. Obtained results demonstrate that the introduction of squeeze-and-excitation blocks, together with the restrictive patch sampling and symmetric modality augmentation, significantly improved the obtained results, achieving a mean DSC of 0.86±0.074, showing promising automated segmentation results.'},\n",
       " 'https://openalex.org/W3214516145': {'title': 'Stability criterion for white dwarfs in Palatini <mml:math xmlns:mml=\"http://www.w3.org/1998/Math/MathML\" display=\"inline\"><mml:mrow><mml:mi>f</mml:mi><mml:mo stretchy=\"false\">(</mml:mo><mml:mi>R</mml:mi><mml:mo stretchy=\"false\">)</mml:mo></mml:mrow></mml:math> gravity',\n",
       "  'abstract': \"Recent observations of several peculiar over- and underluminous type Ia supernovae infer indirect evidence for the violation of the Chandrasekhar mass limit by suggesting the existence of super- and sub-Chandrasekhar limiting mass white dwarfs. In an attempt to explain these phenomena in the context of general relativistic extensions, we study these objects in Palatini $f(R)$ gravity. We obtain the super- and sub-Chandrasekhar limiting masses as well as the dynamical instability criteria for white dwarfs in the given gravitational theory. We further demonstrate that the conventional positivity condition $\\\\ensuremath{\\\\partial}M/\\\\ensuremath{\\\\partial}{\\\\ensuremath{\\\\rho}}_{\\\\mathrm{c}}>0$ with $M$ being the WD's mass with central density ${\\\\ensuremath{\\\\rho}}_{\\\\mathrm{c}}$ is also a valid criterion for stability in Palatini gravity.\"},\n",
       " 'https://openalex.org/W2106789842': {'title': 'Improving robot navigation through self‐supervised online learning',\n",
       "  'abstract': 'Abstract In mobile robotics, there are often features that, while potentially powerful for improving navigation, prove difficult to profit from as they generalize poorly to novel situations. Overhead imagery data, for instance, have the potential to greatly enhance autonomous robot navigation in complex outdoor environments. In practice, reliable and effective automated interpretation of imagery from diverse terrain, environmental conditions, and sensor varieties proves challenging. Similarly, fixed techniques that successfully interpret on‐board sensor data across many environments begin to fail past short ranges as the density and accuracy necessary for such computation quickly degrade and features that are able to be computed from distant data are very domain specific. We introduce an online, probabilistic model to effectively learn to use these scope‐limited features by leveraging other features that, while perhaps otherwise more limited, generalize reliably. We apply our approach to provide an efficient, self‐supervised learning method that accurately predicts traversal costs over large areas from overhead data. We present results from field testing on‐board a robot operating over large distances in various off‐road environments. Additionally, we show how our algorithm can be used offline with overhead data to produce a priori traversal cost maps and detect misalignments between overhead data and estimated vehicle positions. This approach can significantly improve the versatility of many unmanned ground vehicles by allowing them to traverse highly varied terrains with increased performance. © 2007 Wiley Periodicals, Inc.'},\n",
       " 'https://openalex.org/W2042063151': {'title': 'Sparse modeling of categorial explanatory variables',\n",
       "  'abstract': 'Shrinking methods in regression analysis are usually designed for metric predictors. In this article, however, shrinkage methods for categorial predictors are proposed. As an application we consider data from the Munich rent standard, where, for example, urban districts are treated as a categorial predictor. If independent variables are categorial, some modifications to usual shrinking procedures are necessary. Two $L_1$-penalty based methods for factor selection and clustering of categories are presented and investigated. The first approach is designed for nominal scale levels, the second one for ordinal predictors. Besides applying them to the Munich rent standard, methods are illustrated and compared in simulation studies.'},\n",
       " 'https://openalex.org/W1969304603': {'title': 'Object Recognition in Multi-View Dual Energy X-ray Images',\n",
       "  'abstract': ''},\n",
       " 'https://openalex.org/W3103317056': {'title': 'On strong solutions to the Cauchy problem of the two-dimensional compressible magnetohydrodynamic equations with vacuum',\n",
       "  'abstract': 'This paper concerns the Cauchy problem of the nonhomogeneous incompressible magnetohydrodynamic (MHD) equations on the whole two-dimensional (2D) space with vacuum as far field density. In particular, the initial density can have compact support. We prove that the 2D Cauchy problem of the nonhomogeneous incompressible MHD equations admits a unique local strong solution provided the initial density and the initial magnetic decay not too slow at infinity.'},\n",
       " 'https://openalex.org/W2474163600': {'title': 'A Taxonomy and Library for Visualizing Learned Features in Convolutional Neural Networks',\n",
       "  'abstract': 'Over the last decade, Convolutional Neural Networks (CNN) saw a tremendous surge in performance. However, understanding what a network has learned still proves to be a challenging task. To remedy this unsatisfactory situation, a number of groups have recently proposed different methods to visualize the learned models. In this work we suggest a general taxonomy to classify and compare these methods, subdividing the literature into three main categories and providing researchers with a terminology to base their works on. Furthermore, we introduce the FeatureVis library for MatConvNet: an extendable, easy to use open source library for visualizing CNNs. It contains implementations from each of the three main classes of visualization methods and serves as a useful tool for an enhanced understanding of the features learned by intermediate layers, as well as for the analysis of why a network might fail for certain examples.'},\n",
       " 'https://openalex.org/W2000676687': {'title': 'Equation of state and magnetic susceptibility of spin polarized isospin asymmetric nuclear matter',\n",
       "  'abstract': 'Properties of spin polarized isospin asymmetric nuclear matter are studied within the framework of the Brueckner--Hartree--Fock formalism. The single-particle potentials of neutrons and protons with spin up and down are determined for several values of the neutron and proton spin polarizations and the asymmetry parameter. It is found an almost linear and symmetric variation of the single-particle potentials as increasing these parameters. An analytic parametrization of the total energy per particle as a function of the asymmetry and spin polarizations is constructed. This parametrization is employed to compute the magnetic susceptibility of nuclear matter for several values of the asymmetry from neutron to symmetric matter. The results show no indication of a ferromagnetic transition at any density for any asymmetry of nuclear matter.'},\n",
       " 'https://openalex.org/W2010452399': {'title': 'Nontarget objects can influence perceptual processes during object recognition',\n",
       "  'abstract': ''},\n",
       " 'https://openalex.org/W1986333823': {'title': 'MM Algorithms for Some Discrete Multivariate Distributions',\n",
       "  'abstract': \"The MM (minorization-maximization) principle is a versatile tool for constructing optimization algorithms. Every EM algorithm is an MM algorithm but not vice versa. This article derives MM algorithms for maximum likelihood estimation with discrete multivariate distributions such as the Dirichlet-multinomial and Connor-Mosimann distributions, the Neerchal-Morel distribution, the negative-multinomial distribution, certain distributions on partitions, and zero-truncated and zero-inflated distributions. These MM algorithms increase the likelihood at each iteration and reliably converge to the maximum from well-chosen initial values. Because they involve no matrix inversion, the algorithms are especially pertinent to high-dimensional problems. To illustrate the performance of the MM algorithms, we compare them to Newton's method on data used to classify handwritten digits.\"},\n",
       " 'https://openalex.org/W2037323813': {'title': 'Controls on floc growth in an energetic tidal channel',\n",
       "  'abstract': 'Measurements of turbulence and suspended particle characteristics have been made continuously for 9 tidal cycles in a shallow, energetic tidal channel. Particle‐size spectra were measured with a LISST‐100 laser diffraction instrument placed on a frame on the seabed. A 1200 kHz ADCP in the same frame was used to measure vertical current profiles and from these the turbulent kinetic energy dissipation rate was determined using the structure function method. Median particle size is observed to change in a regular way by a factor of 3 or more over each tidal cycle, with the largest particles observed at slack tide and the smallest at times of maximum flood and ebb. The most likely explanation of this change is that particles are aggregating at times of low turbulence and breaking up during fast flows. A simple dynamical flocculation model that incorporates these processes gives good agreement with observations, particularly if tidal advection of a longitudinal gradient in particle size is allowed for. If particles have time to reach equilibrium with ambient conditions, the model predicts that the particle size will be proportional to the product of concentration and the Kolmogorov microscale. The observations support this prediction on most tidal cycles if a phase lag (of 30–60 min) is allowed between the measurements of particle size and Kolmogorov scale. This phase lag represents the adjustment time for flocs to respond to change in turbulence. The constant of proportionality between median particle size and Kolmogorov scale increases with particle volume.'},\n",
       " 'https://openalex.org/W2500673789': {'title': 'Vortex knots in tangled quantum eigenfunctions',\n",
       "  'abstract': 'Tangles of string typically become knotted, from macroscopic twine down to long-chain macromolecules such as DNA. Here, we demonstrate that knotting also occurs in quantum wavefunctions, where the tangled filaments are vortices (nodal lines/phase singularities). The probability that a vortex loop is knotted is found to increase with its length, and a wide gamut of knots from standard tabulations occur. The results follow from computer simulations of random superpositions of degenerate eigenstates of three simple quantum systems: a cube with periodic boundaries, the isotropic three-dimensional harmonic oscillator and the 3-sphere. In the latter two cases, vortex knots occur frequently, even in random eigenfunctions at relatively low energy, and are constrained by the spatial symmetries of the modes. The results suggest that knotted vortex structures are generic in complex three-dimensional wave systems, establishing a topological commonality between wave chaos, polymers and turbulent Bose-Einstein condensates.'},\n",
       " 'https://openalex.org/W2806418718': {'title': 'Thermal diffusivity determination using heterodyne phase insensitive transient grating spectroscopy',\n",
       "  'abstract': 'The elastic and thermal transport properties of opaque materials may be measured using transient grating spectroscopy (TGS) by inducing and monitoring periodic excitations in both reflectivity and surface displacement. The \"phase grating\" response encodes both properties of interest, but complicates quantitative analysis by convolving temperature dynamics with surface displacement dynamics. Thus, thermal transport characteristics are typically determined using the \"amplitude grating\" response to isolate the surface temperature dynamics. However, this signal character requires absolute heterodyne phase calibration and contains no elastic property information. Here, a method is developed by which phase grating TGS measurements may be consistently analyzed to determine thermal diffusivity with no prior knowledge of the expected properties. To demonstrate this ability, the wavelength-dependent 1D effective thermal diffusivity of pure germanium is measured using this type of response and found to be consistent with theoretical predictions made by solving the Boltzmann transport equation. This ability to determine the elastic and thermal properties from a single set of TGS measurements will be particularly advantageous for new in situ implementations of the technique being used to study dynamic materials systems.'},\n",
       " 'https://openalex.org/W1989324306': {'title': 'EMG signals based gait phases recognition using hidden Markov models',\n",
       "  'abstract': 'The application of hidden Markov model (HMM) to recognize gait phase using electromyographic (EMG) signals is described. Four time-domain features are extracted within a time segment of each channel of EMG signals to preserve pattern structure. According to the division of the gait cycle, the structure of HMM is determined, in which each state is associated with a gait phase. A modified Baum-Welch algorithm is used to estimate the parameter of HMM. And Viterbi algorithm achieves the phase recognition by finding the best state sequence to assign corresponding phases to the given segments. The feature set and data segmentation manner yielded high rate of accuracy are ascertained through evaluation experiments.'},\n",
       " 'https://openalex.org/W1543022942': {'title': 'Safe exploration: Addressing various uncertainty levels in human robot interactions',\n",
       "  'abstract': 'To address the safety issues in human robot interactions (HRI), a safe set algorithm (SSA) was developed previously. However, during HRI, the uncertainty levels are changing in different phases of the interaction, which is not captured by SSA. A safe exploration algorithm (SEA) is proposed in this paper to address the uncertainty levels in the robot control. To estimate the uncertainty levels online, a learning method in the belief space is developed. A comparative study between SSA and SEA is conducted. The simulation results confirm that SEA can capture the uncertainty reduction behavior which is observed in human-human interactions.'},\n",
       " 'https://openalex.org/W2921247036': {'title': 'Minimal cells, maximal knowledge',\n",
       "  'abstract': 'Modeling all the chemical reactions that take place in a minimal cell will help us understand the fundamental interactions that power life.'},\n",
       " 'https://openalex.org/W2843137502': {'title': 'Classical density functional theory, unconstrained crystallization, and polymorphic behavior',\n",
       "  'abstract': 'While in principle, classical density functional theory (cDFT) should be a powerful tool for the study of crystallization, in practice this has not so far been the case. Progress has been hampered by technical problems which have plagued the study of the crystalline systems using the most sophisticated fundamental measure theory models. In this paper, the reasons for the difficulties are examined and it is proposed that the tensor functionals currently favored are in fact numerically unstable. By reverting to an older, more heuristic model it is shown that all of the technical difficulties are eliminated. Application to a Lennard-Jones fluid results in a demonstration of power of cDFT to describe crystallization in a highly inhomogeneous system. First, we show that droplets attached to a slightly hydrophobic wall crystallize spontaneously upon being quenched. The resulting crystallites are clearly faceted structures and are predominantly HCP structures. In contrast, droplets in a fully periodic calculational cell remain stable to lower temperatures and eventually show the same spontaneous localization of the density into \"atoms\" but in an amorphous structure having many of the structural characteristics of a glass. A small change of the protocol leads, at the same temperature, to the formation of crystals, this time with the fcc structure typical of bulk Lennard-Jones solids. The fcc crystals have lower free energy than the amorphous structures which in turn are more stable than the liquid droplets. It is demonstrated that as the temperature is raised, the free energy differences between the structures decrease until the solid clusters become less stable than the liquid droplets and spontaneously melt. The presence of energy barriers separating the various structures is therefore clearly demonstrated.'},\n",
       " 'https://openalex.org/W2055906731': {'title': 'Mechanism of a molecular electronic photoswitch',\n",
       "  'abstract': \"We present a simple non-self-consistent method for the calculation of the molecular conductance under finite bias voltage. Our approach is applied to a molecular photoswitch that has recently been investigated in break junction experiments [D. Duli\\\\ifmmode \\\\acute{c}\\\\else \\\\'{c}\\\\fi{} et al., Phys. Rev. Lett. 91, 207402 (2003)]. We obtain $I\\\\text{\\\\ensuremath{-}}V$ characteristics that are qualitatively in agreement with experimental measurements. Employing our electronic structure calculations, we provide a detailed explanation for the switching behavior observed in experiment.\"},\n",
       " 'https://openalex.org/W2032758830': {'title': 'Zero-norm states and enlarged gauge symmetries of the closed bosonic string with massive background fields',\n",
       "  'abstract': 'Conformal symmetry on the world-sheet is used to derive the effective equations of motion of target space fields for the closed bosonic string up to the second massive level. These equations are calculated in the weal field approximation, but to all orders in the inverse Planck scale α′. Enlarged gauge symmetries of the target space fields are derived directly from both types of zero-norm states in the bosonic string spectrum. Some of these symmetries can be generated by world-sheet (1, 0) or (0, 1) primary field generators.'},\n",
       " 'https://openalex.org/W1495535461': {'title': 'The cohomological equation for partially hyperbolic diffeomorphisms',\n",
       "  'abstract': 'We establish a theory for the existence and regularity of solutions to the cohomological equation over an accessible, partially hyperbolic diffeomorphism. As a by-product of our techniques, we show that for $r&gt;1$, any $C^r$ homogeneous, locally compact submanifold of a $C^r$ manifold is in fact a $C^r$ submanifold.'},\n",
       " 'https://openalex.org/W3212992673': {'title': 'CreativeGAN: Editing Generative Adversarial Networks for Creative Design Synthesis',\n",
       "  'abstract': 'Abstract Modern machine learning techniques, such as deep neural networks, are transforming many disciplines ranging from image recognition to language understanding, by uncovering patterns in big data and making accurate predictions. They have also shown promising results for synthesizing new designs, which is crucial for creating products and enabling innovation. Generative models, including generative adversarial networks (GANs), have proven to be effective for design synthesis with applications ranging from product design to metamaterial design. These automated computational design methods can support human designers, who typically create designs by a time-consuming process of iteratively exploring ideas using experience and heuristics. However, there are still challenges remaining in automatically synthesizing ‘creative’ designs. GAN models, however, are not capable of generating unique designs, a key to innovation and a major gap in AI-based design automation applications. This paper proposes an automated method, named CreativeGAN, for generating novel designs. It does so by identifying components that make a design unique and modifying a GAN model such that it becomes more likely to generate designs with identified unique components. The method combines state-of-art novelty detection, segmentation, novelty localization, rewriting, and generative models for creative design synthesis. Using a dataset of bicycle designs, we demonstrate that the method can create new bicycle designs with unique frames and handles, and generalize rare novelties to a broad set of designs. Our automated method requires no human intervention and demonstrates a way to rethink creative design synthesis and exploration. For details and code used in this paper please refer to http://decode.mit.edu/projects/creativegan/.'},\n",
       " 'https://openalex.org/W4231125503': {'title': 'Experimental Study of Aeronautical Ignition in a Swirled Confined Jet-Spray Burner',\n",
       "  'abstract': 'Aeronautical gas turbine ignition is still not well understood and its management and control are mandatory for new lean-burner designs. The fundamental aspects of swirled confined two-phase flow ignition are addressed in the present work. Two facilities enable the analysis of two characteristic phases of the process. The knowledge for ignition, acoustics and instabilities (KIAI)-Spray single-injector burner was investigated in terms of local flow properties, including the air velocity and droplet fuel (n-heptane) size-velocity characterization by phase Doppler anemometry (PDA), and the study of local equivalence ratio by means of planar laser-induced fluorescence (PLIF) on a tracer (toluene). The initial spark location inside the chamber is vital to ensure successful ignition. An ignition probability map was elaborated varying the location of a 532 nm laser-induced spark in the chamber under ultralean nominal conditions (ϕ = 0.61). The outer recirculation zone (ORZ) was found to be the best region for placing a spark and successfully igniting the mixture. A strong correlation was found between the ignition probability field and the airflow turbulent kinetic energy and velocity fields. Local equivalence ratio enhances the importance of the ORZ. Once a successful ignition is accomplished on one injector, the injector-to-injector flame propagation must be examined. High-speed visualization through two synchronized perpendicular cameras was applied on the KIAI-Spray linear multi-injector burner. Four different injector-to-injector distances and four fuels of different volatilities (n-heptane, n-decane, n-dodecane, and jet-A1 kerosene) were evaluated. Spray branches and interinjector regions changed with the interinjector distance. Two different flame propagation mechanisms were identified: the direct radial propagation and the arc propagation mode. Ignition delay times were modified with the injector-to-injector distance and with the different fuels.'},\n",
       " 'https://openalex.org/W3005951768': {'title': 'Reactive Navigation Under Non-Parametric Uncertainty Through Hilbert Space Embedding of Probabilistic Velocity Obstacles',\n",
       "  'abstract': 'The probabilistic velocity obstacle (PVO) extends the concept of velocity obstacle (VO) to work in uncertain dynamic environments. In this paper, we show how a robust model predictive control (MPC) with PVO constraints under non-parametric uncertainty can be made computationally tractable. At the core of our formulation is a novel yet simple interpretation of our robust MPC as a problem of matching the distribution of PVO with a certain desired distribution. To this end, we propose two methods. Our first baseline method is based on approximating the distribution of PVO with a Gaussian Mixture Model (GMM) and subsequently performing distribution matching using Kullback Leibler (KL) divergence metric. Our second formulation is based on the possibility of representing arbitrary distributions as functions in Reproducing Kernel Hilbert Space (RKHS). We use this foundation to interpret our robust MPC as a problem of minimizing the distance between the desired distribution and the distribution of the PVO in the RKHS. Both the RKHS and GMM based formulation can work with any uncertainty distribution and thus allowing us to relax the prevalent Gaussian assumption in the existing works. We validate our formulation by taking an example of 2D navigation of quadrotors with a realistic noise model for perception and ego-motion uncertainty. In particular, we present a systematic comparison between the GMM and the RKHS approach and show that while both approaches can produce safe trajectories, the former is highly conservative and leads to poor tracking and control costs. Furthermore, RKHS based approach gives better computational times that are up to one order of magnitude lesser than the computation time of the GMM based approach.'},\n",
       " 'https://openalex.org/W2000860631': {'title': 'Angiotensinogen cleavage by renin: importance of a structurally constrained N‐terminus',\n",
       "  'abstract': 'Angiotensinogen, a plasma serpin, functions as a donor of the decapeptide angiotensin I, which is cleaved from the N‐terminus by renin. To assess the contribution of the serpin framework to peptide cleavage we produced a chimaeric molecule of α 1 ‐antitrypsin carrying the angiotensinogen N‐terminus and determined the kinetic parameters for angiotensin I release. The K m for plasma angiotensinogen was 18‐fold lower than for the chimaeric protein while the catalytic efficiency was four‐fold higher. We also show that Cys‐18 participates in a disulphide bond and propose that constraints on the N‐terminus profoundly affect the interaction with renin.'},\n",
       " 'https://openalex.org/W2157755598': {'title': 'Improved Bounds for Online Learning Over the Permutahedron and Other Ranking Polytopes',\n",
       "  'abstract': 'Consider the following game: There is a fixed set V ofn items. At each step an adversary chooses a score function st : V 7! [0; 1], a learner outputs a ranking ofV , and thenst is revealed. The learner’s loss is the sum over v 2 V , of st(v) times v’s position (0th, 1st, 2nd, ...) in the ranking. This problem captures, for example, online systems that iteratively present ranked lists of items to users, who then respond by choosing one (or more) sought items. The loss measures the users’ burden, which increases the further the sought items are from the top. It also captures a version of online rank aggregation.'},\n",
       " 'https://openalex.org/W2093793201': {'title': 'Ridges, crests and sub-parabolic lines of evolving surfaces',\n",
       "  'abstract': ''},\n",
       " 'https://openalex.org/W2043959930': {'title': 'Generalized Bezoutian and matrix equations',\n",
       "  'abstract': ''},\n",
       " 'https://openalex.org/W2913326058': {'title': 'Automatic Brain Tumor Segmentation by Exploring the Multi-modality Complementary Information and Cascaded 3D Lightweight CNNs',\n",
       "  'abstract': ''},\n",
       " 'https://openalex.org/W3017075191': {'title': \"Tuneable quantum spin Hall states in confined 1T' transition metal dichalcogenides\",\n",
       "  'abstract': 'Abstract Investigation of quantum spin Hall states in 1 T\\' phase of the monolayer transition metal dichalcogenides has recently attracted the attention for its potential in nanoelectronic applications. While most of the theoretical findings in this regard deal with infinitely periodic crystal structures, here we employ density functional theory calculations and $$k.p$$ <mml:math xmlns:mml=\"http://www.w3.org/1998/Math/MathML\"> <mml:mi>k</mml:mi> <mml:mo>.</mml:mo> <mml:mi>p</mml:mi> </mml:math> Hamiltonian based continuum model to unveil the bandgap opening in the edge-state spectrum of finite width molybdenum disulphide, molybdenum diselenide, tungsten disulphide and tungsten diselenide. We show that the application of a perpendicular electric field simultaneously modulates the band gaps of bulk and edge-states. We further observe that tungsten diselenide undergoes a semi-metallic intermediate state during the phase transition from topological to normal insulator. The tuneable edge conductance, as obtained from the Landauer-Büttiker formalism, exhibits a monotonous increasing trend with applied electric field for deca-nanometer molybdenum disulphide, whereas the trend is opposite for other cases.'},\n",
       " 'https://openalex.org/W3167802193': {'title': 'Poisson gauge theory',\n",
       "  'abstract': 'A bstract The Poisson gauge algebra is a semi-classical limit of complete non- commutative gauge algebra. In the present work we formulate the Poisson gauge theory which is a dynamical field theoretical model having the Poisson gauge algebra as a corresponding algebra of gauge symmetries. The proposed model is designed to investigate the semi-classical features of the full non-commutative gauge theory with coordinate dependent non-commutativity Θ ab ( x ), especially whose with a non-constant rank. We derive the expression for the covariant derivative of matter field. The commutator relation for the covariant derivatives defines the Poisson field strength which is covariant under the Poisson gauge transformations and reproduces the standard U(1) field strength in the commutative limit. We derive the corresponding Bianchi identities. The field equations for the gauge and the matter fields are obtained from the gauge invariant action. We consider different examples of linear in coordinates Poisson structures Θ ab ( x ), as well as non-linear ones, and obtain explicit expressions for all proposed constructions. Our model is unique up to invertible field redefinitions and coordinate transformations.'},\n",
       " 'https://openalex.org/W2047336551': {'title': 'New derivation of the geometric phase',\n",
       "  'abstract': ''},\n",
       " 'https://openalex.org/W3205532063': {'title': 'Hybridized magnon modes in the quenched skyrmion crystal',\n",
       "  'abstract': 'Magnetic skyrmions have attracted attention as particlelike swirling spin textures with nontrivial topology, and their self-assembled periodic order i.e., the skyrmion crystal (SkX) is anticipated to host unique magnonic properties. In this paper, we investigate magnetic resonance in the quenched SkX state, which is obtained by the rapid cooling of the high-temperature equilibrium SkX phase in the chiral magnetic insulator ${\\\\mathrm{Cu}}_{2}\\\\mathrm{O}\\\\mathrm{Se}{\\\\mathrm{O}}_{3}$. At low temperatures, sextupole and octupole excitation modes of skyrmions are identified, which are usually inactive for oscillating magnetic fields ${B}^{\\\\ensuremath{\\\\nu}}$ with GHz-range frequency $\\\\ensuremath{\\\\nu}$ but turn out to be detectable through the hybridization with the ${B}^{\\\\ensuremath{\\\\nu}}$-active counterclockwise and breathing modes, respectively. The observed magnetic excitation spectra are well reproduced by theoretical calculations, which demonstrates that the effective magnetic anisotropy enhanced at low temperatures is the key for the observed hybridization between the ${B}^{\\\\ensuremath{\\\\nu}}$-active and ${B}^{\\\\ensuremath{\\\\nu}}$-inactive modes.'},\n",
       " 'https://openalex.org/W1976305183': {'title': 'Social inertia and diversity in collaboration networks',\n",
       "  'abstract': ''},\n",
       " 'https://openalex.org/W2018324102': {'title': 'Magnetoresistance Oscillations of Superconducting Al-Film Cylinders Covering InAs Nanowires below the Quantum Critical Point',\n",
       "  'abstract': 'When odd multiples of half flux quanta thread a cylindrical superconducting shell with a diameter d shorter than the zero temperature coherence length ξ(0), superconductivity is predicted to be destroyed. We show here that as d is reduced in comparison to ξ(0) the resistance attains the normal state value, which seems to be temperature independent in the vicinity of half flux quanta. The data are in agreement with recent theoretical results.'},\n",
       " 'https://openalex.org/W2995240480': {'title': 'New explanation for accelerated expansion and flat galactic rotation curves',\n",
       "  'abstract': 'Abstract Employing the non-additive Tsallis entropy, $$S\\\\sim A^{\\\\beta }$$ <mml:math xmlns:mml=\"http://www.w3.org/1998/Math/MathML\"><mml:mrow><mml:mi>S</mml:mi><mml:mo>∼</mml:mo><mml:msup><mml:mi>A</mml:mi><mml:mi>β</mml:mi></mml:msup></mml:mrow></mml:math> , for the large-scale gravitational systems, we disclose that in the cosmological scales both the Friedmann equation and the equation of motion for Newtonian cosmology get modified, respectively. We then derive the modified Newton’s law of gravitation which is valid on large scales. We show that, in the relativistic regime, the modified Friedmann equation admits an accelerated expansion, for a universe filled with ordinary matter, without invoking any kind of dark energy, provided the non-extensive parameter is chosen $$\\\\beta &lt;1/2$$ <mml:math xmlns:mml=\"http://www.w3.org/1998/Math/MathML\"><mml:mrow><mml:mi>β</mml:mi><mml:mo>&lt;</mml:mo><mml:mn>1</mml:mn><mml:mo>/</mml:mo><mml:mn>2</mml:mn></mml:mrow></mml:math> . In the non-relativistic regime, however, the modified Newton’s law of gravitation can explain the flat galactic rotation curves without invoking particle dark matter provided $$\\\\beta \\\\lesssim 1/2$$ <mml:math xmlns:mml=\"http://www.w3.org/1998/Math/MathML\"><mml:mrow><mml:mi>β</mml:mi><mml:mo>≲</mml:mo><mml:mn>1</mml:mn><mml:mo>/</mml:mo><mml:mn>2</mml:mn></mml:mrow></mml:math> . Our study may be regarded as an alternative explanation for the “dark side of the universe”, through modification of the gravitational field equations.'},\n",
       " 'https://openalex.org/W3109710800': {'title': 'Self-Driving Network and Service Coordination Using Deep Reinforcement Learning',\n",
       "  'abstract': 'Modern services comprise interconnected components, e.g., microservices in a service mesh, that can scale and run on multiple nodes across the network on demand. To process incoming traffic, service components have to be instantiated and traffic assigned to these instances, taking capacities and changing demands into account. This challenge is usually solved with custom approaches designed by experts. While this typically works well for the considered scenario, the models often rely on unrealistic assumptions or on knowledge that is not available in practice (e.g., a priori knowledge). We propose a novel deep reinforcement learning approach that learns how to best coordinate services and is geared towards realistic assumptions. It interacts with the network and relies on available, possibly delayed monitoring information. Rather than defining a complex model or an algorithm how to achieve an objective, our model-free approach adapts to various objectives and traffic patterns. An agent is trained offline without expert knowledge and then applied online with minimal overhead. Compared to a state-of-the-art heuristic, it significantly improves flow throughput and overall network utility on real-world network topologies and traffic traces. It also learns to optimize different objectives, generalizes to scenarios with unseen, stochastic traffic patterns, and scales to large real-world networks.'},\n",
       " 'https://openalex.org/W1988473008': {'title': 'On k-hyperexpansive operators',\n",
       "  'abstract': ''},\n",
       " 'https://openalex.org/W271704805': {'title': 'Reducing computational complexity of quantum correlations',\n",
       "  'abstract': 'We address the issue of reducing the resource required to compute information-theoretic quantum correlation measures such as quantum discord and quantum work deficit in two qubits and higher-dimensional systems. We show that determination of the quantum correlation measure is possible even if we utilize a restricted set of local measurements. We find that the determination allows us to obtain a closed form of quantum discord and quantum work deficit for several classes of states, with a low error. We show that the computational error caused by the constraint over the complete set of local measurements reduces fast with an increase in the size of the restricted set, implying usefulness of constrained optimization, especially with the increase of dimensions. We perform quantitative analysis to investigate how the error scales with the system size, taking into account a set of plausible constructions of the constrained set. Carrying out a comparative study, we show that the resource required to optimize quantum work deficit is usually higher than that required for quantum discord. We also demonstrate that minimization of quantum discord and quantum work deficit is easier in the case of two-qubit mixed states of fixed ranks and with positive partial transpose in comparison to the corresponding states having nonpositive partial transpose. Applying the methodology to quantum spin models, we show that the constrained optimization can be used with advantage in analyzing such systems in quantum information-theoretic language. For bound entangled states, we show that the error is significantly low when the measurements correspond to the spin observables along the three Cartesian coordinates, and thereby we obtain expressions of quantum discord and quantum work deficit for these bound entangled states.'},\n",
       " 'https://openalex.org/W2046946052': {'title': 'A modular approach to defining and characterising notions of simulation',\n",
       "  'abstract': ''},\n",
       " 'https://openalex.org/W2600443201': {'title': 'Rare-event statistics and modular invariance',\n",
       "  'abstract': ''},\n",
       " 'https://openalex.org/W2151868502': {'title': 'Sobolev inequalities on Lie groups and symmetric spaces',\n",
       "  'abstract': ''},\n",
       " 'https://openalex.org/W2999908796': {'title': 'Adsorption anomalies in a two-dimensional model of cluster-forming systems',\n",
       "  'abstract': 'Monte Carlo simulations are used to study a two-dimensional lattice model of particles interacting through short-range attraction and long-range repulsion. Adsorption of particles on a boundary line and the distribution of particle clusters near the boundary were investigated while varying several parameters. The authors find a rich variety of patterns that are qualitatively different from those in liquids with simpler interactions.'},\n",
       " 'https://openalex.org/W1540285992': {'title': 'Consistency for Quantified Constraint Satisfaction Problems',\n",
       "  'abstract': ''},\n",
       " 'https://openalex.org/W2035810429': {'title': 'On symmetric operators of higher degree and their applications',\n",
       "  'abstract': ''},\n",
       " 'https://openalex.org/W2024015891': {'title': 'Lagrangian submanifolds in strict nearly Kähler 6-manifolds',\n",
       "  'abstract': \"Lagrangian submanifolds in strict nearly Kahler 6-manifolds are related to special Lagrangian submanifolds in Calabi-Yau 6-manifolds and coassociative cones in $G_2$-manifolds. We prove that the mean curvature of a Lagrangian submanifold $L$ in a nearly Kahler manifold $(M, J, g)$ is symplectically dual to the Maslov 1-form on $L$. Using relative calibrations, we derive a formula for the second variation of the volume of a Lagrangian submanifold $L^3$ in a strict nearly Kahler manifold $(M^6, J, g)$ and compare it with McLean's formula for special Lagrangian submanifolds. We describe a finite dimensional local model of the moduli space of compact Lagrangian submanifolds in a strict nearly Kahler 6-manifold. We show that there is a real analytic atlas on $(M^6, J, g)$ in which the strict nearly Kahler structure $(J, g)$ is real analytic. Furthermore, w.r.t. an analytic strict nearly Kahler structure the moduli space of Lagrangian submanifolds of $M^6$ is a real analytic variety, whence infinitesimal Lagrangian deformations are smoothly obstructed if and only if they are formally obstructed. As an application, we relate our results to the description of Lagrangian submanifolds in the sphere $S^6$ with the standard nearly Kahler structure described in [34].\"},\n",
       " 'https://openalex.org/W3158075892': {'title': 'Research on Open Source Solutions of Data Collection for Industrial Internet of Things',\n",
       "  'abstract': 'Nowadays, the Industrial Internet of Things (IIoT) plays a crucial role in the Industrial Revolution known as Industry 4.0. IIoT requires a full connection among machines, between information technology (IT) systems and operational technology (OT) systems. Various industrial protocols coexist in the field make data collection of IIoT to be a complex work. A Python-based open source solution of data collection for IIoT is proposed, data can be collected by industrial protocols, converted to OPC UA, MQTT, and stored into time-series databases. IIoT data collection can be implemented in a low-cost and flexible way, which is a good supplement to commercial software that can greatly promote the development of the IIoT.'},\n",
       " 'https://openalex.org/W3046215973': {'title': 'A family of multiply warped product semi-Riemannian Einstein metrics',\n",
       "  'abstract': 'In this paper, we characterize multiply warped product semi -Riemannian manifolds when the base is conformal to an $ n $-dimensional pseudo-Euclidean space. We prove some conditions on warped product semi- Riemannian manifolds to be an Einstein manifold which is invariant under the action of an $ (n-1) $-dimensional translation group. After that we apply this result for the case of Ricci-flat multiply warped product space when the fibers are Ricci-flat. We also discuss the existence of infinitely many Ricci-flat multiply warped product spaces under the same action with null like vector.'},\n",
       " 'https://openalex.org/W3092985370': {'title': 'Simulation-based inference methods for particle physics',\n",
       "  'abstract': 'Our predictions for particle physics processes are realized in a chain of complex simulators. They allow us to generate high-fidelity simulated data, but they are not well-suited for inference on the theory parameters with observed data. We explain why the likelihood function of high-dimensional LHC data cannot be explicitly evaluated, why this matters for data analysis, and reframe what the field has traditionally done to circumvent this problem. We then review new simulation-based inference methods that let us directly analyze high-dimensional data by combining machine learning techniques and information from the simulator. Initial studies indicate that these techniques have the potential to substantially improve the precision of LHC measurements. Finally, we discuss probabilistic programming, an emerging paradigm that lets us extend inference to the latent process of the simulator.'},\n",
       " 'https://openalex.org/W2914830904': {'title': 'Theoretical runtime bounds for information spreading and a new vehicle routing algorithm',\n",
       "  'abstract': ''},\n",
       " 'https://openalex.org/W3010980909': {'title': 'Designing Local Inputs to Identify Link Failures in A Diffusive Network: A Graph Perspective',\n",
       "  'abstract': 'This work studies the design of inputs to detect link failures in a diffusive network. Specifically, an input is applied at one particular node and the state is measured at the same node, with the goal of discerning a remote link removal event in the network. Graph-based results are developed to understand: 1) whether or not the failure link can be identified via input design, 2) which energy-bounded input produces the largest deviation from the nominal, and 3) how a persistent input can be used for effective detection. An example is also presented to demonstrate some of the graphical results.'},\n",
       " 'https://openalex.org/W4287027870': {'title': 'Online Stochastic Gradient Methods Under Sub-Weibull Noise and the Polyak-Łojasiewicz Condition',\n",
       "  'abstract': 'This paper focuses on the online gradient and proximal-gradient methods with stochastic gradient errors. In particular, we examine the performance of the online gradient descent method when the cost satisfies the Polyak-\\\\L ojasiewicz (PL) inequality. We provide bounds in expectation and in high probability (that hold iteration-wise), with the latter derived by leveraging a sub-Weibull model for the errors affecting the gradient. The convergence results show that the instantaneous regret converges linearly up to an error that depends on the variability of the problem and the statistics of the sub-Weibull gradient error. Similar convergence results are then provided for the online proximal-gradient method, under the assumption that the composite cost satisfies the proximal-PL condition. In the case of static costs, we provide new bounds for the regret incurred by these methods when the gradient errors are modeled as sub-Weibull random variables. Illustrative simulations are provided to corroborate the technical findings.'}}"
      ]
     },
     "execution_count": 27,
     "metadata": {},
     "output_type": "execute_result"
    }
   ],
   "source": [
    "jline"
   ]
  },
  {
   "cell_type": "code",
   "execution_count": 41,
   "metadata": {},
   "outputs": [],
   "source": [
    "with open('/scratch/lamdo/unArxive/cocit_training/raw.tsv') as f:\n",
    "    count = 0\n",
    "    for line in f:\n",
    "        query, pos, neg = line.split(\"\\t\")\n",
    "        count += 1\n",
    "        if count == 400: break"
   ]
  },
  {
   "cell_type": "code",
   "execution_count": 42,
   "metadata": {},
   "outputs": [
    {
     "data": {
      "text/plain": [
       "'Diquark and light four-quark states'"
      ]
     },
     "execution_count": 42,
     "metadata": {},
     "output_type": "execute_result"
    }
   ],
   "source": [
    "query"
   ]
  },
  {
   "cell_type": "code",
   "execution_count": 43,
   "metadata": {},
   "outputs": [
    {
     "data": {
      "text/plain": [
       "'Mixings of four-quark components in light nonsinglet scalar mesons in QCD sum rules. Mixings of four-quark components in the nonsinglet scalar mesons are studied in the QCD sum rules. We propose a formulation to evaluate the cross correlators of $q\\\\overline{q}$ and $qq\\\\overline{q}\\\\overline{q}$ operators and to define the mixings of different Fock states in the sum rule. It is applied to the nonsinglet scalar mesons, ${a}_{0}$ and ${K}_{0}^{*}$. It is found that the four-quark operators predict lower masses than the $q\\\\overline{q}$ operators and that the four-quark states occupy about 70%--90% of the lowest mass states'"
      ]
     },
     "execution_count": 43,
     "metadata": {},
     "output_type": "execute_result"
    }
   ],
   "source": [
    "pos"
   ]
  },
  {
   "cell_type": "code",
   "execution_count": 44,
   "metadata": {},
   "outputs": [
    {
     "data": {
      "text/plain": [
       "'QCD sum rules:<mml:math xmlns:mml=\"http://www.w3.org/1998/Math/MathML\" display=\"inline\"><mml:mi>Δ</mml:mi><mml:mo>−</mml:mo><mml:mi>N</mml:mi></mml:math>and<mml:math xmlns:mml=\"http://www.w3.org/1998/Math/MathML\" display=\"inline\"><mml:mrow><mml:msup><mml:mrow><mml:mi>Σ</mml:mi></mml:mrow><mml:mrow><mml:mn>0</mml:mn></mml:mrow></mml:msup></mml:mrow><mml:mo>−</mml:mo><mml:mi>Λ</mml:mi></mml:math>mass splittings. We use the method of QCD sum rules to investigate both the $\\\\ensuremath{\\\\Delta}\\\\ensuremath{-}N$ and ${\\\\ensuremath{\\\\Sigma}}^{0}\\\\ensuremath{-}\\\\ensuremath{\\\\Lambda}$ mass splittings. In the case of the $\\\\ensuremath{\\\\Delta}\\\\ensuremath{-}N$ mass splitting, our numerical results indicate that the mass splitting is dominated primarily by the quark-gluon condensate $〈0|{g}_{c}\\\\overline{q}{\\\\ensuremath{\\\\sigma}}_{\\\\ensuremath{\\\\mu}\\\\ensuremath{\\\\nu}}(\\\\frac{{\\\\ensuremath{\\\\lambda}}^{a}}{2}){G}_{a}^{\\\\ensuremath{\\\\mu}\\\\ensuremath{\\\\nu}}q|0〉$ and the observed mass splitting may be understood. In the case of ${\\\\ensuremath{\\\\Sigma}}^{0}\\\\ensuremath{-}\\\\ensuremath{\\\\Lambda}$ mass splitting, we obtain a value of about 66 MeV, which is slightly smaller than the observed value of 77 MeV\\n'"
      ]
     },
     "execution_count": 44,
     "metadata": {},
     "output_type": "execute_result"
    }
   ],
   "source": [
    "neg"
   ]
  },
  {
   "cell_type": "code",
   "execution_count": null,
   "metadata": {},
   "outputs": [],
   "source": []
  }
 ],
 "metadata": {
  "kernelspec": {
   "display_name": "venv310",
   "language": "python",
   "name": "python3"
  },
  "language_info": {
   "codemirror_mode": {
    "name": "ipython",
    "version": 3
   },
   "file_extension": ".py",
   "mimetype": "text/x-python",
   "name": "python",
   "nbconvert_exporter": "python",
   "pygments_lexer": "ipython3",
   "version": "3.10.14"
  }
 },
 "nbformat": 4,
 "nbformat_minor": 2
}
