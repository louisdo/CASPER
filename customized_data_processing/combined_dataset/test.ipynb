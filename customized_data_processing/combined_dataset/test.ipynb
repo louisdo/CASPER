{
 "cells": [
  {
   "cell_type": "code",
   "execution_count": 1,
   "metadata": {},
   "outputs": [],
   "source": [
    "with open('/scratch/lamdo/phrase_splade_datasets/combined_cc+cocit+kp1m+query+title/raw.tsv') as f:\n",
    "    data = []\n",
    "    for i, line in enumerate(f):\n",
    "        if i == 10000: break\n",
    "        data.append(line.strip().split(\"\\t\"))"
   ]
  },
  {
   "cell_type": "code",
   "execution_count": 3,
   "metadata": {},
   "outputs": [],
   "source": [
    "import random"
   ]
  },
  {
   "cell_type": "code",
   "execution_count": 11,
   "metadata": {},
   "outputs": [
    {
     "data": {
      "text/plain": [
       "['Moreover, these types of yield maps are only available after the season, and many harvesters are still not equipped with yield monitors .',\n",
       " 'Using High-Resolution Airborne and Satellite Imagery to Assess Crop Growth and Yield Variability for Precision Agriculture. With increased use of precision agriculture techniques, information concerning within-field crop yield variability is becoming increasingly important for effective crop management. Despite the commercial availability of yield monitors, many crop harvesters are not equipped with them. Moreover, yield monitor data can only be collected at harvest and used for after-season management. On the other hand, remote sensing imagery obtained during the growing season can be used to generate yield maps for both within-season and after-season management. This paper gives an overview on the use of airborne multispectral and hyperspectral imagery and high-resolution satellite imagery for assessing crop growth and yield variability. The methodologies for image acquisition and processing and for the integration and analysis of image and yield data are discussed. Five application examples are provided to illustrate how airborne multispectral and hyperspectral imagery and high-resolution satellite imagery have been used for mapping crop yield variability. Image processing techniques including vegetation indices, unsupervised classification, correlation and regression analysis, principal component analysis, and supervised and unsupervised linear spectral unmixing are used in these examples. Some of the advantages and limitations on the use of different types of remote sensing imagery and analysis techniques for yield mapping are also discussed.',\n",
       " 'Geo-referencing remote images for precision agriculture using artificial terrestrial targets. The aim of this paper is to assess co-registration errors in remote imagery through the AUGEO system, which consists of geo-referenced coloured tarps acting as terrestrial targets (TT), captured in the imagery and semi-automatically recognised by AUGEO2.0® software. This works as an add-on of ENVI® for image co-registration. To validate AUGEO, TT were placed in the ground, and remote images from satellite Quick Bird (QB), airplanes and unmanned aerial vehicles (UAV) were taken at several locations in Andalusia (southern Spain) in 2008 and 2009. Any geo-referencing system tested showed some error in comparison with the Differential Global Positioning System (DGPS)-geo-referenced verification targets. Generally, the AUGEO system provided higher geo-referencing accuracy than the other systems tried. The root mean square errors (RMSE) from the panchromatic and multi-spectral QB images were around 8 and 9\\xa0m, respectively and, once co-registered by AUGEO, they were about 1.5 and 2.5\\xa0m, for the same images. Overlapping the QB-AUGEO-geo-referenced image and the National Geographic Information System (NGIS) produced a RMSE of 6.5\\xa0m, which is hardly acceptable for precision agriculture. The AUGEO system efficiently geo-referenced farm airborne images with a mean accuracy of about 0.5–1.5\\xa0m, and the UAV images showed a mean accuracy of 1.0–4.0\\xa0m. The geo-referencing accuracy of an image refers to its consistency despite changes in its spatial resolution. A higher number of TT used in the geo-referencing process leads to a lower obtained RMSE. For example, for an image of 80\\xa0ha, about 10 and 17 TT were needed to get a RMSE less than about 2 and 1\\xa0m. Similarly, with the same number of TT, accuracy was higher for smaller plots as compared to larger plots. Precision agriculture requires high spatial resolution images (i.e., <1.5\\xa0m\\xa0pixel−1), accurately geo-referenced (errors <1–2\\xa0m). With the current DGPS technology, satellite and airplane images hardly meet this geo-referencing requirement; consequently, additional co-registration effort is needed. This can be achieved using geo-referenced TT and AUGEO, mainly in areas where no notable hard points are available.']"
      ]
     },
     "execution_count": 11,
     "metadata": {},
     "output_type": "execute_result"
    }
   ],
   "source": [
    "random.choice(data)"
   ]
  },
  {
   "cell_type": "code",
   "execution_count": null,
   "metadata": {},
   "outputs": [],
   "source": []
  },
  {
   "cell_type": "code",
   "execution_count": null,
   "metadata": {},
   "outputs": [],
   "source": []
  }
 ],
 "metadata": {
  "kernelspec": {
   "display_name": "venv310",
   "language": "python",
   "name": "python3"
  },
  "language_info": {
   "codemirror_mode": {
    "name": "ipython",
    "version": 3
   },
   "file_extension": ".py",
   "mimetype": "text/x-python",
   "name": "python",
   "nbconvert_exporter": "python",
   "pygments_lexer": "ipython3",
   "version": "3.10.14"
  }
 },
 "nbformat": 4,
 "nbformat_minor": 2
}
