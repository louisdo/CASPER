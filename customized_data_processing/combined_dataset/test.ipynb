{
 "cells": [
  {
   "cell_type": "code",
   "execution_count": 1,
   "metadata": {},
   "outputs": [],
   "source": [
    "with open('/scratch/lamdo/phrase_splade_datasets/combined_cc+cocit+kp1m+query+title/raw.tsv') as f:\n",
    "    data = []\n",
    "    for i, line in enumerate(f):\n",
    "        if i == 10000: break\n",
    "        data.append(line.strip().split(\"\\t\"))"
   ]
  },
  {
   "cell_type": "code",
   "execution_count": 2,
   "metadata": {},
   "outputs": [],
   "source": [
    "import random"
   ]
  },
  {
   "cell_type": "code",
   "execution_count": 20,
   "metadata": {},
   "outputs": [
    {
     "data": {
      "text/plain": [
       "['Cost analysis and cost determinants in a European inflammatory bowel disease inception cohort with 10 years of follow-up evaluation',\n",
       " 'Comparison of Site of Death, Health Care Utilization, and Hospital Expenditures for Patients Dying With Cancer in 7 Developed Countries. IMPORTANCE Differences in utilization and costs of end-of-life care among developed countries are of considerable policy interest.   OBJECTIVE To compare site of death, health care utilization, and hospital expenditures in 7 countries: Belgium, Canada, England, Germany, the Netherlands, Norway, and the United States.   DESIGN, SETTING, AND PARTICIPANTS Retrospective cohort study using administrative and registry data from 2010. Participants were decedents older than 65 years who died with cancer. Secondary analyses included decedents of any age, decedents older than 65 years with lung cancer, and decedents older than 65 years in the United States and Germany from 2012.   MAIN OUTCOMES AND MEASURES Deaths in acute care hospitals, 3 inpatient measures (hospitalizations in acute care hospitals, admissions to intensive care units, and emergency department visits), 1 outpatient measure (chemotherapy episodes), and hospital expenditures paid by insurers (commercial or governmental) during the 180-day and 30-day periods before death. Expenditures were derived from country-specific methods for costing inpatient services.   RESULTS The United States (cohort of decedents aged >65 years, N\\u2009=\\u2009211,816) and the Netherlands (N\\u2009=\\u20097216) had the lowest proportion of decedents die in acute care hospitals (22.2.% and 29.4%, respectively). A higher proportion of decedents died in acute care hospitals in Belgium (N\\u2009=\\u200921,054; 51.2%), Canada (N\\u2009=\\u200920,818; 52.1%), England (N\\u2009=\\u200997,099; 41.7%), Germany (N\\u2009=\\u200924,434; 38.3%), and Norway (N\\u2009=\\u20096636; 44.7%). In the last 180 days of life, 40.3% of US decedents had an intensive care unit admission compared with less than 18% in other reporting nations. In the last 180 days of life, mean per capita hospital expenditures were higher in Canada (US $21,840), Norway (US $19,783), and the United States (US $18,500), intermediate in Germany (US $16,221) and Belgium (US $15,699), and lower in the Netherlands (US $10,936) and England (US $9342). Secondary analyses showed similar results.   CONCLUSIONS AND RELEVANCE Among patients older than 65 years who died with cancer in 7 developed countries in 2010, end-of-life care was more hospital-centric in Belgium, Canada, England, Germany, and Norway than in the Netherlands or the United States. Hospital expenditures near the end of life were higher in the United States, Norway, and Canada, intermediate in Germany and Belgium, and lower in the Netherlands and England. However, intensive care unit admissions were more than twice as common in the United States as in other countries.',\n",
       " 'Advance care planning in patients with advanced cancer: A 6-country, cluster-randomised clinical trial. Background Advance care planning (ACP) supports individuals to define, discuss, and record goals and preferences for future medical treatment and care. Despite being internationally recommended, randomised clinical trials of ACP in patients with advanced cancer are scarce. Methods and findings To test the implementation of ACP in patients with advanced cancer, we conducted a cluster-randomised trial in 23 hospitals across Belgium, Denmark, Italy, Netherlands, Slovenia, and United Kingdom in 2015–2018. Patients with advanced lung (stage III/IV) or colorectal (stage IV) cancer, WHO performance status 0–3, and at least 3 months life expectancy were eligible. The ACTION Respecting Choices ACP intervention as offered to patients in the intervention arm included scripted ACP conversations between patients, family members, and certified facilitators; standardised leaflets; and standardised advance directives. Control patients received care as usual. Main outcome measures were quality of life (operationalised as European Organisation for Research and Treatment of Cancer [EORTC] emotional functioning) and symptoms. Secondary outcomes were coping, patient satisfaction, shared decision-making, patient involvement in decision-making, inclusion of advance directives (ADs) in hospital files, and use of hospital care. In all, 1,117 patients were included (442 intervention; 675 control), and 809 (72%) completed the 12-week questionnaire. Patients’ age ranged from 18 to 91 years, with a mean of 66; 39% were female. The mean number of ACP conversations per patient was 1.3. Fidelity was 86%. Sixteen percent of patients found ACP conversations distressing. Mean change in patients’ quality of life did not differ between intervention and control groups (T-score −1.8 versus −0.8, p = 0.59), nor did changes in symptoms, coping, patient satisfaction, and shared decision-making. Specialist palliative care (37% versus 27%, p = 0.002) and AD inclusion in hospital files (10% versus 3%, p < 0.001) were more likely in the intervention group. A key limitation of the study is that recruitment rates were lower in intervention than in control hospitals. Conclusions Our results show that quality of life effects were not different between patients who had ACP conversations and those who received usual care. The increased use of specialist palliative care and AD inclusion in hospital files of intervention patients is meaningful and requires further study. Our findings suggest that alternative approaches to support patient-centred end-of-life care in this population are needed. Trial registration ISRCTN registry ISRCTN63110516.']"
      ]
     },
     "execution_count": 20,
     "metadata": {},
     "output_type": "execute_result"
    }
   ],
   "source": [
    "random.choice(data)"
   ]
  },
  {
   "cell_type": "code",
   "execution_count": null,
   "metadata": {},
   "outputs": [],
   "source": []
  },
  {
   "cell_type": "code",
   "execution_count": null,
   "metadata": {},
   "outputs": [],
   "source": []
  }
 ],
 "metadata": {
  "kernelspec": {
   "display_name": "venv310",
   "language": "python",
   "name": "python3"
  },
  "language_info": {
   "codemirror_mode": {
    "name": "ipython",
    "version": 3
   },
   "file_extension": ".py",
   "mimetype": "text/x-python",
   "name": "python",
   "nbconvert_exporter": "python",
   "pygments_lexer": "ipython3",
   "version": "3.10.14"
  }
 },
 "nbformat": 4,
 "nbformat_minor": 2
}
