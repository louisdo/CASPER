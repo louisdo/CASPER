{
 "cells": [
  {
   "cell_type": "code",
   "execution_count": 3,
   "id": "8fa034b9",
   "metadata": {},
   "outputs": [],
   "source": [
    "import random\n",
    "from transformers import AutoTokenizer\n",
    "from datasets import load_dataset\n",
    "from tqdm import tqdm"
   ]
  },
  {
   "cell_type": "code",
   "execution_count": 12,
   "id": "64c613c3",
   "metadata": {},
   "outputs": [],
   "source": [
    "distilbert_tokenizer = AutoTokenizer.from_pretrained(\"distilbert-base-uncased\")\n",
    "new_tokenizer = AutoTokenizer.from_pretrained(\"/scratch/lamdo/distilbert-base-uncased-word-30kaddedwordsfroms2orc/\")"
   ]
  },
  {
   "cell_type": "code",
   "execution_count": 9,
   "id": "8a735cff",
   "metadata": {},
   "outputs": [
    {
     "data": {
      "text/plain": [
       "(30522, 57374)"
      ]
     },
     "execution_count": 9,
     "metadata": {},
     "output_type": "execute_result"
    }
   ],
   "source": [
    "len(distilbert_tokenizer.vocab), len(new_tokenizer.vocab)"
   ]
  },
  {
   "cell_type": "code",
   "execution_count": 4,
   "id": "71fd1b3b",
   "metadata": {},
   "outputs": [
    {
     "name": "stderr",
     "output_type": "stream",
     "text": [
      "Loading dataset into memory: 100%|██████████| 10000/10000 [00:00<00:00, 20109.99it/s]\n"
     ]
    }
   ],
   "source": [
    "ds = load_dataset(\"sentence-transformers/s2orc\", \"title-abstract-pair\")\n",
    "        \n",
    "random.seed(0)\n",
    "indices = random.sample(range(len(ds[\"train\"])), 10000)\n",
    "dataset = []\n",
    "for index in tqdm(indices[:], desc = \"Loading dataset into memory\"):\n",
    "    dataset.append(ds[\"train\"][index])"
   ]
  },
  {
   "cell_type": "code",
   "execution_count": 8,
   "id": "dd346fcf",
   "metadata": {},
   "outputs": [
    {
     "name": "stderr",
     "output_type": "stream",
     "text": [
      "100%|██████████| 10000/10000 [00:04<00:00, 2382.17it/s]\n"
     ]
    }
   ],
   "source": [
    "for line in tqdm(dataset):\n",
    "    title = line.get(\"title\", \"\")\n",
    "    abstract = line.get(\"abstract\", \"\")\n",
    "\n",
    "    text = f\"{title}. {abstract}\"\n",
    "    new_tokenizer(\n",
    "        text, \n",
    "        padding=\"max_length\",\n",
    "        truncation=True,\n",
    "        max_length=512,\n",
    "        # return_tensors='pt',\n",
    "    )\n"
   ]
  },
  {
   "cell_type": "code",
   "execution_count": 6,
   "id": "67cf426a",
   "metadata": {},
   "outputs": [
    {
     "name": "stderr",
     "output_type": "stream",
     "text": [
      "100%|██████████| 10000/10000 [00:04<00:00, 2380.59it/s]\n"
     ]
    }
   ],
   "source": [
    "for line in tqdm(dataset):\n",
    "    title = line.get(\"title\", \"\")\n",
    "    abstract = line.get(\"abstract\", \"\")\n",
    "\n",
    "    text = f\"{title}. {abstract}\"\n",
    "    distilbert_tokenizer(\n",
    "        text, \n",
    "        padding=\"max_length\",\n",
    "        truncation=True,\n",
    "        max_length=512,\n",
    "        # return_tensors='pt',\n",
    "    )\n"
   ]
  },
  {
   "cell_type": "code",
   "execution_count": null,
   "id": "2163b53f",
   "metadata": {},
   "outputs": [],
   "source": []
  }
 ],
 "metadata": {
  "kernelspec": {
   "display_name": "venv310",
   "language": "python",
   "name": "python3"
  },
  "language_info": {
   "codemirror_mode": {
    "name": "ipython",
    "version": 3
   },
   "file_extension": ".py",
   "mimetype": "text/x-python",
   "name": "python",
   "nbconvert_exporter": "python",
   "pygments_lexer": "ipython3",
   "version": "3.10.14"
  }
 },
 "nbformat": 4,
 "nbformat_minor": 5
}
