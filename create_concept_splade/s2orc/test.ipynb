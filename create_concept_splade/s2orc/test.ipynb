{
 "cells": [
  {
   "cell_type": "code",
   "execution_count": 1,
   "metadata": {},
   "outputs": [],
   "source": [
    "import json\n",
    "from collections import Counter"
   ]
  },
  {
   "cell_type": "code",
   "execution_count": 2,
   "metadata": {},
   "outputs": [],
   "source": [
    "with open(\"/home/lamdo/splade/create_concept_splade/s2orc/phrase_vocab.json\") as f:\n",
    "    data = json.load(f)"
   ]
  },
  {
   "cell_type": "code",
   "execution_count": 3,
   "metadata": {},
   "outputs": [],
   "source": [
    "vocab = list(data.keys())"
   ]
  },
  {
   "cell_type": "code",
   "execution_count": 5,
   "metadata": {},
   "outputs": [],
   "source": [
    "with open(\"test_gigig_.json\", \"w\") as f:\n",
    "    json.dump(vocab, f, indent = 4)"
   ]
  },
  {
   "cell_type": "code",
   "execution_count": 3,
   "metadata": {},
   "outputs": [
    {
     "data": {
      "text/plain": [
       "[3066639,\n",
       " 16721861,\n",
       " 36352098,\n",
       " 16399980,\n",
       " 6416906,\n",
       " 5202956,\n",
       " 16396714,\n",
       " 12638872,\n",
       " 38772623,\n",
       " 7046140,\n",
       " 10887848,\n",
       " 20230131,\n",
       " 25259808,\n",
       " 24981826,\n",
       " 148865,\n",
       " 19301461,\n",
       " 3138630,\n",
       " 18342063,\n",
       " 39863551,\n",
       " 36711889,\n",
       " 17305698,\n",
       " 38424637,\n",
       " 32351469,\n",
       " 28680674,\n",
       " 5848575,\n",
       " 35917817,\n",
       " 1656699,\n",
       " 15042966,\n",
       " 1203731,\n",
       " 38723958,\n",
       " 32086459,\n",
       " 12612982,\n",
       " 34250803,\n",
       " 6001780,\n",
       " 27369965,\n",
       " 11955431,\n",
       " 33008275,\n",
       " 6421607,\n",
       " 27000303,\n",
       " 24629496,\n",
       " 30091847,\n",
       " 7734336,\n",
       " 3468994,\n",
       " 34541452,\n",
       " 30168112,\n",
       " 12234666,\n",
       " 11342828,\n",
       " 16145145,\n",
       " 17275639,\n",
       " 31466355,\n",
       " 37921809,\n",
       " 35571870,\n",
       " 3285483,\n",
       " 38515272,\n",
       " 33482368,\n",
       " 25816794,\n",
       " 3050527,\n",
       " 41428173,\n",
       " 32580816,\n",
       " 26505869,\n",
       " 31777014,\n",
       " 30211986,\n",
       " 18993693,\n",
       " 18911325,\n",
       " 29347274,\n",
       " 33679331,\n",
       " 21196784,\n",
       " 19484889,\n",
       " 7341625,\n",
       " 10904789,\n",
       " 5520721,\n",
       " 29887287,\n",
       " 23050441,\n",
       " 27103093,\n",
       " 12076991,\n",
       " 25765867,\n",
       " 14263195,\n",
       " 18078142,\n",
       " 17043343,\n",
       " 3624245,\n",
       " 26542451,\n",
       " 17817527,\n",
       " 24335811,\n",
       " 31157113,\n",
       " 39309612,\n",
       " 25905326,\n",
       " 33408089,\n",
       " 29636596,\n",
       " 39609020,\n",
       " 23034878,\n",
       " 10037276,\n",
       " 16252772,\n",
       " 30851565,\n",
       " 10832363,\n",
       " 8607394,\n",
       " 35651751,\n",
       " 41467410,\n",
       " 27154647,\n",
       " 9684654,\n",
       " 16162268,\n",
       " 10031231,\n",
       " 19149323,\n",
       " 1394739,\n",
       " 24224076,\n",
       " 35604659,\n",
       " 36489962,\n",
       " 40305401,\n",
       " 40917458,\n",
       " 16962938,\n",
       " 35571011,\n",
       " 3973784,\n",
       " 40193729,\n",
       " 34092694,\n",
       " 33240301,\n",
       " 15421640,\n",
       " 4725848,\n",
       " 18196537,\n",
       " 2639512,\n",
       " 11733213,\n",
       " 6700532,\n",
       " 29264222,\n",
       " 24627290,\n",
       " 224395,\n",
       " 40880300,\n",
       " 39012281,\n",
       " 19391020,\n",
       " 7223973,\n",
       " 8938476,\n",
       " 38784291,\n",
       " 13223715,\n",
       " 2563919,\n",
       " 4209173,\n",
       " 970767,\n",
       " 13779587,\n",
       " 3804446,\n",
       " 8328967,\n",
       " 29502195,\n",
       " 30505253,\n",
       " 10038548,\n",
       " 38263113,\n",
       " 21468453,\n",
       " 36771061,\n",
       " 13629732,\n",
       " 31021897,\n",
       " 26567189,\n",
       " 10767994,\n",
       " 21730654,\n",
       " 27425497,\n",
       " 267268,\n",
       " 22165535,\n",
       " 34592321,\n",
       " 16137147,\n",
       " 29422000,\n",
       " 18329232,\n",
       " 32752089,\n",
       " 3964537,\n",
       " 11495593,\n",
       " 6207693,\n",
       " 18239457,\n",
       " 5928801,\n",
       " 18925127,\n",
       " 23582392,\n",
       " 33972815,\n",
       " 31435768,\n",
       " 31258121,\n",
       " 2523704,\n",
       " 1162329,\n",
       " 30054838,\n",
       " 33872495,\n",
       " 22436840,\n",
       " 28297505]"
      ]
     },
     "execution_count": 3,
     "metadata": {},
     "output_type": "execute_result"
    }
   ],
   "source": [
    "data[\"machine learning\"]"
   ]
  },
  {
   "cell_type": "code",
   "execution_count": 4,
   "metadata": {},
   "outputs": [],
   "source": [
    "data = Counter(data)"
   ]
  },
  {
   "cell_type": "code",
   "execution_count": 8,
   "metadata": {},
   "outputs": [
    {
     "data": {
      "text/plain": [
       "18507"
      ]
     },
     "execution_count": 8,
     "metadata": {},
     "output_type": "execute_result"
    }
   ],
   "source": [
    "len({k:v for k,v in data.items() if v >= 100})"
   ]
  },
  {
   "cell_type": "code",
   "execution_count": 2,
   "metadata": {},
   "outputs": [
    {
     "name": "stderr",
     "output_type": "stream",
     "text": [
      "/home/lamdo/.local/lib/python3.10/site-packages/tqdm/auto.py:21: TqdmWarning: IProgress not found. Please update jupyter and ipywidgets. See https://ipywidgets.readthedocs.io/en/stable/user_install.html\n",
      "  from .autonotebook import tqdm as notebook_tqdm\n"
     ]
    }
   ],
   "source": [
    "from datasets import load_dataset"
   ]
  },
  {
   "cell_type": "code",
   "execution_count": 3,
   "metadata": {},
   "outputs": [],
   "source": [
    "ds = load_dataset(\"sentence-transformers/s2orc\", \"title-abstract-pair\")"
   ]
  },
  {
   "cell_type": "code",
   "execution_count": 5,
   "metadata": {},
   "outputs": [
    {
     "data": {
      "text/plain": [
       "{'title': 'TLR pathway-miRNA interplay in mesenchymal stromal cells: Regulatory roles and therapeutic directions',\n",
       " 'abstract': 'Mesenchymal stromal cells (MSCs) deploy Toll-like receptors (TLRs) to respond to exogenous and endogenous signals. Activation of TLR pathways in MSCs alters their inflammatory profile and immunomodulatory effects on cells from both the innate and adaptive immune systems. Micro-RNAs (miRNAs), whose expression is modulated by TLR activation, can regulate inflammatory responses by targeting components of the TLR signaling pathways either in MSCs or in the cells with which they interact. Here, we review how the miRNA-TLR pathway axis can regulate the immunomodulatory functions of MSCs, including their interactions with monocytes/macrophages and natural killer cells, and discuss the therapeutic implications for MSC-based therapies. Stem Cells 2018;36:1655-1662.'}"
      ]
     },
     "execution_count": 5,
     "metadata": {},
     "output_type": "execute_result"
    }
   ],
   "source": [
    "ds[\"train\"][27174669]"
   ]
  },
  {
   "cell_type": "code",
   "execution_count": 1,
   "metadata": {},
   "outputs": [],
   "source": [
    "import json\n",
    "\n",
    "with open(\"/scratch/lamdo/s2orc_phrase_vocab/1.json\") as f:\n",
    "    data = json.load(f)"
   ]
  },
  {
   "cell_type": "code",
   "execution_count": 3,
   "metadata": {},
   "outputs": [
    {
     "data": {
      "text/plain": [
       "'neck'"
      ]
     },
     "execution_count": 3,
     "metadata": {},
     "output_type": "execute_result"
    }
   ],
   "source": [
    "list(data.keys())[0]"
   ]
  },
  {
   "cell_type": "code",
   "execution_count": 2,
   "metadata": {},
   "outputs": [
    {
     "data": {
      "text/plain": [
       "[15284982,\n",
       " 32692805,\n",
       " 27455333,\n",
       " 25818713,\n",
       " 2912112,\n",
       " 24325752,\n",
       " 28408726,\n",
       " 1931548,\n",
       " 16033671,\n",
       " 25577645]"
      ]
     },
     "execution_count": 2,
     "metadata": {},
     "output_type": "execute_result"
    }
   ],
   "source": [
    "data[\"machine learning\"][:10]"
   ]
  },
  {
   "cell_type": "code",
   "execution_count": 4,
   "metadata": {},
   "outputs": [
    {
     "data": {
      "text/plain": [
       "{'title': 'Machine Learning for Global Optimization',\n",
       " 'abstract': 'In this paper we introduce the LeGO (Learning for Global Optimization) approach for global optimization in which machine learning is used to predict the outcome of a computationally expensive global optimization run, based upon a suitable training performed by standard runs of the same global optimization method. We propose to use a Support Vector Machine (although different machine learning tools might be employed) to learn the relationship between the starting point of an algorithm and the final outcome (which is usually related to the function value at the point returned by the procedure). Numerical experiments performed both on classical test functions and on difficult space trajectory planning problems show that the proposed approach can be very effective in identifying good starting points for global optimization.'}"
      ]
     },
     "execution_count": 4,
     "metadata": {},
     "output_type": "execute_result"
    }
   ],
   "source": [
    "ds[\"train\"][15284982]"
   ]
  },
  {
   "cell_type": "code",
   "execution_count": 1,
   "metadata": {},
   "outputs": [],
   "source": [
    "import json\n",
    "\n",
    "\n",
    "with open(\"/scratch/lamdo/s2orc_word_vocab/0.json\") as f:\n",
    "    test = json.load(f)"
   ]
  },
  {
   "cell_type": "code",
   "execution_count": 3,
   "metadata": {},
   "outputs": [
    {
     "data": {
      "text/plain": [
       "529791"
      ]
     },
     "execution_count": 3,
     "metadata": {},
     "output_type": "execute_result"
    }
   ],
   "source": [
    "len(test)"
   ]
  },
  {
   "cell_type": "code",
   "execution_count": null,
   "metadata": {},
   "outputs": [],
   "source": []
  }
 ],
 "metadata": {
  "kernelspec": {
   "display_name": "venv310",
   "language": "python",
   "name": "python3"
  },
  "language_info": {
   "codemirror_mode": {
    "name": "ipython",
    "version": 3
   },
   "file_extension": ".py",
   "mimetype": "text/x-python",
   "name": "python",
   "nbconvert_exporter": "python",
   "pygments_lexer": "ipython3",
   "version": "3.10.14"
  }
 },
 "nbformat": 4,
 "nbformat_minor": 2
}
